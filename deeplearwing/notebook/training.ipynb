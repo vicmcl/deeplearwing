{
  "cells": [
    {
      "cell_type": "markdown",
      "metadata": {
        "id": "view-in-github",
        "colab_type": "text"
      },
      "source": [
        "<a href=\"https://colab.research.google.com/github/vicmcl/deeplearwing/blob/main/deeplearwing/notebook/training.ipynb\" target=\"_parent\"><img src=\"https://colab.research.google.com/assets/colab-badge.svg\" alt=\"Open In Colab\"/></a>"
      ]
    },
    {
      "cell_type": "code",
      "source": [
        "%reload_ext autoreload\n",
        "%autoreload 2"
      ],
      "metadata": {
        "id": "dcFczH-gK1wv"
      },
      "execution_count": 1,
      "outputs": []
    },
    {
      "cell_type": "code",
      "execution_count": 2,
      "metadata": {
        "id": "msfdXxljIwxS"
      },
      "outputs": [],
      "source": [
        "from pathlib import Path\n",
        "import os\n",
        "import glob"
      ]
    },
    {
      "cell_type": "code",
      "source": [
        "from google.colab import drive\n",
        "\n",
        "drive.flush_and_unmount()\n",
        "drive.mount('/content/drive')\n",
        "DRIVE_PATH = Path(\"/content/drive/MyDrive/\")\n",
        "ML_PATH = DRIVE_PATH / \"Projects\" / \"deeplearwing\""
      ],
      "metadata": {
        "colab": {
          "base_uri": "https://localhost:8080/"
        },
        "id": "DbmiQhx2N26L",
        "outputId": "dffed030-261b-4ec6-f5bd-a73c223ec774"
      },
      "execution_count": 3,
      "outputs": [
        {
          "output_type": "stream",
          "name": "stdout",
          "text": [
            "Drive not mounted, so nothing to flush and unmount.\n",
            "Mounted at /content/drive\n"
          ]
        }
      ]
    },
    {
      "cell_type": "code",
      "execution_count": 4,
      "metadata": {
        "colab": {
          "base_uri": "https://localhost:8080/"
        },
        "id": "rVUA0P-XgUfv",
        "outputId": "84064c4c-10de-46a3-a117-20d1d8765c98"
      },
      "outputs": [
        {
          "output_type": "stream",
          "name": "stdout",
          "text": [
            "Cloning into 'deeplearwing'...\n",
            "remote: Enumerating objects: 262, done.\u001b[K\n",
            "remote: Counting objects: 100% (212/212), done.\u001b[K\n",
            "remote: Compressing objects: 100% (143/143), done.\u001b[K\n",
            "remote: Total 262 (delta 106), reused 132 (delta 63), pack-reused 50\u001b[K\n",
            "Receiving objects: 100% (262/262), 30.90 MiB | 12.54 MiB/s, done.\n",
            "Resolving deltas: 100% (126/126), done.\n"
          ]
        }
      ],
      "source": [
        "!git clone https://github.com/vicmcl/deeplearwing.git"
      ]
    },
    {
      "cell_type": "code",
      "source": [
        "DATASET = \"victorienmichel/deeplearwing\"\n",
        "CONTENT_PATH = Path('/content')\n",
        "PROJECT_PATH = CONTENT_PATH / 'deeplearwing'\n",
        "DATA_PATH = PROJECT_PATH / 'data'\n",
        "ZIP_FILE = DATASET.split('/')[-1].lower() + '.zip'"
      ],
      "metadata": {
        "id": "FM_Fyn1sun2A"
      },
      "execution_count": 5,
      "outputs": []
    },
    {
      "cell_type": "code",
      "source": [
        "!cd {PROJECT_PATH} && git pull origin main\n",
        "!cp -r {PROJECT_PATH / 'deeplearwing' / 'src'} {CONTENT_PATH}"
      ],
      "metadata": {
        "colab": {
          "base_uri": "https://localhost:8080/"
        },
        "id": "UmBX09ODuesq",
        "outputId": "7ae94666-cb74-4055-8ec0-1a4c59f736dc"
      },
      "execution_count": 6,
      "outputs": [
        {
          "output_type": "stream",
          "name": "stdout",
          "text": [
            "From https://github.com/vicmcl/deeplearwing\n",
            " * branch            main       -> FETCH_HEAD\n",
            "Already up to date.\n"
          ]
        }
      ]
    },
    {
      "cell_type": "code",
      "execution_count": 7,
      "metadata": {
        "id": "87FAKyT9b0v8",
        "colab": {
          "base_uri": "https://localhost:8080/"
        },
        "outputId": "619e0e20-2dab-45c9-b9a6-bd9170ec8d18"
      },
      "outputs": [
        {
          "output_type": "stream",
          "name": "stdout",
          "text": [
            "Creating /content/deeplearwing/data\n",
            "Dataset URL: https://www.kaggle.com/datasets/victorienmichel/deeplearwing\n",
            "License(s): MIT\n",
            "Downloading deeplearwing.zip to /content/deeplearwing/data\n",
            " 93% 17.0M/18.3M [00:02<00:00, 7.79MB/s]\n",
            "100% 18.3M/18.3M [00:02<00:00, 7.42MB/s]\n",
            "Archive:  /content/deeplearwing/data/deeplearwing.zip\n",
            "  inflating: /content/deeplearwing/data/DeepLearWing.csv  \n"
          ]
        }
      ],
      "source": [
        "if not os.path.exists(DATA_PATH):\n",
        "    print(f'Creating {DATA_PATH}')\n",
        "    os.makedirs(DATA_PATH)\n",
        "\n",
        "if not glob.glob(str(DATA_PATH / '*.csv')):\n",
        "\n",
        "    if not os.path.exists(PROJECT_PATH / ZIP_FILE):\n",
        "        !kaggle datasets download -d {DATASET} -p {DATA_PATH}\n",
        "\n",
        "    !unzip {DATA_PATH / ZIP_FILE} -d {DATA_PATH}\n",
        "    !rm {DATA_PATH / ZIP_FILE}"
      ]
    },
    {
      "cell_type": "code",
      "source": [
        "!pip install -q aerosandbox"
      ],
      "metadata": {
        "colab": {
          "base_uri": "https://localhost:8080/"
        },
        "id": "Gp9RzrWStZqu",
        "outputId": "e337f495-e4d1-4ada-852c-e45cad5ec953"
      },
      "execution_count": 10,
      "outputs": [
        {
          "output_type": "stream",
          "name": "stdout",
          "text": [
            "\u001b[2K     \u001b[90m━━━━━━━━━━━━━━━━━━━━━━━━━━━━━━━━━━━━━━━━\u001b[0m \u001b[32m72.3/72.3 MB\u001b[0m \u001b[31m15.4 MB/s\u001b[0m eta \u001b[36m0:00:00\u001b[0m\n",
            "\u001b[2K     \u001b[90m━━━━━━━━━━━━━━━━━━━━━━━━━━━━━━━━━━━━━━━━\u001b[0m \u001b[32m116.3/116.3 kB\u001b[0m \u001b[31m16.0 MB/s\u001b[0m eta \u001b[36m0:00:00\u001b[0m\n",
            "\u001b[2K     \u001b[90m━━━━━━━━━━━━━━━━━━━━━━━━━━━━━━━━━━━━━━━━\u001b[0m \u001b[32m20.3/20.3 MB\u001b[0m \u001b[31m73.8 MB/s\u001b[0m eta \u001b[36m0:00:00\u001b[0m\n",
            "\u001b[?25h"
          ]
        }
      ]
    },
    {
      "cell_type": "code",
      "execution_count": 11,
      "metadata": {
        "id": "3uiaFF5atYhW"
      },
      "outputs": [],
      "source": [
        "import pandas as pd\n",
        "import matplotlib.pyplot as plt\n",
        "import numpy as np\n",
        "\n",
        "from sklearn.model_selection import train_test_split\n",
        "from sklearn.preprocessing import StandardScaler, MinMaxScaler\n",
        "\n",
        "from src.features import string_to_floats\n",
        "from src.plot import airfoil_to_image\n",
        "from src.curvature_heatmap import compute_curvature\n",
        "from src.checkpoint import checkpoint"
      ]
    },
    {
      "cell_type": "code",
      "execution_count": 12,
      "metadata": {
        "colab": {
          "base_uri": "https://localhost:8080/",
          "height": 293
        },
        "id": "0hDkdyIScBw-",
        "outputId": "588b56dc-52d4-4918-a0bb-27856b3550c9"
      },
      "outputs": [
        {
          "output_type": "execute_result",
          "data": {
            "text/plain": [
              "    name  angle  reynolds                                           x_coords  \\\n",
              "0  2032c  -8.75    200000  1.0 0.95 0.9 0.8 0.7 0.6 0.5 0.4 0.3 0.25 0.2 ...   \n",
              "1  2032c  -8.50    200000  1.0 0.95 0.9 0.8 0.7 0.6 0.5 0.4 0.3 0.25 0.2 ...   \n",
              "2  2032c  -8.25    200000  1.0 0.95 0.9 0.8 0.7 0.6 0.5 0.4 0.3 0.25 0.2 ...   \n",
              "3  2032c  -8.00    200000  1.0 0.95 0.9 0.8 0.7 0.6 0.5 0.4 0.3 0.25 0.2 ...   \n",
              "4  2032c  -7.75    200000  1.0 0.95 0.9 0.8 0.7 0.6 0.5 0.4 0.3 0.25 0.2 ...   \n",
              "\n",
              "                                            y_coords       cd      cl      cm  \n",
              "0  0.0016 0.0124 0.0229 0.0428 0.061 0.0771 0.090...  0.09761 -0.1581 -0.0262  \n",
              "1  0.0016 0.0124 0.0229 0.0428 0.061 0.0771 0.090...  0.09468 -0.1536 -0.0262  \n",
              "2  0.0016 0.0124 0.0229 0.0428 0.061 0.0771 0.090...  0.10671 -0.2407 -0.0219  \n",
              "3  0.0016 0.0124 0.0229 0.0428 0.061 0.0771 0.090...  0.10247 -0.2303 -0.0213  \n",
              "4  0.0016 0.0124 0.0229 0.0428 0.061 0.0771 0.090...  0.09947 -0.2229 -0.0215  "
            ],
            "text/html": [
              "\n",
              "  <div id=\"df-f2e81b11-a065-49c4-b07c-beb160f695b0\" class=\"colab-df-container\">\n",
              "    <div>\n",
              "<style scoped>\n",
              "    .dataframe tbody tr th:only-of-type {\n",
              "        vertical-align: middle;\n",
              "    }\n",
              "\n",
              "    .dataframe tbody tr th {\n",
              "        vertical-align: top;\n",
              "    }\n",
              "\n",
              "    .dataframe thead th {\n",
              "        text-align: right;\n",
              "    }\n",
              "</style>\n",
              "<table border=\"1\" class=\"dataframe\">\n",
              "  <thead>\n",
              "    <tr style=\"text-align: right;\">\n",
              "      <th></th>\n",
              "      <th>name</th>\n",
              "      <th>angle</th>\n",
              "      <th>reynolds</th>\n",
              "      <th>x_coords</th>\n",
              "      <th>y_coords</th>\n",
              "      <th>cd</th>\n",
              "      <th>cl</th>\n",
              "      <th>cm</th>\n",
              "    </tr>\n",
              "  </thead>\n",
              "  <tbody>\n",
              "    <tr>\n",
              "      <th>0</th>\n",
              "      <td>2032c</td>\n",
              "      <td>-8.75</td>\n",
              "      <td>200000</td>\n",
              "      <td>1.0 0.95 0.9 0.8 0.7 0.6 0.5 0.4 0.3 0.25 0.2 ...</td>\n",
              "      <td>0.0016 0.0124 0.0229 0.0428 0.061 0.0771 0.090...</td>\n",
              "      <td>0.09761</td>\n",
              "      <td>-0.1581</td>\n",
              "      <td>-0.0262</td>\n",
              "    </tr>\n",
              "    <tr>\n",
              "      <th>1</th>\n",
              "      <td>2032c</td>\n",
              "      <td>-8.50</td>\n",
              "      <td>200000</td>\n",
              "      <td>1.0 0.95 0.9 0.8 0.7 0.6 0.5 0.4 0.3 0.25 0.2 ...</td>\n",
              "      <td>0.0016 0.0124 0.0229 0.0428 0.061 0.0771 0.090...</td>\n",
              "      <td>0.09468</td>\n",
              "      <td>-0.1536</td>\n",
              "      <td>-0.0262</td>\n",
              "    </tr>\n",
              "    <tr>\n",
              "      <th>2</th>\n",
              "      <td>2032c</td>\n",
              "      <td>-8.25</td>\n",
              "      <td>200000</td>\n",
              "      <td>1.0 0.95 0.9 0.8 0.7 0.6 0.5 0.4 0.3 0.25 0.2 ...</td>\n",
              "      <td>0.0016 0.0124 0.0229 0.0428 0.061 0.0771 0.090...</td>\n",
              "      <td>0.10671</td>\n",
              "      <td>-0.2407</td>\n",
              "      <td>-0.0219</td>\n",
              "    </tr>\n",
              "    <tr>\n",
              "      <th>3</th>\n",
              "      <td>2032c</td>\n",
              "      <td>-8.00</td>\n",
              "      <td>200000</td>\n",
              "      <td>1.0 0.95 0.9 0.8 0.7 0.6 0.5 0.4 0.3 0.25 0.2 ...</td>\n",
              "      <td>0.0016 0.0124 0.0229 0.0428 0.061 0.0771 0.090...</td>\n",
              "      <td>0.10247</td>\n",
              "      <td>-0.2303</td>\n",
              "      <td>-0.0213</td>\n",
              "    </tr>\n",
              "    <tr>\n",
              "      <th>4</th>\n",
              "      <td>2032c</td>\n",
              "      <td>-7.75</td>\n",
              "      <td>200000</td>\n",
              "      <td>1.0 0.95 0.9 0.8 0.7 0.6 0.5 0.4 0.3 0.25 0.2 ...</td>\n",
              "      <td>0.0016 0.0124 0.0229 0.0428 0.061 0.0771 0.090...</td>\n",
              "      <td>0.09947</td>\n",
              "      <td>-0.2229</td>\n",
              "      <td>-0.0215</td>\n",
              "    </tr>\n",
              "  </tbody>\n",
              "</table>\n",
              "</div>\n",
              "    <div class=\"colab-df-buttons\">\n",
              "\n",
              "  <div class=\"colab-df-container\">\n",
              "    <button class=\"colab-df-convert\" onclick=\"convertToInteractive('df-f2e81b11-a065-49c4-b07c-beb160f695b0')\"\n",
              "            title=\"Convert this dataframe to an interactive table.\"\n",
              "            style=\"display:none;\">\n",
              "\n",
              "  <svg xmlns=\"http://www.w3.org/2000/svg\" height=\"24px\" viewBox=\"0 -960 960 960\">\n",
              "    <path d=\"M120-120v-720h720v720H120Zm60-500h600v-160H180v160Zm220 220h160v-160H400v160Zm0 220h160v-160H400v160ZM180-400h160v-160H180v160Zm440 0h160v-160H620v160ZM180-180h160v-160H180v160Zm440 0h160v-160H620v160Z\"/>\n",
              "  </svg>\n",
              "    </button>\n",
              "\n",
              "  <style>\n",
              "    .colab-df-container {\n",
              "      display:flex;\n",
              "      gap: 12px;\n",
              "    }\n",
              "\n",
              "    .colab-df-convert {\n",
              "      background-color: #E8F0FE;\n",
              "      border: none;\n",
              "      border-radius: 50%;\n",
              "      cursor: pointer;\n",
              "      display: none;\n",
              "      fill: #1967D2;\n",
              "      height: 32px;\n",
              "      padding: 0 0 0 0;\n",
              "      width: 32px;\n",
              "    }\n",
              "\n",
              "    .colab-df-convert:hover {\n",
              "      background-color: #E2EBFA;\n",
              "      box-shadow: 0px 1px 2px rgba(60, 64, 67, 0.3), 0px 1px 3px 1px rgba(60, 64, 67, 0.15);\n",
              "      fill: #174EA6;\n",
              "    }\n",
              "\n",
              "    .colab-df-buttons div {\n",
              "      margin-bottom: 4px;\n",
              "    }\n",
              "\n",
              "    [theme=dark] .colab-df-convert {\n",
              "      background-color: #3B4455;\n",
              "      fill: #D2E3FC;\n",
              "    }\n",
              "\n",
              "    [theme=dark] .colab-df-convert:hover {\n",
              "      background-color: #434B5C;\n",
              "      box-shadow: 0px 1px 3px 1px rgba(0, 0, 0, 0.15);\n",
              "      filter: drop-shadow(0px 1px 2px rgba(0, 0, 0, 0.3));\n",
              "      fill: #FFFFFF;\n",
              "    }\n",
              "  </style>\n",
              "\n",
              "    <script>\n",
              "      const buttonEl =\n",
              "        document.querySelector('#df-f2e81b11-a065-49c4-b07c-beb160f695b0 button.colab-df-convert');\n",
              "      buttonEl.style.display =\n",
              "        google.colab.kernel.accessAllowed ? 'block' : 'none';\n",
              "\n",
              "      async function convertToInteractive(key) {\n",
              "        const element = document.querySelector('#df-f2e81b11-a065-49c4-b07c-beb160f695b0');\n",
              "        const dataTable =\n",
              "          await google.colab.kernel.invokeFunction('convertToInteractive',\n",
              "                                                    [key], {});\n",
              "        if (!dataTable) return;\n",
              "\n",
              "        const docLinkHtml = 'Like what you see? Visit the ' +\n",
              "          '<a target=\"_blank\" href=https://colab.research.google.com/notebooks/data_table.ipynb>data table notebook</a>'\n",
              "          + ' to learn more about interactive tables.';\n",
              "        element.innerHTML = '';\n",
              "        dataTable['output_type'] = 'display_data';\n",
              "        await google.colab.output.renderOutput(dataTable, element);\n",
              "        const docLink = document.createElement('div');\n",
              "        docLink.innerHTML = docLinkHtml;\n",
              "        element.appendChild(docLink);\n",
              "      }\n",
              "    </script>\n",
              "  </div>\n",
              "\n",
              "\n",
              "<div id=\"df-b43e3a2b-9982-4d15-8072-af8c1a87c9ae\">\n",
              "  <button class=\"colab-df-quickchart\" onclick=\"quickchart('df-b43e3a2b-9982-4d15-8072-af8c1a87c9ae')\"\n",
              "            title=\"Suggest charts\"\n",
              "            style=\"display:none;\">\n",
              "\n",
              "<svg xmlns=\"http://www.w3.org/2000/svg\" height=\"24px\"viewBox=\"0 0 24 24\"\n",
              "     width=\"24px\">\n",
              "    <g>\n",
              "        <path d=\"M19 3H5c-1.1 0-2 .9-2 2v14c0 1.1.9 2 2 2h14c1.1 0 2-.9 2-2V5c0-1.1-.9-2-2-2zM9 17H7v-7h2v7zm4 0h-2V7h2v10zm4 0h-2v-4h2v4z\"/>\n",
              "    </g>\n",
              "</svg>\n",
              "  </button>\n",
              "\n",
              "<style>\n",
              "  .colab-df-quickchart {\n",
              "      --bg-color: #E8F0FE;\n",
              "      --fill-color: #1967D2;\n",
              "      --hover-bg-color: #E2EBFA;\n",
              "      --hover-fill-color: #174EA6;\n",
              "      --disabled-fill-color: #AAA;\n",
              "      --disabled-bg-color: #DDD;\n",
              "  }\n",
              "\n",
              "  [theme=dark] .colab-df-quickchart {\n",
              "      --bg-color: #3B4455;\n",
              "      --fill-color: #D2E3FC;\n",
              "      --hover-bg-color: #434B5C;\n",
              "      --hover-fill-color: #FFFFFF;\n",
              "      --disabled-bg-color: #3B4455;\n",
              "      --disabled-fill-color: #666;\n",
              "  }\n",
              "\n",
              "  .colab-df-quickchart {\n",
              "    background-color: var(--bg-color);\n",
              "    border: none;\n",
              "    border-radius: 50%;\n",
              "    cursor: pointer;\n",
              "    display: none;\n",
              "    fill: var(--fill-color);\n",
              "    height: 32px;\n",
              "    padding: 0;\n",
              "    width: 32px;\n",
              "  }\n",
              "\n",
              "  .colab-df-quickchart:hover {\n",
              "    background-color: var(--hover-bg-color);\n",
              "    box-shadow: 0 1px 2px rgba(60, 64, 67, 0.3), 0 1px 3px 1px rgba(60, 64, 67, 0.15);\n",
              "    fill: var(--button-hover-fill-color);\n",
              "  }\n",
              "\n",
              "  .colab-df-quickchart-complete:disabled,\n",
              "  .colab-df-quickchart-complete:disabled:hover {\n",
              "    background-color: var(--disabled-bg-color);\n",
              "    fill: var(--disabled-fill-color);\n",
              "    box-shadow: none;\n",
              "  }\n",
              "\n",
              "  .colab-df-spinner {\n",
              "    border: 2px solid var(--fill-color);\n",
              "    border-color: transparent;\n",
              "    border-bottom-color: var(--fill-color);\n",
              "    animation:\n",
              "      spin 1s steps(1) infinite;\n",
              "  }\n",
              "\n",
              "  @keyframes spin {\n",
              "    0% {\n",
              "      border-color: transparent;\n",
              "      border-bottom-color: var(--fill-color);\n",
              "      border-left-color: var(--fill-color);\n",
              "    }\n",
              "    20% {\n",
              "      border-color: transparent;\n",
              "      border-left-color: var(--fill-color);\n",
              "      border-top-color: var(--fill-color);\n",
              "    }\n",
              "    30% {\n",
              "      border-color: transparent;\n",
              "      border-left-color: var(--fill-color);\n",
              "      border-top-color: var(--fill-color);\n",
              "      border-right-color: var(--fill-color);\n",
              "    }\n",
              "    40% {\n",
              "      border-color: transparent;\n",
              "      border-right-color: var(--fill-color);\n",
              "      border-top-color: var(--fill-color);\n",
              "    }\n",
              "    60% {\n",
              "      border-color: transparent;\n",
              "      border-right-color: var(--fill-color);\n",
              "    }\n",
              "    80% {\n",
              "      border-color: transparent;\n",
              "      border-right-color: var(--fill-color);\n",
              "      border-bottom-color: var(--fill-color);\n",
              "    }\n",
              "    90% {\n",
              "      border-color: transparent;\n",
              "      border-bottom-color: var(--fill-color);\n",
              "    }\n",
              "  }\n",
              "</style>\n",
              "\n",
              "  <script>\n",
              "    async function quickchart(key) {\n",
              "      const quickchartButtonEl =\n",
              "        document.querySelector('#' + key + ' button');\n",
              "      quickchartButtonEl.disabled = true;  // To prevent multiple clicks.\n",
              "      quickchartButtonEl.classList.add('colab-df-spinner');\n",
              "      try {\n",
              "        const charts = await google.colab.kernel.invokeFunction(\n",
              "            'suggestCharts', [key], {});\n",
              "      } catch (error) {\n",
              "        console.error('Error during call to suggestCharts:', error);\n",
              "      }\n",
              "      quickchartButtonEl.classList.remove('colab-df-spinner');\n",
              "      quickchartButtonEl.classList.add('colab-df-quickchart-complete');\n",
              "    }\n",
              "    (() => {\n",
              "      let quickchartButtonEl =\n",
              "        document.querySelector('#df-b43e3a2b-9982-4d15-8072-af8c1a87c9ae button');\n",
              "      quickchartButtonEl.style.display =\n",
              "        google.colab.kernel.accessAllowed ? 'block' : 'none';\n",
              "    })();\n",
              "  </script>\n",
              "</div>\n",
              "\n",
              "    </div>\n",
              "  </div>\n"
            ],
            "application/vnd.google.colaboratory.intrinsic+json": {
              "type": "dataframe",
              "variable_name": "df_csv"
            }
          },
          "metadata": {},
          "execution_count": 12
        }
      ],
      "source": [
        "df_csv = pd.read_csv(DATA_PATH / 'DeepLearWing.csv')\n",
        "df_csv.head()"
      ]
    },
    {
      "cell_type": "code",
      "source": [
        "n_samples = 10_000\n",
        "df = df_csv.sample(n = n_samples, random_state = 42).copy()"
      ],
      "metadata": {
        "id": "DSJQAUtZyE1M"
      },
      "execution_count": 13,
      "outputs": []
    },
    {
      "cell_type": "code",
      "source": [
        "targets = ['cd', 'cl', 'cm']\n",
        "df['target'] = df.apply(lambda row: [row[t] for t in targets], axis = 1)\n",
        "df = df.drop(columns = targets)"
      ],
      "metadata": {
        "id": "IIk0LNbxvemi"
      },
      "execution_count": 15,
      "outputs": []
    },
    {
      "cell_type": "code",
      "source": [
        "mms = MinMaxScaler()\n",
        "\n",
        "df.loc[:, ['angle', 'reynolds']] = mms.fit_transform(df[['angle', 'reynolds']])\n",
        "df.loc[:, ['x_coords', 'y_coords']] = df[['x_coords', 'y_coords']].applymap(string_to_floats)"
      ],
      "metadata": {
        "id": "jO9sxSMMvctl"
      },
      "execution_count": 16,
      "outputs": []
    },
    {
      "cell_type": "code",
      "source": [
        "df.head()"
      ],
      "metadata": {
        "colab": {
          "base_uri": "https://localhost:8080/",
          "height": 293
        },
        "id": "F4ihHpWMUjpt",
        "outputId": "e33aad30-32b8-4c72-d10f-aebc7c1721cf"
      },
      "execution_count": 17,
      "outputs": [
        {
          "output_type": "execute_result",
          "data": {
            "text/plain": [
              "            name     angle  reynolds  \\\n",
              "51063   fx84w127  0.823899  0.157895   \n",
              "802509     s8052  0.308176  0.052632   \n",
              "419227    goe505  0.301887  0.000000   \n",
              "132195   npl9660  0.735849  0.157895   \n",
              "542560  fx78k161  0.213836  0.473684   \n",
              "\n",
              "                                                 x_coords  \\\n",
              "51063   [1.0, 0.99893, 0.99572, 0.99039, 0.98296, 0.97...   \n",
              "802509  [1.0, 0.99803, 0.99231, 0.98301, 0.97022, 0.95...   \n",
              "419227  [1.0, 0.94959, 0.89918, 0.7985, 0.69791, 0.597...   \n",
              "132195  [1.0, 0.997614, 0.990418, 0.9785, 0.961985, 0....   \n",
              "542560  [1.0, 0.99893, 0.99572, 0.99039, 0.98296, 0.97...   \n",
              "\n",
              "                                                 y_coords  \\\n",
              "51063   [0.0, 0.00011, 0.0005, 0.0012, 0.0023, 0.00385...   \n",
              "802509  [0.0, 0.00018, 0.00079, 0.00181, 0.0033, 0.005...   \n",
              "419227  [0.0, 0.01784, 0.03568, 0.06537, 0.09105, 0.10...   \n",
              "132195  [0.0013, 0.001763, 0.002031, 0.002194, 0.00332...   \n",
              "542560  [0.0, 0.00103, 0.00172, 0.00262, 0.00365, 0.00...   \n",
              "\n",
              "                             target  \n",
              "51063    [0.05087, 1.2399, -0.0276]  \n",
              "802509  [0.05237, -0.6183, -0.0372]  \n",
              "419227  [0.12606, -0.3704, -0.0127]  \n",
              "132195     [0.02425, 1.0313, 0.005]  \n",
              "542560  [0.03212, -0.7401, -0.0718]  "
            ],
            "text/html": [
              "\n",
              "  <div id=\"df-af2c57cf-ca82-417d-b1bb-dd37f3065654\" class=\"colab-df-container\">\n",
              "    <div>\n",
              "<style scoped>\n",
              "    .dataframe tbody tr th:only-of-type {\n",
              "        vertical-align: middle;\n",
              "    }\n",
              "\n",
              "    .dataframe tbody tr th {\n",
              "        vertical-align: top;\n",
              "    }\n",
              "\n",
              "    .dataframe thead th {\n",
              "        text-align: right;\n",
              "    }\n",
              "</style>\n",
              "<table border=\"1\" class=\"dataframe\">\n",
              "  <thead>\n",
              "    <tr style=\"text-align: right;\">\n",
              "      <th></th>\n",
              "      <th>name</th>\n",
              "      <th>angle</th>\n",
              "      <th>reynolds</th>\n",
              "      <th>x_coords</th>\n",
              "      <th>y_coords</th>\n",
              "      <th>target</th>\n",
              "    </tr>\n",
              "  </thead>\n",
              "  <tbody>\n",
              "    <tr>\n",
              "      <th>51063</th>\n",
              "      <td>fx84w127</td>\n",
              "      <td>0.823899</td>\n",
              "      <td>0.157895</td>\n",
              "      <td>[1.0, 0.99893, 0.99572, 0.99039, 0.98296, 0.97...</td>\n",
              "      <td>[0.0, 0.00011, 0.0005, 0.0012, 0.0023, 0.00385...</td>\n",
              "      <td>[0.05087, 1.2399, -0.0276]</td>\n",
              "    </tr>\n",
              "    <tr>\n",
              "      <th>802509</th>\n",
              "      <td>s8052</td>\n",
              "      <td>0.308176</td>\n",
              "      <td>0.052632</td>\n",
              "      <td>[1.0, 0.99803, 0.99231, 0.98301, 0.97022, 0.95...</td>\n",
              "      <td>[0.0, 0.00018, 0.00079, 0.00181, 0.0033, 0.005...</td>\n",
              "      <td>[0.05237, -0.6183, -0.0372]</td>\n",
              "    </tr>\n",
              "    <tr>\n",
              "      <th>419227</th>\n",
              "      <td>goe505</td>\n",
              "      <td>0.301887</td>\n",
              "      <td>0.000000</td>\n",
              "      <td>[1.0, 0.94959, 0.89918, 0.7985, 0.69791, 0.597...</td>\n",
              "      <td>[0.0, 0.01784, 0.03568, 0.06537, 0.09105, 0.10...</td>\n",
              "      <td>[0.12606, -0.3704, -0.0127]</td>\n",
              "    </tr>\n",
              "    <tr>\n",
              "      <th>132195</th>\n",
              "      <td>npl9660</td>\n",
              "      <td>0.735849</td>\n",
              "      <td>0.157895</td>\n",
              "      <td>[1.0, 0.997614, 0.990418, 0.9785, 0.961985, 0....</td>\n",
              "      <td>[0.0013, 0.001763, 0.002031, 0.002194, 0.00332...</td>\n",
              "      <td>[0.02425, 1.0313, 0.005]</td>\n",
              "    </tr>\n",
              "    <tr>\n",
              "      <th>542560</th>\n",
              "      <td>fx78k161</td>\n",
              "      <td>0.213836</td>\n",
              "      <td>0.473684</td>\n",
              "      <td>[1.0, 0.99893, 0.99572, 0.99039, 0.98296, 0.97...</td>\n",
              "      <td>[0.0, 0.00103, 0.00172, 0.00262, 0.00365, 0.00...</td>\n",
              "      <td>[0.03212, -0.7401, -0.0718]</td>\n",
              "    </tr>\n",
              "  </tbody>\n",
              "</table>\n",
              "</div>\n",
              "    <div class=\"colab-df-buttons\">\n",
              "\n",
              "  <div class=\"colab-df-container\">\n",
              "    <button class=\"colab-df-convert\" onclick=\"convertToInteractive('df-af2c57cf-ca82-417d-b1bb-dd37f3065654')\"\n",
              "            title=\"Convert this dataframe to an interactive table.\"\n",
              "            style=\"display:none;\">\n",
              "\n",
              "  <svg xmlns=\"http://www.w3.org/2000/svg\" height=\"24px\" viewBox=\"0 -960 960 960\">\n",
              "    <path d=\"M120-120v-720h720v720H120Zm60-500h600v-160H180v160Zm220 220h160v-160H400v160Zm0 220h160v-160H400v160ZM180-400h160v-160H180v160Zm440 0h160v-160H620v160ZM180-180h160v-160H180v160Zm440 0h160v-160H620v160Z\"/>\n",
              "  </svg>\n",
              "    </button>\n",
              "\n",
              "  <style>\n",
              "    .colab-df-container {\n",
              "      display:flex;\n",
              "      gap: 12px;\n",
              "    }\n",
              "\n",
              "    .colab-df-convert {\n",
              "      background-color: #E8F0FE;\n",
              "      border: none;\n",
              "      border-radius: 50%;\n",
              "      cursor: pointer;\n",
              "      display: none;\n",
              "      fill: #1967D2;\n",
              "      height: 32px;\n",
              "      padding: 0 0 0 0;\n",
              "      width: 32px;\n",
              "    }\n",
              "\n",
              "    .colab-df-convert:hover {\n",
              "      background-color: #E2EBFA;\n",
              "      box-shadow: 0px 1px 2px rgba(60, 64, 67, 0.3), 0px 1px 3px 1px rgba(60, 64, 67, 0.15);\n",
              "      fill: #174EA6;\n",
              "    }\n",
              "\n",
              "    .colab-df-buttons div {\n",
              "      margin-bottom: 4px;\n",
              "    }\n",
              "\n",
              "    [theme=dark] .colab-df-convert {\n",
              "      background-color: #3B4455;\n",
              "      fill: #D2E3FC;\n",
              "    }\n",
              "\n",
              "    [theme=dark] .colab-df-convert:hover {\n",
              "      background-color: #434B5C;\n",
              "      box-shadow: 0px 1px 3px 1px rgba(0, 0, 0, 0.15);\n",
              "      filter: drop-shadow(0px 1px 2px rgba(0, 0, 0, 0.3));\n",
              "      fill: #FFFFFF;\n",
              "    }\n",
              "  </style>\n",
              "\n",
              "    <script>\n",
              "      const buttonEl =\n",
              "        document.querySelector('#df-af2c57cf-ca82-417d-b1bb-dd37f3065654 button.colab-df-convert');\n",
              "      buttonEl.style.display =\n",
              "        google.colab.kernel.accessAllowed ? 'block' : 'none';\n",
              "\n",
              "      async function convertToInteractive(key) {\n",
              "        const element = document.querySelector('#df-af2c57cf-ca82-417d-b1bb-dd37f3065654');\n",
              "        const dataTable =\n",
              "          await google.colab.kernel.invokeFunction('convertToInteractive',\n",
              "                                                    [key], {});\n",
              "        if (!dataTable) return;\n",
              "\n",
              "        const docLinkHtml = 'Like what you see? Visit the ' +\n",
              "          '<a target=\"_blank\" href=https://colab.research.google.com/notebooks/data_table.ipynb>data table notebook</a>'\n",
              "          + ' to learn more about interactive tables.';\n",
              "        element.innerHTML = '';\n",
              "        dataTable['output_type'] = 'display_data';\n",
              "        await google.colab.output.renderOutput(dataTable, element);\n",
              "        const docLink = document.createElement('div');\n",
              "        docLink.innerHTML = docLinkHtml;\n",
              "        element.appendChild(docLink);\n",
              "      }\n",
              "    </script>\n",
              "  </div>\n",
              "\n",
              "\n",
              "<div id=\"df-42a5b0df-8200-4e3e-ae55-b066d4a80442\">\n",
              "  <button class=\"colab-df-quickchart\" onclick=\"quickchart('df-42a5b0df-8200-4e3e-ae55-b066d4a80442')\"\n",
              "            title=\"Suggest charts\"\n",
              "            style=\"display:none;\">\n",
              "\n",
              "<svg xmlns=\"http://www.w3.org/2000/svg\" height=\"24px\"viewBox=\"0 0 24 24\"\n",
              "     width=\"24px\">\n",
              "    <g>\n",
              "        <path d=\"M19 3H5c-1.1 0-2 .9-2 2v14c0 1.1.9 2 2 2h14c1.1 0 2-.9 2-2V5c0-1.1-.9-2-2-2zM9 17H7v-7h2v7zm4 0h-2V7h2v10zm4 0h-2v-4h2v4z\"/>\n",
              "    </g>\n",
              "</svg>\n",
              "  </button>\n",
              "\n",
              "<style>\n",
              "  .colab-df-quickchart {\n",
              "      --bg-color: #E8F0FE;\n",
              "      --fill-color: #1967D2;\n",
              "      --hover-bg-color: #E2EBFA;\n",
              "      --hover-fill-color: #174EA6;\n",
              "      --disabled-fill-color: #AAA;\n",
              "      --disabled-bg-color: #DDD;\n",
              "  }\n",
              "\n",
              "  [theme=dark] .colab-df-quickchart {\n",
              "      --bg-color: #3B4455;\n",
              "      --fill-color: #D2E3FC;\n",
              "      --hover-bg-color: #434B5C;\n",
              "      --hover-fill-color: #FFFFFF;\n",
              "      --disabled-bg-color: #3B4455;\n",
              "      --disabled-fill-color: #666;\n",
              "  }\n",
              "\n",
              "  .colab-df-quickchart {\n",
              "    background-color: var(--bg-color);\n",
              "    border: none;\n",
              "    border-radius: 50%;\n",
              "    cursor: pointer;\n",
              "    display: none;\n",
              "    fill: var(--fill-color);\n",
              "    height: 32px;\n",
              "    padding: 0;\n",
              "    width: 32px;\n",
              "  }\n",
              "\n",
              "  .colab-df-quickchart:hover {\n",
              "    background-color: var(--hover-bg-color);\n",
              "    box-shadow: 0 1px 2px rgba(60, 64, 67, 0.3), 0 1px 3px 1px rgba(60, 64, 67, 0.15);\n",
              "    fill: var(--button-hover-fill-color);\n",
              "  }\n",
              "\n",
              "  .colab-df-quickchart-complete:disabled,\n",
              "  .colab-df-quickchart-complete:disabled:hover {\n",
              "    background-color: var(--disabled-bg-color);\n",
              "    fill: var(--disabled-fill-color);\n",
              "    box-shadow: none;\n",
              "  }\n",
              "\n",
              "  .colab-df-spinner {\n",
              "    border: 2px solid var(--fill-color);\n",
              "    border-color: transparent;\n",
              "    border-bottom-color: var(--fill-color);\n",
              "    animation:\n",
              "      spin 1s steps(1) infinite;\n",
              "  }\n",
              "\n",
              "  @keyframes spin {\n",
              "    0% {\n",
              "      border-color: transparent;\n",
              "      border-bottom-color: var(--fill-color);\n",
              "      border-left-color: var(--fill-color);\n",
              "    }\n",
              "    20% {\n",
              "      border-color: transparent;\n",
              "      border-left-color: var(--fill-color);\n",
              "      border-top-color: var(--fill-color);\n",
              "    }\n",
              "    30% {\n",
              "      border-color: transparent;\n",
              "      border-left-color: var(--fill-color);\n",
              "      border-top-color: var(--fill-color);\n",
              "      border-right-color: var(--fill-color);\n",
              "    }\n",
              "    40% {\n",
              "      border-color: transparent;\n",
              "      border-right-color: var(--fill-color);\n",
              "      border-top-color: var(--fill-color);\n",
              "    }\n",
              "    60% {\n",
              "      border-color: transparent;\n",
              "      border-right-color: var(--fill-color);\n",
              "    }\n",
              "    80% {\n",
              "      border-color: transparent;\n",
              "      border-right-color: var(--fill-color);\n",
              "      border-bottom-color: var(--fill-color);\n",
              "    }\n",
              "    90% {\n",
              "      border-color: transparent;\n",
              "      border-bottom-color: var(--fill-color);\n",
              "    }\n",
              "  }\n",
              "</style>\n",
              "\n",
              "  <script>\n",
              "    async function quickchart(key) {\n",
              "      const quickchartButtonEl =\n",
              "        document.querySelector('#' + key + ' button');\n",
              "      quickchartButtonEl.disabled = true;  // To prevent multiple clicks.\n",
              "      quickchartButtonEl.classList.add('colab-df-spinner');\n",
              "      try {\n",
              "        const charts = await google.colab.kernel.invokeFunction(\n",
              "            'suggestCharts', [key], {});\n",
              "      } catch (error) {\n",
              "        console.error('Error during call to suggestCharts:', error);\n",
              "      }\n",
              "      quickchartButtonEl.classList.remove('colab-df-spinner');\n",
              "      quickchartButtonEl.classList.add('colab-df-quickchart-complete');\n",
              "    }\n",
              "    (() => {\n",
              "      let quickchartButtonEl =\n",
              "        document.querySelector('#df-42a5b0df-8200-4e3e-ae55-b066d4a80442 button');\n",
              "      quickchartButtonEl.style.display =\n",
              "        google.colab.kernel.accessAllowed ? 'block' : 'none';\n",
              "    })();\n",
              "  </script>\n",
              "</div>\n",
              "\n",
              "    </div>\n",
              "  </div>\n"
            ],
            "application/vnd.google.colaboratory.intrinsic+json": {
              "type": "dataframe",
              "variable_name": "df",
              "summary": "{\n  \"name\": \"df\",\n  \"rows\": 10000,\n  \"fields\": [\n    {\n      \"column\": \"name\",\n      \"properties\": {\n        \"dtype\": \"category\",\n        \"num_unique_values\": 1623,\n        \"samples\": [\n          \"hh02\",\n          \"goe500\",\n          \"goe478\"\n        ],\n        \"semantic_type\": \"\",\n        \"description\": \"\"\n      }\n    },\n    {\n      \"column\": \"angle\",\n      \"properties\": {\n        \"dtype\": \"number\",\n        \"std\": 0.20727797477299165,\n        \"min\": 0.0,\n        \"max\": 1.0,\n        \"num_unique_values\": 159,\n        \"samples\": [\n          0.2578616352201258,\n          0.0062893081761006275,\n          0.9622641509433962\n        ],\n        \"semantic_type\": \"\",\n        \"description\": \"\"\n      }\n    },\n    {\n      \"column\": \"reynolds\",\n      \"properties\": {\n        \"dtype\": \"number\",\n        \"std\": 0.3804521162704044,\n        \"min\": 0.0,\n        \"max\": 1.0,\n        \"num_unique_values\": 5,\n        \"samples\": [\n          0.05263157894736842,\n          1.0,\n          0.0\n        ],\n        \"semantic_type\": \"\",\n        \"description\": \"\"\n      }\n    },\n    {\n      \"column\": \"x_coords\",\n      \"properties\": {\n        \"dtype\": \"object\",\n        \"semantic_type\": \"\",\n        \"description\": \"\"\n      }\n    },\n    {\n      \"column\": \"y_coords\",\n      \"properties\": {\n        \"dtype\": \"object\",\n        \"semantic_type\": \"\",\n        \"description\": \"\"\n      }\n    },\n    {\n      \"column\": \"target\",\n      \"properties\": {\n        \"dtype\": \"object\",\n        \"semantic_type\": \"\",\n        \"description\": \"\"\n      }\n    }\n  ]\n}"
            }
          },
          "metadata": {},
          "execution_count": 17
        }
      ]
    },
    {
      "cell_type": "code",
      "source": [
        "import concurrent.futures\n",
        "\n",
        "w = 300\n",
        "h = 100\n",
        "\n",
        "with concurrent.futures.ThreadPoolExecutor() as executor:\n",
        "    futures_shape = [executor.submit(airfoil_to_image, row['x_coords'], row['y_coords'], w, h) for _, row in df.iterrows()]\n",
        "    results_shape = [future.result() for future in futures_shape]"
      ],
      "metadata": {
        "id": "cZ2OBBzqYaKV"
      },
      "execution_count": 18,
      "outputs": []
    },
    {
      "cell_type": "code",
      "source": [
        "df['shape'] = results_shape"
      ],
      "metadata": {
        "id": "v1ePuLHn4jmy"
      },
      "execution_count": 19,
      "outputs": []
    },
    {
      "cell_type": "code",
      "source": [
        "plt.imshow(results_shape[0], cmap = 'gray')\n",
        "plt.tight_layout()\n",
        "plt.show()"
      ],
      "metadata": {
        "colab": {
          "base_uri": "https://localhost:8080/",
          "height": 259
        },
        "id": "VRmr4DS1UWC9",
        "outputId": "6aaaa305-c787-4d2e-d8ef-2adc40b7eb88"
      },
      "execution_count": 20,
      "outputs": [
        {
          "output_type": "display_data",
          "data": {
            "text/plain": [
              "<Figure size 640x480 with 1 Axes>"
            ],
            "image/png": "[encoded data removed]"
          },
          "metadata": {}
        }
      ]
    },
    {
      "cell_type": "code",
      "source": [
        "avg_airfoil = np.mean(results_shape, axis = 0)\n",
        "plt.imshow(avg_airfoil, cmap='gray')\n",
        "plt.tight_layout()"
      ],
      "metadata": {
        "colab": {
          "base_uri": "https://localhost:8080/",
          "height": 259
        },
        "id": "Imv1P0fXlBOy",
        "outputId": "a42a6277-e9d5-453c-b053-c3633ca145c2"
      },
      "execution_count": 21,
      "outputs": [
        {
          "output_type": "display_data",
          "data": {
            "text/plain": [
              "<Figure size 640x480 with 1 Axes>"
            ],
            "image/png": "[encoded data removed]"
          },
          "metadata": {}
        }
      ]
    },
    {
      "cell_type": "code",
      "source": [
        "df['params'] = [x for x in np.column_stack((df['angle'], df['reynolds']))]"
      ],
      "metadata": {
        "id": "MAohPo1A5BUk"
      },
      "execution_count": 22,
      "outputs": []
    },
    {
      "cell_type": "code",
      "source": [
        "features = ['params', 'shape']\n",
        "\n",
        "X_train, X_test, y_train, y_test = train_test_split(\n",
        "    df[features],\n",
        "    df['target'],\n",
        "    test_size = 0.2,\n",
        "    random_state = 42,\n",
        "    shuffle = True\n",
        ")"
      ],
      "metadata": {
        "id": "ie4vQnVCw_I8"
      },
      "execution_count": 23,
      "outputs": []
    },
    {
      "cell_type": "code",
      "source": [
        "images_train = np.expand_dims(np.array([x for x in X_train['shape']], dtype='float32'), axis = -1)\n",
        "images_test = np.expand_dims(np.array([x for x in X_test['shape']], dtype='float32'), axis = -1)\n",
        "\n",
        "params_train = np.array([x for x in X_train['params']], dtype='float32')\n",
        "params_test = np.array([x for x in X_test['params']], dtype='float32')\n",
        "\n",
        "y_train = np.array([x for x in y_train])\n",
        "y_test = np.array([x for x in y_test])"
      ],
      "metadata": {
        "id": "XLMiwDN1sa11"
      },
      "execution_count": 24,
      "outputs": []
    },
    {
      "cell_type": "code",
      "source": [
        "images_train.shape, images_test.shape, params_train.shape, params_test.shape, y_train.shape, y_test.shape"
      ],
      "metadata": {
        "colab": {
          "base_uri": "https://localhost:8080/"
        },
        "id": "QenWDULT01vD",
        "outputId": "198370ad-6fe2-401b-ee19-6ab4162faa32"
      },
      "execution_count": 25,
      "outputs": [
        {
          "output_type": "execute_result",
          "data": {
            "text/plain": [
              "((8000, 100, 300, 1),\n",
              " (2000, 100, 300, 1),\n",
              " (8000, 2),\n",
              " (2000, 2),\n",
              " (8000, 3),\n",
              " (2000, 3))"
            ]
          },
          "metadata": {},
          "execution_count": 25
        }
      ]
    },
    {
      "cell_type": "code",
      "source": [
        "import seaborn as sns\n",
        "\n",
        "sns.histplot(y_train[:, 2], label = 'cm', bins=100, alpha=0.5)\n",
        "sns.histplot(y_train[:, 0], label = 'cd', bins=100, alpha=0.5)\n",
        "sns.histplot(y_train[:, 1], label = 'cl', bins=100, alpha=0.5)\n",
        "plt.legend()\n",
        "plt.tight_layout()"
      ],
      "metadata": {
        "colab": {
          "base_uri": "https://localhost:8080/",
          "height": 487
        },
        "id": "HM7Sf-nntM-s",
        "outputId": "6460c581-933f-40af-e9e8-870f0153edf8"
      },
      "execution_count": 26,
      "outputs": [
        {
          "output_type": "display_data",
          "data": {
            "text/plain": [
              "<Figure size 640x480 with 1 Axes>"
            ],
            "image/png": "[encoded data removed]"
          },
          "metadata": {}
        }
      ]
    },
    {
      "cell_type": "code",
      "source": [
        "from tensorflow.random import set_seed\n",
        "\n",
        "from tensorflow.keras import backend, Model\n",
        "from tensorflow.keras.callbacks import EarlyStopping, ModelCheckpoint\n",
        "from tensorflow.keras.models import Sequential, load_model\n",
        "from tensorflow.keras.optimizers import Adam\n",
        "from tensorflow.keras.layers import (\n",
        "    Input,\n",
        "    Conv2D,\n",
        "    MaxPooling2D,\n",
        "    ReLU,\n",
        "    Dense,\n",
        "    Flatten,\n",
        "    Dropout,\n",
        "    BatchNormalization,\n",
        "    Concatenate,\n",
        ")"
      ],
      "metadata": {
        "id": "PGqUE6R5k3BL"
      },
      "execution_count": 27,
      "outputs": []
    },
    {
      "cell_type": "code",
      "source": [
        "pip install -q keras-tuner"
      ],
      "metadata": {
        "colab": {
          "base_uri": "https://localhost:8080/"
        },
        "id": "aBJ8WOE2fwU_",
        "outputId": "5c6b5f2e-6592-4ffc-b4aa-311d6449a1d0"
      },
      "execution_count": 28,
      "outputs": [
        {
          "output_type": "stream",
          "name": "stdout",
          "text": [
            "\u001b[?25l     \u001b[90m━━━━━━━━━━━━━━━━━━━━━━━━━━━━━━━━━━━━━━━━\u001b[0m \u001b[32m0.0/129.1 kB\u001b[0m \u001b[31m?\u001b[0m eta \u001b[36m-:--:--\u001b[0m\r\u001b[2K     \u001b[90m━━━━━━━━━━━━━━━━━━━━━━━━━━━━━━━━━━━━━━━━\u001b[0m \u001b[32m129.1/129.1 kB\u001b[0m \u001b[31m4.5 MB/s\u001b[0m eta \u001b[36m0:00:00\u001b[0m\n",
            "\u001b[?25h"
          ]
        }
      ]
    },
    {
      "cell_type": "code",
      "source": [
        "def build_model(hp, channels):\n",
        "\n",
        "    normalization_conv = hp.Choice(\"Normalization_conv\", [\"yes\", \"no\"])\n",
        "    normalization_dense = hp.Choice(\"Normalization_dense\", [\"yes\", \"no\"])\n",
        "\n",
        "    dropout_conv = hp.Choice(\"dropout_conv\", [\"yes\", \"no\"])\n",
        "    dropout_dense = hp.Choice(\"dropout_dense\", [\"yes\", \"no\"])\n",
        "\n",
        "    rate_dropout_conv = hp.Float(\n",
        "        \"rate_dropout_conv\", 0.1, 0.3, step = 0.1, default = 0.3\n",
        "    )\n",
        "    rate_dropout_dense = hp.Float(\n",
        "        \"rate_dropout_dense\", 0.1, 0.3, step = 0.1, default = 0.3\n",
        "    )\n",
        "\n",
        "    # CNN branch\n",
        "    cnn_input = Input(shape=(h, w, channels))\n",
        "    x = cnn_input\n",
        "\n",
        "    for i in range(hp.Int(\"conv_layers\", 2, 4)):\n",
        "        x = Conv2D(\n",
        "            filters=hp.Int(\n",
        "                \"filters_\" + str(i),\n",
        "                32,\n",
        "                128,\n",
        "                sampling = 'log',\n",
        "                step = 2,\n",
        "            ),\n",
        "            kernel_size=hp.Int(\"kernel_size_\" + str(i), 2, 4, step = 1),\n",
        "            activation=\"relu\",\n",
        "            padding=\"same\"\n",
        "        )(x)\n",
        "\n",
        "        x = MaxPooling2D()(x)\n",
        "\n",
        "        if dropout_conv == \"yes\":\n",
        "            x = Dropout(rate = rate_dropout_conv)(x)\n",
        "\n",
        "        if normalization_conv == \"yes\":\n",
        "            x = BatchNormalization()(x)\n",
        "\n",
        "    cnn_output = Flatten()(x)\n",
        "\n",
        "    # ANN branch\n",
        "    ann_input = Input(shape=(2,))\n",
        "    y = ann_input\n",
        "\n",
        "    for i in range(hp.Int(\"dense_layers\", 2, 4)):\n",
        "        ann_output = Dense(\n",
        "            units = hp.Int(\n",
        "                \"ann_neurons_\" + str(i),\n",
        "                32,\n",
        "                128,\n",
        "                sampling = 'log',\n",
        "                step = 2,\n",
        "            ),\n",
        "            activation = \"relu\",\n",
        "        )(y)\n",
        "\n",
        "    # Combine the outputs\n",
        "    combined_inputs = Concatenate()([cnn_output, ann_output])\n",
        "\n",
        "    for i in range(hp.Int(\"combined_dense_layers\", 2, 4)):\n",
        "        combined_output = Dense(\n",
        "            units = hp.Int(\n",
        "                \"combined_neurons_\" + str(i),\n",
        "                32,\n",
        "                128,\n",
        "                sampling = 'log',\n",
        "                step = 2,\n",
        "            ),\n",
        "            activation = \"relu\",\n",
        "        )(combined_inputs)\n",
        "\n",
        "        if dropout_dense == \"yes\":\n",
        "            x = Dropout(rate=rate_dropout_dense)(x)\n",
        "\n",
        "        if normalization_dense == \"yes\":\n",
        "            x = BatchNormalization()(x)\n",
        "\n",
        "    combined_output = Dense(units=3)(combined_output)\n",
        "\n",
        "    # Create the model\n",
        "    combined_model = Model(\n",
        "        inputs = [cnn_input, ann_input],\n",
        "        outputs = combined_output,\n",
        "        name = \"Combined_model\"\n",
        "    )\n",
        "\n",
        "\n",
        "    # Compile the model\n",
        "    combined_model.compile(\n",
        "        loss=\"mse\",\n",
        "        optimizer=Adam(learning_rate=0.0005),\n",
        "        metrics=['mae']\n",
        "    )\n",
        "\n",
        "    return combined_model"
      ],
      "metadata": {
        "id": "AIB8NTsXf7do"
      },
      "execution_count": 29,
      "outputs": []
    },
    {
      "cell_type": "code",
      "source": [
        "import keras_tuner as kt\n",
        "\n",
        "tuner = kt.Hyperband(\n",
        "    hypermodel = lambda hp: build_model(hp, channels=1),\n",
        "    objective = \"val_loss\",\n",
        "    max_epochs = 10,\n",
        "    hyperband_iterations = 2,\n",
        "    directory = PROJECT_PATH,\n",
        "    project_name = \"tuner\",\n",
        "    overwrite = True\n",
        ")\n",
        "\n",
        "tuner.search(\n",
        "    [images_train, params_train],\n",
        "    y_train,\n",
        "    epochs = 10,\n",
        "    batch_size = 32,\n",
        "    shuffle = True,\n",
        "    validation_split = 0.2,\n",
        ")\n",
        "\n",
        "best_model = tuner.get_best_models()[0]\n",
        "best_model.summary()\n",
        "best_model.save(ML_PATH / \"best_model_shape.keras\")"
      ],
      "metadata": {
        "colab": {
          "base_uri": "https://localhost:8080/"
        },
        "id": "xUoLJKTAjS6R",
        "outputId": "81a7f79b-6191-4999-9f74-cb80d3125335"
      },
      "execution_count": 30,
      "outputs": [
        {
          "output_type": "stream",
          "name": "stdout",
          "text": [
            "Trial 60 Complete [00h 01m 49s]\n",
            "val_loss: 0.015436109155416489\n",
            "\n",
            "Best val_loss So Far: 0.012735366821289062\n",
            "Total elapsed time: 00h 56m 59s\n",
            "Model: \"Combined_model\"\n",
            "__________________________________________________________________________________________________\n",
            " Layer (type)                Output Shape                 Param #   Connected to                  \n",
            "==================================================================================================\n",
            " input_1 (InputLayer)        [(None, 100, 300, 1)]        0         []                            \n",
            "                                                                                                  \n",
            " conv2d (Conv2D)             (None, 100, 300, 32)         544       ['input_1[0][0]']             \n",
            "                                                                                                  \n",
            " max_pooling2d (MaxPooling2  (None, 50, 150, 32)          0         ['conv2d[0][0]']              \n",
            " D)                                                                                               \n",
            "                                                                                                  \n",
            " conv2d_1 (Conv2D)           (None, 50, 150, 128)         16512     ['max_pooling2d[0][0]']       \n",
            "                                                                                                  \n",
            " max_pooling2d_1 (MaxPoolin  (None, 25, 75, 128)          0         ['conv2d_1[0][0]']            \n",
            " g2D)                                                                                             \n",
            "                                                                                                  \n",
            " conv2d_2 (Conv2D)           (None, 25, 75, 128)          262272    ['max_pooling2d_1[0][0]']     \n",
            "                                                                                                  \n",
            " max_pooling2d_2 (MaxPoolin  (None, 12, 37, 128)          0         ['conv2d_2[0][0]']            \n",
            " g2D)                                                                                             \n",
            "                                                                                                  \n",
            " conv2d_3 (Conv2D)           (None, 12, 37, 128)          65664     ['max_pooling2d_2[0][0]']     \n",
            "                                                                                                  \n",
            " max_pooling2d_3 (MaxPoolin  (None, 6, 18, 128)           0         ['conv2d_3[0][0]']            \n",
            " g2D)                                                                                             \n",
            "                                                                                                  \n",
            " input_2 (InputLayer)        [(None, 2)]                  0         []                            \n",
            "                                                                                                  \n",
            " flatten (Flatten)           (None, 13824)                0         ['max_pooling2d_3[0][0]']     \n",
            "                                                                                                  \n",
            " dense_1 (Dense)             (None, 128)                  384       ['input_2[0][0]']             \n",
            "                                                                                                  \n",
            " concatenate (Concatenate)   (None, 13952)                0         ['flatten[0][0]',             \n",
            "                                                                     'dense_1[0][0]']             \n",
            "                                                                                                  \n",
            " dense_4 (Dense)             (None, 128)                  1785984   ['concatenate[0][0]']         \n",
            "                                                                                                  \n",
            " dense_5 (Dense)             (None, 3)                    387       ['dense_4[0][0]']             \n",
            "                                                                                                  \n",
            "==================================================================================================\n",
            "Total params: 2131747 (8.13 MB)\n",
            "Trainable params: 2131747 (8.13 MB)\n",
            "Non-trainable params: 0 (0.00 Byte)\n",
            "__________________________________________________________________________________________________\n"
          ]
        }
      ]
    },
    {
      "cell_type": "code",
      "source": [
        "best_model = load_model(ML_PATH / \"best_model_shape.keras\")\n",
        "best_model.compile(\n",
        "    loss=\"mse\",\n",
        "    optimizer=Adam(learning_rate=0.0005),\n",
        "    metrics=['mae']\n",
        ")\n",
        "\n",
        "history = best_model.fit(\n",
        "    [images_train, params_train],\n",
        "    y_train,\n",
        "    epochs = 100,\n",
        "    batch_size = 32,\n",
        "    callbacks=checkpoint(ML_PATH / f\"weights_tuned_model.h5\", patience = 3),\n",
        "    validation_split = 0.2,\n",
        "    shuffle = True,\n",
        "    verbose = 1,\n",
        ")"
      ],
      "metadata": {
        "colab": {
          "base_uri": "https://localhost:8080/"
        },
        "id": "jQdW0S4CmmKb",
        "outputId": "5e4a4758-51df-4533-b45e-53e94979f38f"
      },
      "execution_count": 31,
      "outputs": [
        {
          "output_type": "stream",
          "name": "stderr",
          "text": [
            "WARNING:absl:Skipping variable loading for optimizer 'Adam', because it has 29 variables whereas the saved optimizer has 1 variables. \n",
            "WARNING:tensorflow:Detecting that an object or model or tf.train.Checkpoint is being deleted with unrestored values. See the following logs for the specific values in question. To silence these warnings, use `status.expect_partial()`. See https://www.tensorflow.org/api_docs/python/tf/train/Checkpoint#restorefor details about the status object returned by the restore function.\n",
            "WARNING:tensorflow:Value in checkpoint could not be found in the restored object: (root).optimizer._variables.1\n",
            "WARNING:tensorflow:Value in checkpoint could not be found in the restored object: (root).optimizer._variables.2\n",
            "WARNING:tensorflow:Value in checkpoint could not be found in the restored object: (root).optimizer._variables.3\n",
            "WARNING:tensorflow:Value in checkpoint could not be found in the restored object: (root).optimizer._variables.4\n",
            "WARNING:tensorflow:Value in checkpoint could not be found in the restored object: (root).optimizer._variables.5\n",
            "WARNING:tensorflow:Value in checkpoint could not be found in the restored object: (root).optimizer._variables.6\n",
            "WARNING:tensorflow:Value in checkpoint could not be found in the restored object: (root).optimizer._variables.7\n",
            "WARNING:tensorflow:Value in checkpoint could not be found in the restored object: (root).optimizer._variables.8\n",
            "WARNING:tensorflow:Value in checkpoint could not be found in the restored object: (root).optimizer._variables.9\n",
            "WARNING:tensorflow:Value in checkpoint could not be found in the restored object: (root).optimizer._variables.10\n",
            "WARNING:tensorflow:Value in checkpoint could not be found in the restored object: (root).optimizer._variables.11\n",
            "WARNING:tensorflow:Value in checkpoint could not be found in the restored object: (root).optimizer._variables.12\n",
            "WARNING:tensorflow:Value in checkpoint could not be found in the restored object: (root).optimizer._variables.13\n",
            "WARNING:tensorflow:Value in checkpoint could not be found in the restored object: (root).optimizer._variables.14\n",
            "WARNING:tensorflow:Value in checkpoint could not be found in the restored object: (root).optimizer._variables.15\n",
            "WARNING:tensorflow:Value in checkpoint could not be found in the restored object: (root).optimizer._variables.16\n",
            "WARNING:tensorflow:Value in checkpoint could not be found in the restored object: (root).optimizer._variables.17\n",
            "WARNING:tensorflow:Value in checkpoint could not be found in the restored object: (root).optimizer._variables.18\n",
            "WARNING:tensorflow:Value in checkpoint could not be found in the restored object: (root).optimizer._variables.19\n",
            "WARNING:tensorflow:Value in checkpoint could not be found in the restored object: (root).optimizer._variables.20\n",
            "WARNING:tensorflow:Value in checkpoint could not be found in the restored object: (root).optimizer._variables.21\n",
            "WARNING:tensorflow:Value in checkpoint could not be found in the restored object: (root).optimizer._variables.22\n",
            "WARNING:tensorflow:Value in checkpoint could not be found in the restored object: (root).optimizer._variables.23\n",
            "WARNING:tensorflow:Value in checkpoint could not be found in the restored object: (root).optimizer._variables.24\n",
            "WARNING:tensorflow:Value in checkpoint could not be found in the restored object: (root).optimizer._variables.25\n",
            "WARNING:tensorflow:Value in checkpoint could not be found in the restored object: (root).optimizer._variables.26\n",
            "WARNING:tensorflow:Value in checkpoint could not be found in the restored object: (root).optimizer._variables.27\n",
            "WARNING:tensorflow:Value in checkpoint could not be found in the restored object: (root).optimizer._variables.28\n",
            "WARNING:tensorflow:Detecting that an object or model or tf.train.Checkpoint is being deleted with unrestored values. See the following logs for the specific values in question. To silence these warnings, use `status.expect_partial()`. See https://www.tensorflow.org/api_docs/python/tf/train/Checkpoint#restorefor details about the status object returned by the restore function.\n",
            "WARNING:tensorflow:Value in checkpoint could not be found in the restored object: (root).optimizer._variables.1\n",
            "WARNING:tensorflow:Value in checkpoint could not be found in the restored object: (root).optimizer._variables.2\n",
            "WARNING:tensorflow:Value in checkpoint could not be found in the restored object: (root).optimizer._variables.3\n",
            "WARNING:tensorflow:Value in checkpoint could not be found in the restored object: (root).optimizer._variables.4\n",
            "WARNING:tensorflow:Value in checkpoint could not be found in the restored object: (root).optimizer._variables.5\n",
            "WARNING:tensorflow:Value in checkpoint could not be found in the restored object: (root).optimizer._variables.6\n",
            "WARNING:tensorflow:Value in checkpoint could not be found in the restored object: (root).optimizer._variables.7\n",
            "WARNING:tensorflow:Value in checkpoint could not be found in the restored object: (root).optimizer._variables.8\n",
            "WARNING:tensorflow:Value in checkpoint could not be found in the restored object: (root).optimizer._variables.9\n",
            "WARNING:tensorflow:Value in checkpoint could not be found in the restored object: (root).optimizer._variables.10\n",
            "WARNING:tensorflow:Value in checkpoint could not be found in the restored object: (root).optimizer._variables.11\n",
            "WARNING:tensorflow:Value in checkpoint could not be found in the restored object: (root).optimizer._variables.12\n",
            "WARNING:tensorflow:Value in checkpoint could not be found in the restored object: (root).optimizer._variables.13\n",
            "WARNING:tensorflow:Value in checkpoint could not be found in the restored object: (root).optimizer._variables.14\n",
            "WARNING:tensorflow:Value in checkpoint could not be found in the restored object: (root).optimizer._variables.15\n",
            "WARNING:tensorflow:Value in checkpoint could not be found in the restored object: (root).optimizer._variables.16\n",
            "WARNING:tensorflow:Value in checkpoint could not be found in the restored object: (root).optimizer._variables.17\n",
            "WARNING:tensorflow:Value in checkpoint could not be found in the restored object: (root).optimizer._variables.18\n",
            "WARNING:tensorflow:Value in checkpoint could not be found in the restored object: (root).optimizer._variables.19\n",
            "WARNING:tensorflow:Value in checkpoint could not be found in the restored object: (root).optimizer._variables.20\n",
            "WARNING:tensorflow:Value in checkpoint could not be found in the restored object: (root).optimizer._variables.21\n",
            "WARNING:tensorflow:Value in checkpoint could not be found in the restored object: (root).optimizer._variables.22\n",
            "WARNING:tensorflow:Value in checkpoint could not be found in the restored object: (root).optimizer._variables.23\n",
            "WARNING:tensorflow:Value in checkpoint could not be found in the restored object: (root).optimizer._variables.24\n",
            "WARNING:tensorflow:Value in checkpoint could not be found in the restored object: (root).optimizer._variables.25\n",
            "WARNING:tensorflow:Value in checkpoint could not be found in the restored object: (root).optimizer._variables.26\n",
            "WARNING:tensorflow:Value in checkpoint could not be found in the restored object: (root).optimizer._variables.27\n",
            "WARNING:tensorflow:Value in checkpoint could not be found in the restored object: (root).optimizer._variables.28\n"
          ]
        },
        {
          "output_type": "stream",
          "name": "stdout",
          "text": [
            "Epoch 1/100\n",
            "200/200 [==============================] - ETA: 0s - loss: 0.0097 - mae: 0.0537"
          ]
        },
        {
          "output_type": "stream",
          "name": "stderr",
          "text": [
            "/usr/local/lib/python3.10/dist-packages/keras/src/engine/training.py:3103: UserWarning: You are saving your model as an HDF5 file via `model.save()`. This file format is considered legacy. We recommend using instead the native Keras format, e.g. `model.save('my_model.keras')`.\n",
            "  saving_api.save_model(\n"
          ]
        },
        {
          "output_type": "stream",
          "name": "stdout",
          "text": [
            "\b\b\b\b\b\b\b\b\b\b\b\b\b\b\b\b\b\b\b\b\b\b\b\b\b\b\b\b\b\b\b\b\b\b\b\b\b\b\b\b\b\b\b\b\b\b\b\b\b\b\b\b\b\b\b\b\b\b\b\b\b\b\b\b\b\b\b\b\b\b\b\b\b\b\b\b\b\b\b\r200/200 [==============================] - 13s 54ms/step - loss: 0.0097 - mae: 0.0537 - val_loss: 0.0122 - val_mae: 0.0572\n",
            "Epoch 2/100\n",
            "200/200 [==============================] - 9s 45ms/step - loss: 0.0090 - mae: 0.0517 - val_loss: 0.0120 - val_mae: 0.0561\n",
            "Epoch 3/100\n",
            "200/200 [==============================] - 10s 50ms/step - loss: 0.0086 - mae: 0.0508 - val_loss: 0.0114 - val_mae: 0.0538\n",
            "Epoch 4/100\n",
            "200/200 [==============================] - 9s 44ms/step - loss: 0.0082 - mae: 0.0496 - val_loss: 0.0120 - val_mae: 0.0557\n",
            "Epoch 5/100\n",
            "200/200 [==============================] - 10s 50ms/step - loss: 0.0079 - mae: 0.0486 - val_loss: 0.0113 - val_mae: 0.0523\n",
            "Epoch 6/100\n",
            "200/200 [==============================] - 9s 45ms/step - loss: 0.0074 - mae: 0.0472 - val_loss: 0.0106 - val_mae: 0.0516\n",
            "Epoch 7/100\n",
            "200/200 [==============================] - 9s 44ms/step - loss: 0.0070 - mae: 0.0456 - val_loss: 0.0113 - val_mae: 0.0516\n",
            "Epoch 8/100\n",
            "200/200 [==============================] - 10s 49ms/step - loss: 0.0068 - mae: 0.0451 - val_loss: 0.0105 - val_mae: 0.0508\n",
            "Epoch 9/100\n",
            "200/200 [==============================] - 9s 44ms/step - loss: 0.0066 - mae: 0.0446 - val_loss: 0.0112 - val_mae: 0.0514\n",
            "Epoch 10/100\n",
            "200/200 [==============================] - 10s 49ms/step - loss: 0.0066 - mae: 0.0448 - val_loss: 0.0103 - val_mae: 0.0503\n",
            "Epoch 11/100\n",
            "200/200 [==============================] - 9s 44ms/step - loss: 0.0060 - mae: 0.0426 - val_loss: 0.0106 - val_mae: 0.0491\n",
            "Epoch 12/100\n",
            "200/200 [==============================] - 9s 44ms/step - loss: 0.0060 - mae: 0.0423 - val_loss: 0.0106 - val_mae: 0.0508\n",
            "Epoch 13/100\n",
            "200/200 [==============================] - 9s 44ms/step - loss: 0.0056 - mae: 0.0412 - val_loss: 0.0104 - val_mae: 0.0487\n"
          ]
        }
      ]
    },
    {
      "cell_type": "code",
      "source": [
        "best_model.evaluate([images_test, params_test], y_test)"
      ],
      "metadata": {
        "id": "xolHc2qB3xWK",
        "outputId": "8ab7b799-f031-4901-e510-7e148fb9d9d8",
        "colab": {
          "base_uri": "https://localhost:8080/"
        }
      },
      "execution_count": 32,
      "outputs": [
        {
          "output_type": "stream",
          "name": "stdout",
          "text": [
            "63/63 [==============================] - 1s 17ms/step - loss: 0.0090 - mae: 0.0486\n"
          ]
        },
        {
          "output_type": "execute_result",
          "data": {
            "text/plain": [
              "[0.008985784836113453, 0.04859830066561699]"
            ]
          },
          "metadata": {},
          "execution_count": 32
        }
      ]
    },
    {
      "cell_type": "code",
      "source": [
        "from tqdm import tqdm\n",
        "curvatures = [compute_curvature(img) for img in tqdm(results_shape)]"
      ],
      "metadata": {
        "colab": {
          "base_uri": "https://localhost:8080/"
        },
        "id": "YVXczyzl8OBl",
        "outputId": "00c4e03c-a9e7-4803-b2ca-9145e5b1539d"
      },
      "execution_count": 33,
      "outputs": [
        {
          "output_type": "stream",
          "name": "stderr",
          "text": [
            "100%|██████████| 10000/10000 [02:08<00:00, 77.80it/s]\n"
          ]
        }
      ]
    },
    {
      "cell_type": "code",
      "source": [
        "df['curvature'] = curvatures\n",
        "df = df[~pd.isnull(df['curvature'])]\n",
        "len(df)"
      ],
      "metadata": {
        "colab": {
          "base_uri": "https://localhost:8080/"
        },
        "id": "2hqhYWM68bVF",
        "outputId": "ec19d768-c19e-4314-e2ed-aab3cb0610e7"
      },
      "execution_count": 34,
      "outputs": [
        {
          "output_type": "execute_result",
          "data": {
            "text/plain": [
              "9958"
            ]
          },
          "metadata": {},
          "execution_count": 34
        }
      ]
    },
    {
      "cell_type": "code",
      "source": [
        "def image_generator(df, batch_size=32, h=h, w=w):\n",
        "    num_samples = len(df)\n",
        "    for start in range(0, num_samples, batch_size):\n",
        "        end = min(start + batch_size, num_samples)\n",
        "        batch_df = df.iloc[start:end]\n",
        "\n",
        "        combined_images = []\n",
        "        indices = []\n",
        "\n",
        "        for idx, row in batch_df.iterrows():\n",
        "            channel1 = np.array(row['shape'], dtype=np.float32)\n",
        "            channel2 = np.array(row['curvature'], dtype=np.float32)\n",
        "            combined_image = np.stack([channel1, channel2], axis=-1)\n",
        "            combined_images.append(combined_image)\n",
        "            indices.append(idx)\n",
        "\n",
        "        yield pd.DataFrame({'combined_image': combined_images}, index=indices)"
      ],
      "metadata": {
        "id": "c7W_NaVz8dM1"
      },
      "execution_count": 35,
      "outputs": []
    },
    {
      "cell_type": "code",
      "source": [
        "images_2_channels = pd.DataFrame()\n",
        "for batch in image_generator(df):\n",
        "    images_2_channels = pd.concat([images_2_channels, batch])"
      ],
      "metadata": {
        "id": "nUIWmCOg8eUG"
      },
      "execution_count": 36,
      "outputs": []
    },
    {
      "cell_type": "code",
      "source": [
        "df = pd.concat([df, images_2_channels], axis=1)"
      ],
      "metadata": {
        "id": "I0khN2HU8lrp"
      },
      "execution_count": 37,
      "outputs": []
    },
    {
      "cell_type": "code",
      "source": [
        "n = 0\n",
        "fig = plt.figure(figsize = (16, 6))\n",
        "fig.add_subplot(1, 2, 1)\n",
        "plt.imshow(results_shape[n], cmap = 'gray')\n",
        "fig.add_subplot(1, 2, 2)\n",
        "plt.imshow(curvatures[n], cmap = 'gray_r')\n",
        "plt.tight_layout()"
      ],
      "metadata": {
        "colab": {
          "base_uri": "https://localhost:8080/",
          "height": 207
        },
        "id": "prctMuSK8qwX",
        "outputId": "f30c2281-3d0e-48a7-ec99-f08e48abe9ff"
      },
      "execution_count": 38,
      "outputs": [
        {
          "output_type": "display_data",
          "data": {
            "text/plain": [
              "<Figure size 1600x600 with 2 Axes>"
            ],
            "image/png": "[encoded data removed]"
          },
          "metadata": {}
        }
      ]
    },
    {
      "cell_type": "code",
      "source": [
        "features = ['combined_image', 'params']\n",
        "\n",
        "X_train, X_test, y_train, y_test = train_test_split(\n",
        "    df[features],\n",
        "    df['target'],\n",
        "    test_size = 0.2,\n",
        "    random_state = 42,\n",
        "    shuffle = True\n",
        ")"
      ],
      "metadata": {
        "id": "6emyF6s981Fs"
      },
      "execution_count": 39,
      "outputs": []
    },
    {
      "cell_type": "code",
      "source": [
        "images_train = np.expand_dims(np.array([x for x in X_train['shape']], dtype='float32'), axis = -1)\n",
        "images_test = np.expand_dims(np.array([x for x in X_test['shape']], dtype='float32'), axis = -1)\n",
        "\n",
        "params_train = np.array([x for x in X_train['params']], dtype='float32')\n",
        "params_test = np.array([x for x in X_test['params']], dtype='float32')\n",
        "\n",
        "y_train = np.array([x for x in y_train])\n",
        "y_test = np.array([x for x in y_test])"
      ],
      "metadata": {
        "colab": {
          "base_uri": "https://localhost:8080/",
          "height": 478
        },
        "id": "L1j7KBJj86EI",
        "outputId": "da340f9f-5eda-4aa9-bdd6-0918e86e3fa6"
      },
      "execution_count": 40,
      "outputs": [
        {
          "output_type": "error",
          "ename": "KeyError",
          "evalue": "'shape'",
          "traceback": [
            "\u001b[0;31m---------------------------------------------------------------------------\u001b[0m",
            "\u001b[0;31mKeyError\u001b[0m                                  Traceback (most recent call last)",
            "\u001b[0;32m/usr/local/lib/python3.10/dist-packages/pandas/core/indexes/base.py\u001b[0m in \u001b[0;36mget_loc\u001b[0;34m(self, key)\u001b[0m\n\u001b[1;32m   3652\u001b[0m         \u001b[0;32mtry\u001b[0m\u001b[0;34m:\u001b[0m\u001b[0;34m\u001b[0m\u001b[0;34m\u001b[0m\u001b[0m\n\u001b[0;32m-> 3653\u001b[0;31m             \u001b[0;32mreturn\u001b[0m \u001b[0mself\u001b[0m\u001b[0;34m.\u001b[0m\u001b[0m_engine\u001b[0m\u001b[0;34m.\u001b[0m\u001b[0mget_loc\u001b[0m\u001b[0;34m(\u001b[0m\u001b[0mcasted_key\u001b[0m\u001b[0;34m)\u001b[0m\u001b[0;34m\u001b[0m\u001b[0;34m\u001b[0m\u001b[0m\n\u001b[0m\u001b[1;32m   3654\u001b[0m         \u001b[0;32mexcept\u001b[0m \u001b[0mKeyError\u001b[0m \u001b[0;32mas\u001b[0m \u001b[0merr\u001b[0m\u001b[0;34m:\u001b[0m\u001b[0;34m\u001b[0m\u001b[0;34m\u001b[0m\u001b[0m\n",
            "\u001b[0;32m/usr/local/lib/python3.10/dist-packages/pandas/_libs/index.pyx\u001b[0m in \u001b[0;36mpandas._libs.index.IndexEngine.get_loc\u001b[0;34m()\u001b[0m\n",
            "\u001b[0;32m/usr/local/lib/python3.10/dist-packages/pandas/_libs/index.pyx\u001b[0m in \u001b[0;36mpandas._libs.index.IndexEngine.get_loc\u001b[0;34m()\u001b[0m\n",
            "\u001b[0;32mpandas/_libs/hashtable_class_helper.pxi\u001b[0m in \u001b[0;36mpandas._libs.hashtable.PyObjectHashTable.get_item\u001b[0;34m()\u001b[0m\n",
            "\u001b[0;32mpandas/_libs/hashtable_class_helper.pxi\u001b[0m in \u001b[0;36mpandas._libs.hashtable.PyObjectHashTable.get_item\u001b[0;34m()\u001b[0m\n",
            "\u001b[0;31mKeyError\u001b[0m: 'shape'",
            "\nThe above exception was the direct cause of the following exception:\n",
            "\u001b[0;31mKeyError\u001b[0m                                  Traceback (most recent call last)",
            "\u001b[0;32m<ipython-input-40-5d1975bb4014>\u001b[0m in \u001b[0;36m<cell line: 1>\u001b[0;34m()\u001b[0m\n\u001b[0;32m----> 1\u001b[0;31m \u001b[0mimages_train\u001b[0m \u001b[0;34m=\u001b[0m \u001b[0mnp\u001b[0m\u001b[0;34m.\u001b[0m\u001b[0mexpand_dims\u001b[0m\u001b[0;34m(\u001b[0m\u001b[0mnp\u001b[0m\u001b[0;34m.\u001b[0m\u001b[0marray\u001b[0m\u001b[0;34m(\u001b[0m\u001b[0;34m[\u001b[0m\u001b[0mx\u001b[0m \u001b[0;32mfor\u001b[0m \u001b[0mx\u001b[0m \u001b[0;32min\u001b[0m \u001b[0mX_train\u001b[0m\u001b[0;34m[\u001b[0m\u001b[0;34m'shape'\u001b[0m\u001b[0;34m]\u001b[0m\u001b[0;34m]\u001b[0m\u001b[0;34m,\u001b[0m \u001b[0mdtype\u001b[0m\u001b[0;34m=\u001b[0m\u001b[0;34m'float32'\u001b[0m\u001b[0;34m)\u001b[0m\u001b[0;34m,\u001b[0m \u001b[0maxis\u001b[0m \u001b[0;34m=\u001b[0m \u001b[0;34m-\u001b[0m\u001b[0;36m1\u001b[0m\u001b[0;34m)\u001b[0m\u001b[0;34m\u001b[0m\u001b[0;34m\u001b[0m\u001b[0m\n\u001b[0m\u001b[1;32m      2\u001b[0m \u001b[0mimages_test\u001b[0m \u001b[0;34m=\u001b[0m \u001b[0mnp\u001b[0m\u001b[0;34m.\u001b[0m\u001b[0mexpand_dims\u001b[0m\u001b[0;34m(\u001b[0m\u001b[0mnp\u001b[0m\u001b[0;34m.\u001b[0m\u001b[0marray\u001b[0m\u001b[0;34m(\u001b[0m\u001b[0;34m[\u001b[0m\u001b[0mx\u001b[0m \u001b[0;32mfor\u001b[0m \u001b[0mx\u001b[0m \u001b[0;32min\u001b[0m \u001b[0mX_test\u001b[0m\u001b[0;34m[\u001b[0m\u001b[0;34m'shape'\u001b[0m\u001b[0;34m]\u001b[0m\u001b[0;34m]\u001b[0m\u001b[0;34m,\u001b[0m \u001b[0mdtype\u001b[0m\u001b[0;34m=\u001b[0m\u001b[0;34m'float32'\u001b[0m\u001b[0;34m)\u001b[0m\u001b[0;34m,\u001b[0m \u001b[0maxis\u001b[0m \u001b[0;34m=\u001b[0m \u001b[0;34m-\u001b[0m\u001b[0;36m1\u001b[0m\u001b[0;34m)\u001b[0m\u001b[0;34m\u001b[0m\u001b[0;34m\u001b[0m\u001b[0m\n\u001b[1;32m      3\u001b[0m \u001b[0;34m\u001b[0m\u001b[0m\n\u001b[1;32m      4\u001b[0m \u001b[0mparams_train\u001b[0m \u001b[0;34m=\u001b[0m \u001b[0mnp\u001b[0m\u001b[0;34m.\u001b[0m\u001b[0marray\u001b[0m\u001b[0;34m(\u001b[0m\u001b[0;34m[\u001b[0m\u001b[0mx\u001b[0m \u001b[0;32mfor\u001b[0m \u001b[0mx\u001b[0m \u001b[0;32min\u001b[0m \u001b[0mX_train\u001b[0m\u001b[0;34m[\u001b[0m\u001b[0;34m'params'\u001b[0m\u001b[0;34m]\u001b[0m\u001b[0;34m]\u001b[0m\u001b[0;34m,\u001b[0m \u001b[0mdtype\u001b[0m\u001b[0;34m=\u001b[0m\u001b[0;34m'float32'\u001b[0m\u001b[0;34m)\u001b[0m\u001b[0;34m\u001b[0m\u001b[0;34m\u001b[0m\u001b[0m\n\u001b[1;32m      5\u001b[0m \u001b[0mparams_test\u001b[0m \u001b[0;34m=\u001b[0m \u001b[0mnp\u001b[0m\u001b[0;34m.\u001b[0m\u001b[0marray\u001b[0m\u001b[0;34m(\u001b[0m\u001b[0;34m[\u001b[0m\u001b[0mx\u001b[0m \u001b[0;32mfor\u001b[0m \u001b[0mx\u001b[0m \u001b[0;32min\u001b[0m \u001b[0mX_test\u001b[0m\u001b[0;34m[\u001b[0m\u001b[0;34m'params'\u001b[0m\u001b[0;34m]\u001b[0m\u001b[0;34m]\u001b[0m\u001b[0;34m,\u001b[0m \u001b[0mdtype\u001b[0m\u001b[0;34m=\u001b[0m\u001b[0;34m'float32'\u001b[0m\u001b[0;34m)\u001b[0m\u001b[0;34m\u001b[0m\u001b[0;34m\u001b[0m\u001b[0m\n",
            "\u001b[0;32m/usr/local/lib/python3.10/dist-packages/pandas/core/frame.py\u001b[0m in \u001b[0;36m__getitem__\u001b[0;34m(self, key)\u001b[0m\n\u001b[1;32m   3759\u001b[0m             \u001b[0;32mif\u001b[0m \u001b[0mself\u001b[0m\u001b[0;34m.\u001b[0m\u001b[0mcolumns\u001b[0m\u001b[0;34m.\u001b[0m\u001b[0mnlevels\u001b[0m \u001b[0;34m>\u001b[0m \u001b[0;36m1\u001b[0m\u001b[0;34m:\u001b[0m\u001b[0;34m\u001b[0m\u001b[0;34m\u001b[0m\u001b[0m\n\u001b[1;32m   3760\u001b[0m                 \u001b[0;32mreturn\u001b[0m \u001b[0mself\u001b[0m\u001b[0;34m.\u001b[0m\u001b[0m_getitem_multilevel\u001b[0m\u001b[0;34m(\u001b[0m\u001b[0mkey\u001b[0m\u001b[0;34m)\u001b[0m\u001b[0;34m\u001b[0m\u001b[0;34m\u001b[0m\u001b[0m\n\u001b[0;32m-> 3761\u001b[0;31m             \u001b[0mindexer\u001b[0m \u001b[0;34m=\u001b[0m \u001b[0mself\u001b[0m\u001b[0;34m.\u001b[0m\u001b[0mcolumns\u001b[0m\u001b[0;34m.\u001b[0m\u001b[0mget_loc\u001b[0m\u001b[0;34m(\u001b[0m\u001b[0mkey\u001b[0m\u001b[0;34m)\u001b[0m\u001b[0;34m\u001b[0m\u001b[0;34m\u001b[0m\u001b[0m\n\u001b[0m\u001b[1;32m   3762\u001b[0m             \u001b[0;32mif\u001b[0m \u001b[0mis_integer\u001b[0m\u001b[0;34m(\u001b[0m\u001b[0mindexer\u001b[0m\u001b[0;34m)\u001b[0m\u001b[0;34m:\u001b[0m\u001b[0;34m\u001b[0m\u001b[0;34m\u001b[0m\u001b[0m\n\u001b[1;32m   3763\u001b[0m                 \u001b[0mindexer\u001b[0m \u001b[0;34m=\u001b[0m \u001b[0;34m[\u001b[0m\u001b[0mindexer\u001b[0m\u001b[0;34m]\u001b[0m\u001b[0;34m\u001b[0m\u001b[0;34m\u001b[0m\u001b[0m\n",
            "\u001b[0;32m/usr/local/lib/python3.10/dist-packages/pandas/core/indexes/base.py\u001b[0m in \u001b[0;36mget_loc\u001b[0;34m(self, key)\u001b[0m\n\u001b[1;32m   3653\u001b[0m             \u001b[0;32mreturn\u001b[0m \u001b[0mself\u001b[0m\u001b[0;34m.\u001b[0m\u001b[0m_engine\u001b[0m\u001b[0;34m.\u001b[0m\u001b[0mget_loc\u001b[0m\u001b[0;34m(\u001b[0m\u001b[0mcasted_key\u001b[0m\u001b[0;34m)\u001b[0m\u001b[0;34m\u001b[0m\u001b[0;34m\u001b[0m\u001b[0m\n\u001b[1;32m   3654\u001b[0m         \u001b[0;32mexcept\u001b[0m \u001b[0mKeyError\u001b[0m \u001b[0;32mas\u001b[0m \u001b[0merr\u001b[0m\u001b[0;34m:\u001b[0m\u001b[0;34m\u001b[0m\u001b[0;34m\u001b[0m\u001b[0m\n\u001b[0;32m-> 3655\u001b[0;31m             \u001b[0;32mraise\u001b[0m \u001b[0mKeyError\u001b[0m\u001b[0;34m(\u001b[0m\u001b[0mkey\u001b[0m\u001b[0;34m)\u001b[0m \u001b[0;32mfrom\u001b[0m \u001b[0merr\u001b[0m\u001b[0;34m\u001b[0m\u001b[0;34m\u001b[0m\u001b[0m\n\u001b[0m\u001b[1;32m   3656\u001b[0m         \u001b[0;32mexcept\u001b[0m \u001b[0mTypeError\u001b[0m\u001b[0;34m:\u001b[0m\u001b[0;34m\u001b[0m\u001b[0;34m\u001b[0m\u001b[0m\n\u001b[1;32m   3657\u001b[0m             \u001b[0;31m# If we have a listlike key, _check_indexing_error will raise\u001b[0m\u001b[0;34m\u001b[0m\u001b[0;34m\u001b[0m\u001b[0m\n",
            "\u001b[0;31mKeyError\u001b[0m: 'shape'"
          ]
        }
      ]
    },
    {
      "cell_type": "code",
      "source": [
        "images_train.shape, images_test.shape, params_train.shape, params_test.shape, y_train.shape, y_test.shape"
      ],
      "metadata": {
        "id": "oBqNsxcz9UHp"
      },
      "execution_count": null,
      "outputs": []
    },
    {
      "cell_type": "code",
      "source": [
        "tuner = kt.Hyperband(\n",
        "    hypermodel = lambda hp: build_model(hp, channels=2),\n",
        "    objective = \"val_loss\",\n",
        "    max_epochs = 10,\n",
        "    hyperband_iterations = 2,\n",
        "    directory = PROJECT_PATH,\n",
        "    project_name = \"tuner\",\n",
        "    overwrite = True\n",
        ")\n",
        "\n",
        "tuner.search(\n",
        "    [images_train, params_train],\n",
        "    y_train,\n",
        "    epochs = 10,\n",
        "    batch_size = 32,\n",
        "    shuffle = True,\n",
        "    validation_split = 0.2,\n",
        ")\n",
        "\n",
        "best_model = tuner.get_best_models()[0]\n",
        "best_model.summary()\n",
        "best_model.save(ML_PATH / \"best_model_curvature.keras\")"
      ],
      "metadata": {
        "id": "JkqVMUma9aId"
      },
      "execution_count": null,
      "outputs": []
    },
    {
      "cell_type": "code",
      "source": [
        "best_model = load_model(ML_PATH / \"best_model_curvature.keras\")\n",
        "best_model.compile(\n",
        "    loss=\"mse\",\n",
        "    optimizer=Adam(learning_rate=0.0005),\n",
        "    metrics=['mae']\n",
        ")\n",
        "\n",
        "history = best_model.fit(\n",
        "    [images_train, params_train],\n",
        "    y_train,\n",
        "    epochs = 100,\n",
        "    batch_size = 32,\n",
        "    callbacks=checkpoint(ML_PATH / f\"weights_tuned_model.h5\", patience = 3),\n",
        "    validation_split = 0.2,\n",
        "    shuffle = True,\n",
        "    verbose = 1,\n",
        ")"
      ],
      "metadata": {
        "id": "rPIE0R5D-LKS"
      },
      "execution_count": null,
      "outputs": []
    },
    {
      "cell_type": "code",
      "source": [
        "best_model.evaluate([images_test, params_test], y_test)"
      ],
      "metadata": {
        "id": "A3bI5oRX-_TZ"
      },
      "execution_count": null,
      "outputs": []
    }
  ],
  "metadata": {
    "colab": {
      "provenance": [],
      "machine_shape": "hm",
      "gpuType": "T4",
      "include_colab_link": true
    },
    "kernelspec": {
      "display_name": "Python 3",
      "name": "python3"
    },
    "language_info": {
      "name": "python"
    },
    "accelerator": "GPU"
  },
  "nbformat": 4,
  "nbformat_minor": 0
}