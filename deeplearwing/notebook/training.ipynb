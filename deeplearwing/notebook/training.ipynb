{
  "cells": [
    {
      "cell_type": "markdown",
      "metadata": {
        "colab_type": "text",
        "id": "view-in-github"
      },
      "source": [
        "<a href=\"https://colab.research.google.com/github/vicmcl/deeplearwing/blob/main/deeplearwing/notebook/training.ipynb\" target=\"_parent\"><img src=\"https://colab.research.google.com/assets/colab-badge.svg\" alt=\"Open In Colab\"/></a>"
      ]
    },
    {
      "cell_type": "markdown",
      "metadata": {
        "id": "K7QfKApVaTmm"
      },
      "source": [
        "## **Imports**"
      ]
    },
    {
      "cell_type": "code",
      "execution_count": 14,
      "metadata": {
        "id": "dcFczH-gK1wv"
      },
      "outputs": [],
      "source": [
        "%reload_ext autoreload\n",
        "%autoreload 2"
      ]
    },
    {
      "cell_type": "code",
      "execution_count": 50,
      "metadata": {
        "id": "msfdXxljIwxS"
      },
      "outputs": [],
      "source": [
        "from pathlib import Path\n",
        "import os\n",
        "import glob\n",
        "import warnings\n",
        "\n",
        "warnings.filterwarnings(\"ignore\")"
      ]
    },
    {
      "cell_type": "code",
      "execution_count": 16,
      "metadata": {
        "colab": {
          "base_uri": "https://localhost:8080/"
        },
        "id": "DbmiQhx2N26L",
        "outputId": "b6263250-f801-4793-c180-5fd30fa2b744"
      },
      "outputs": [
        {
          "name": "stdout",
          "output_type": "stream",
          "text": [
            "Mounted at /content/drive\n"
          ]
        }
      ],
      "source": [
        "# mount Drive\n",
        "from google.colab import drive\n",
        "\n",
        "drive.flush_and_unmount()\n",
        "drive.mount('/content/drive')\n",
        "DRIVE_PATH = Path(\"/content/drive/MyDrive/\")\n",
        "ML_PATH = DRIVE_PATH / \"Projects\" / \"deeplearwing\""
      ]
    },
    {
      "cell_type": "code",
      "execution_count": 17,
      "metadata": {
        "colab": {
          "base_uri": "https://localhost:8080/"
        },
        "id": "rVUA0P-XgUfv",
        "outputId": "08c9e4fa-fdb0-48fc-924d-9ef992a456a7"
      },
      "outputs": [
        {
          "name": "stdout",
          "output_type": "stream",
          "text": [
            "Cloning into 'deeplearwing'...\n",
            "remote: Enumerating objects: 275, done.\u001b[K\n",
            "remote: Counting objects: 100% (225/225), done.\u001b[K\n",
            "remote: Compressing objects: 100% (156/156), done.\u001b[K\n",
            "remote: Total 275 (delta 110), reused 132 (delta 63), pack-reused 50\u001b[K\n",
            "Receiving objects: 100% (275/275), 31.06 MiB | 30.49 MiB/s, done.\n",
            "Resolving deltas: 100% (130/130), done.\n"
          ]
        }
      ],
      "source": [
        "# Clone GitHub repository\n",
        "!git clone https://github.com/vicmcl/deeplearwing.git"
      ]
    },
    {
      "cell_type": "code",
      "execution_count": 18,
      "metadata": {
        "id": "FM_Fyn1sun2A"
      },
      "outputs": [],
      "source": [
        "# Set path to dataset\n",
        "DATASET = \"victorienmichel/deeplearwing\"\n",
        "CONTENT_PATH = Path('/content')\n",
        "PROJECT_PATH = CONTENT_PATH / 'deeplearwing'\n",
        "DATA_PATH = PROJECT_PATH / 'data'\n",
        "ZIP_FILE = DATASET.split('/')[-1].lower() + '.zip'"
      ]
    },
    {
      "cell_type": "code",
      "execution_count": 19,
      "metadata": {
        "colab": {
          "base_uri": "https://localhost:8080/"
        },
        "id": "UmBX09ODuesq",
        "outputId": "5afa38ac-e3cb-4985-a39b-763c3b4461aa"
      },
      "outputs": [
        {
          "name": "stdout",
          "output_type": "stream",
          "text": [
            "From https://github.com/vicmcl/deeplearwing\n",
            " * branch            main       -> FETCH_HEAD\n",
            "Already up to date.\n"
          ]
        }
      ],
      "source": [
        "# Pull repository\n",
        "!cd {PROJECT_PATH} && git pull origin main\n",
        "\n",
        "# Copy src file to content folder\n",
        "!cp -r {PROJECT_PATH / 'deeplearwing' / 'src'} {CONTENT_PATH}"
      ]
    },
    {
      "cell_type": "code",
      "execution_count": 20,
      "metadata": {
        "colab": {
          "base_uri": "https://localhost:8080/"
        },
        "id": "87FAKyT9b0v8",
        "outputId": "f21a5b3b-1448-470c-b4aa-6d4c299a6961"
      },
      "outputs": [
        {
          "name": "stdout",
          "output_type": "stream",
          "text": [
            "Creating /content/deeplearwing/data\n",
            "Dataset URL: https://www.kaggle.com/datasets/victorienmichel/deeplearwing\n",
            "License(s): MIT\n",
            "Downloading deeplearwing.zip to /content/deeplearwing/data\n",
            " 27% 5.00M/18.3M [00:00<00:00, 51.7MB/s]\n",
            "100% 18.3M/18.3M [00:00<00:00, 102MB/s] \n",
            "Archive:  /content/deeplearwing/data/deeplearwing.zip\n",
            "  inflating: /content/deeplearwing/data/DeepLearWing.csv  \n"
          ]
        }
      ],
      "source": [
        "# Create a data folder if it does not exist\n",
        "if not os.path.exists(DATA_PATH):\n",
        "    print(f'Creating {DATA_PATH}')\n",
        "    os.makedirs(DATA_PATH)\n",
        "\n",
        "# Download the dataset archive and extract it\n",
        "if not glob.glob(str(DATA_PATH / '*.csv')):\n",
        "\n",
        "    if not os.path.exists(PROJECT_PATH / ZIP_FILE):\n",
        "        !kaggle datasets download -d {DATASET} -p {DATA_PATH}\n",
        "\n",
        "    !unzip {DATA_PATH / ZIP_FILE} -d {DATA_PATH}\n",
        "    !rm {DATA_PATH / ZIP_FILE}"
      ]
    },
    {
      "cell_type": "code",
      "execution_count": 21,
      "metadata": {
        "colab": {
          "base_uri": "https://localhost:8080/"
        },
        "id": "Gp9RzrWStZqu",
        "outputId": "ee1a6397-3d2f-43f4-c2a2-3070e7a65366"
      },
      "outputs": [
        {
          "name": "stdout",
          "output_type": "stream",
          "text": [
            "\u001b[2K     \u001b[90m━━━━━━━━━━━━━━━━━━━━━━━━━━━━━━━━━━━━━━━━\u001b[0m \u001b[32m6.9/6.9 MB\u001b[0m \u001b[31m15.0 MB/s\u001b[0m eta \u001b[36m0:00:00\u001b[0m\n",
            "\u001b[2K     \u001b[90m━━━━━━━━━━━━━━━━━━━━━━━━━━━━━━━━━━━━━━━━\u001b[0m \u001b[32m72.3/72.3 MB\u001b[0m \u001b[31m22.4 MB/s\u001b[0m eta \u001b[36m0:00:00\u001b[0m\n",
            "\u001b[2K     \u001b[90m━━━━━━━━━━━━━━━━━━━━━━━━━━━━━━━━━━━━━━━━\u001b[0m \u001b[32m116.3/116.3 kB\u001b[0m \u001b[31m16.6 MB/s\u001b[0m eta \u001b[36m0:00:00\u001b[0m\n",
            "\u001b[2K     \u001b[90m━━━━━━━━━━━━━━━━━━━━━━━━━━━━━━━━━━━━━━━━\u001b[0m \u001b[32m20.3/20.3 MB\u001b[0m \u001b[31m36.1 MB/s\u001b[0m eta \u001b[36m0:00:00\u001b[0m\n",
            "\u001b[?25h"
          ]
        }
      ],
      "source": [
        "!pip install -q aerosandbox"
      ]
    },
    {
      "cell_type": "markdown",
      "metadata": {},
      "source": [
        "## **Tabular Data Processing**"
      ]
    },
    {
      "cell_type": "code",
      "execution_count": 157,
      "metadata": {
        "id": "3uiaFF5atYhW"
      },
      "outputs": [],
      "source": [
        "import pandas as pd\n",
        "import numpy as np\n",
        "import pickle\n",
        "import seaborn as sns\n",
        "import matplotlib.pyplot as plt\n",
        "\n",
        "\n",
        "from sklearn.model_selection import train_test_split\n",
        "from sklearn.preprocessing import StandardScaler, MinMaxScaler\n",
        "\n",
        "from src.features import string_to_floats\n",
        "from src.plot import airfoil_to_image\n",
        "from src.curvature_heatmap import compute_curvature\n",
        "from src.checkpoint import checkpoint"
      ]
    },
    {
      "cell_type": "markdown",
      "metadata": {},
      "source": [
        "### **Load CSV**"
      ]
    },
    {
      "cell_type": "code",
      "execution_count": 23,
      "metadata": {
        "colab": {
          "base_uri": "https://localhost:8080/",
          "height": 206
        },
        "id": "0hDkdyIScBw-",
        "outputId": "2f569ad9-55fe-48c9-f798-8e3ae305ed5c"
      },
      "outputs": [
        {
          "data": {
            "application/vnd.google.colaboratory.intrinsic+json": {
              "type": "dataframe",
              "variable_name": "df_csv"
            },
            "text/html": [
              "\n",
              "  <div id=\"df-c89a7710-05cd-4b18-a9d3-edc6b723f36c\" class=\"colab-df-container\">\n",
              "    <div>\n",
              "<style scoped>\n",
              "    .dataframe tbody tr th:only-of-type {\n",
              "        vertical-align: middle;\n",
              "    }\n",
              "\n",
              "    .dataframe tbody tr th {\n",
              "        vertical-align: top;\n",
              "    }\n",
              "\n",
              "    .dataframe thead th {\n",
              "        text-align: right;\n",
              "    }\n",
              "</style>\n",
              "<table border=\"1\" class=\"dataframe\">\n",
              "  <thead>\n",
              "    <tr style=\"text-align: right;\">\n",
              "      <th></th>\n",
              "      <th>name</th>\n",
              "      <th>angle</th>\n",
              "      <th>reynolds</th>\n",
              "      <th>x_coords</th>\n",
              "      <th>y_coords</th>\n",
              "      <th>cd</th>\n",
              "      <th>cl</th>\n",
              "      <th>cm</th>\n",
              "    </tr>\n",
              "  </thead>\n",
              "  <tbody>\n",
              "    <tr>\n",
              "      <th>0</th>\n",
              "      <td>2032c</td>\n",
              "      <td>-8.75</td>\n",
              "      <td>200000</td>\n",
              "      <td>1.0 0.95 0.9 0.8 0.7 0.6 0.5 0.4 0.3 0.25 0.2 ...</td>\n",
              "      <td>0.0016 0.0124 0.0229 0.0428 0.061 0.0771 0.090...</td>\n",
              "      <td>0.09761</td>\n",
              "      <td>-0.1581</td>\n",
              "      <td>-0.0262</td>\n",
              "    </tr>\n",
              "    <tr>\n",
              "      <th>1</th>\n",
              "      <td>2032c</td>\n",
              "      <td>-8.50</td>\n",
              "      <td>200000</td>\n",
              "      <td>1.0 0.95 0.9 0.8 0.7 0.6 0.5 0.4 0.3 0.25 0.2 ...</td>\n",
              "      <td>0.0016 0.0124 0.0229 0.0428 0.061 0.0771 0.090...</td>\n",
              "      <td>0.09468</td>\n",
              "      <td>-0.1536</td>\n",
              "      <td>-0.0262</td>\n",
              "    </tr>\n",
              "    <tr>\n",
              "      <th>2</th>\n",
              "      <td>2032c</td>\n",
              "      <td>-8.25</td>\n",
              "      <td>200000</td>\n",
              "      <td>1.0 0.95 0.9 0.8 0.7 0.6 0.5 0.4 0.3 0.25 0.2 ...</td>\n",
              "      <td>0.0016 0.0124 0.0229 0.0428 0.061 0.0771 0.090...</td>\n",
              "      <td>0.10671</td>\n",
              "      <td>-0.2407</td>\n",
              "      <td>-0.0219</td>\n",
              "    </tr>\n",
              "    <tr>\n",
              "      <th>3</th>\n",
              "      <td>2032c</td>\n",
              "      <td>-8.00</td>\n",
              "      <td>200000</td>\n",
              "      <td>1.0 0.95 0.9 0.8 0.7 0.6 0.5 0.4 0.3 0.25 0.2 ...</td>\n",
              "      <td>0.0016 0.0124 0.0229 0.0428 0.061 0.0771 0.090...</td>\n",
              "      <td>0.10247</td>\n",
              "      <td>-0.2303</td>\n",
              "      <td>-0.0213</td>\n",
              "    </tr>\n",
              "    <tr>\n",
              "      <th>4</th>\n",
              "      <td>2032c</td>\n",
              "      <td>-7.75</td>\n",
              "      <td>200000</td>\n",
              "      <td>1.0 0.95 0.9 0.8 0.7 0.6 0.5 0.4 0.3 0.25 0.2 ...</td>\n",
              "      <td>0.0016 0.0124 0.0229 0.0428 0.061 0.0771 0.090...</td>\n",
              "      <td>0.09947</td>\n",
              "      <td>-0.2229</td>\n",
              "      <td>-0.0215</td>\n",
              "    </tr>\n",
              "  </tbody>\n",
              "</table>\n",
              "</div>\n",
              "    <div class=\"colab-df-buttons\">\n",
              "\n",
              "  <div class=\"colab-df-container\">\n",
              "    <button class=\"colab-df-convert\" onclick=\"convertToInteractive('df-c89a7710-05cd-4b18-a9d3-edc6b723f36c')\"\n",
              "            title=\"Convert this dataframe to an interactive table.\"\n",
              "            style=\"display:none;\">\n",
              "\n",
              "  <svg xmlns=\"http://www.w3.org/2000/svg\" height=\"24px\" viewBox=\"0 -960 960 960\">\n",
              "    <path d=\"M120-120v-720h720v720H120Zm60-500h600v-160H180v160Zm220 220h160v-160H400v160Zm0 220h160v-160H400v160ZM180-400h160v-160H180v160Zm440 0h160v-160H620v160ZM180-180h160v-160H180v160Zm440 0h160v-160H620v160Z\"/>\n",
              "  </svg>\n",
              "    </button>\n",
              "\n",
              "  <style>\n",
              "    .colab-df-container {\n",
              "      display:flex;\n",
              "      gap: 12px;\n",
              "    }\n",
              "\n",
              "    .colab-df-convert {\n",
              "      background-color: #E8F0FE;\n",
              "      border: none;\n",
              "      border-radius: 50%;\n",
              "      cursor: pointer;\n",
              "      display: none;\n",
              "      fill: #1967D2;\n",
              "      height: 32px;\n",
              "      padding: 0 0 0 0;\n",
              "      width: 32px;\n",
              "    }\n",
              "\n",
              "    .colab-df-convert:hover {\n",
              "      background-color: #E2EBFA;\n",
              "      box-shadow: 0px 1px 2px rgba(60, 64, 67, 0.3), 0px 1px 3px 1px rgba(60, 64, 67, 0.15);\n",
              "      fill: #174EA6;\n",
              "    }\n",
              "\n",
              "    .colab-df-buttons div {\n",
              "      margin-bottom: 4px;\n",
              "    }\n",
              "\n",
              "    [theme=dark] .colab-df-convert {\n",
              "      background-color: #3B4455;\n",
              "      fill: #D2E3FC;\n",
              "    }\n",
              "\n",
              "    [theme=dark] .colab-df-convert:hover {\n",
              "      background-color: #434B5C;\n",
              "      box-shadow: 0px 1px 3px 1px rgba(0, 0, 0, 0.15);\n",
              "      filter: drop-shadow(0px 1px 2px rgba(0, 0, 0, 0.3));\n",
              "      fill: #FFFFFF;\n",
              "    }\n",
              "  </style>\n",
              "\n",
              "    <script>\n",
              "      const buttonEl =\n",
              "        document.querySelector('#df-c89a7710-05cd-4b18-a9d3-edc6b723f36c button.colab-df-convert');\n",
              "      buttonEl.style.display =\n",
              "        google.colab.kernel.accessAllowed ? 'block' : 'none';\n",
              "\n",
              "      async function convertToInteractive(key) {\n",
              "        const element = document.querySelector('#df-c89a7710-05cd-4b18-a9d3-edc6b723f36c');\n",
              "        const dataTable =\n",
              "          await google.colab.kernel.invokeFunction('convertToInteractive',\n",
              "                                                    [key], {});\n",
              "        if (!dataTable) return;\n",
              "\n",
              "        const docLinkHtml = 'Like what you see? Visit the ' +\n",
              "          '<a target=\"_blank\" href=https://colab.research.google.com/notebooks/data_table.ipynb>data table notebook</a>'\n",
              "          + ' to learn more about interactive tables.';\n",
              "        element.innerHTML = '';\n",
              "        dataTable['output_type'] = 'display_data';\n",
              "        await google.colab.output.renderOutput(dataTable, element);\n",
              "        const docLink = document.createElement('div');\n",
              "        docLink.innerHTML = docLinkHtml;\n",
              "        element.appendChild(docLink);\n",
              "      }\n",
              "    </script>\n",
              "  </div>\n",
              "\n",
              "\n",
              "<div id=\"df-37cbc75d-3fa3-4ae7-94ea-315a509b4c60\">\n",
              "  <button class=\"colab-df-quickchart\" onclick=\"quickchart('df-37cbc75d-3fa3-4ae7-94ea-315a509b4c60')\"\n",
              "            title=\"Suggest charts\"\n",
              "            style=\"display:none;\">\n",
              "\n",
              "<svg xmlns=\"http://www.w3.org/2000/svg\" height=\"24px\"viewBox=\"0 0 24 24\"\n",
              "     width=\"24px\">\n",
              "    <g>\n",
              "        <path d=\"M19 3H5c-1.1 0-2 .9-2 2v14c0 1.1.9 2 2 2h14c1.1 0 2-.9 2-2V5c0-1.1-.9-2-2-2zM9 17H7v-7h2v7zm4 0h-2V7h2v10zm4 0h-2v-4h2v4z\"/>\n",
              "    </g>\n",
              "</svg>\n",
              "  </button>\n",
              "\n",
              "<style>\n",
              "  .colab-df-quickchart {\n",
              "      --bg-color: #E8F0FE;\n",
              "      --fill-color: #1967D2;\n",
              "      --hover-bg-color: #E2EBFA;\n",
              "      --hover-fill-color: #174EA6;\n",
              "      --disabled-fill-color: #AAA;\n",
              "      --disabled-bg-color: #DDD;\n",
              "  }\n",
              "\n",
              "  [theme=dark] .colab-df-quickchart {\n",
              "      --bg-color: #3B4455;\n",
              "      --fill-color: #D2E3FC;\n",
              "      --hover-bg-color: #434B5C;\n",
              "      --hover-fill-color: #FFFFFF;\n",
              "      --disabled-bg-color: #3B4455;\n",
              "      --disabled-fill-color: #666;\n",
              "  }\n",
              "\n",
              "  .colab-df-quickchart {\n",
              "    background-color: var(--bg-color);\n",
              "    border: none;\n",
              "    border-radius: 50%;\n",
              "    cursor: pointer;\n",
              "    display: none;\n",
              "    fill: var(--fill-color);\n",
              "    height: 32px;\n",
              "    padding: 0;\n",
              "    width: 32px;\n",
              "  }\n",
              "\n",
              "  .colab-df-quickchart:hover {\n",
              "    background-color: var(--hover-bg-color);\n",
              "    box-shadow: 0 1px 2px rgba(60, 64, 67, 0.3), 0 1px 3px 1px rgba(60, 64, 67, 0.15);\n",
              "    fill: var(--button-hover-fill-color);\n",
              "  }\n",
              "\n",
              "  .colab-df-quickchart-complete:disabled,\n",
              "  .colab-df-quickchart-complete:disabled:hover {\n",
              "    background-color: var(--disabled-bg-color);\n",
              "    fill: var(--disabled-fill-color);\n",
              "    box-shadow: none;\n",
              "  }\n",
              "\n",
              "  .colab-df-spinner {\n",
              "    border: 2px solid var(--fill-color);\n",
              "    border-color: transparent;\n",
              "    border-bottom-color: var(--fill-color);\n",
              "    animation:\n",
              "      spin 1s steps(1) infinite;\n",
              "  }\n",
              "\n",
              "  @keyframes spin {\n",
              "    0% {\n",
              "      border-color: transparent;\n",
              "      border-bottom-color: var(--fill-color);\n",
              "      border-left-color: var(--fill-color);\n",
              "    }\n",
              "    20% {\n",
              "      border-color: transparent;\n",
              "      border-left-color: var(--fill-color);\n",
              "      border-top-color: var(--fill-color);\n",
              "    }\n",
              "    30% {\n",
              "      border-color: transparent;\n",
              "      border-left-color: var(--fill-color);\n",
              "      border-top-color: var(--fill-color);\n",
              "      border-right-color: var(--fill-color);\n",
              "    }\n",
              "    40% {\n",
              "      border-color: transparent;\n",
              "      border-right-color: var(--fill-color);\n",
              "      border-top-color: var(--fill-color);\n",
              "    }\n",
              "    60% {\n",
              "      border-color: transparent;\n",
              "      border-right-color: var(--fill-color);\n",
              "    }\n",
              "    80% {\n",
              "      border-color: transparent;\n",
              "      border-right-color: var(--fill-color);\n",
              "      border-bottom-color: var(--fill-color);\n",
              "    }\n",
              "    90% {\n",
              "      border-color: transparent;\n",
              "      border-bottom-color: var(--fill-color);\n",
              "    }\n",
              "  }\n",
              "</style>\n",
              "\n",
              "  <script>\n",
              "    async function quickchart(key) {\n",
              "      const quickchartButtonEl =\n",
              "        document.querySelector('#' + key + ' button');\n",
              "      quickchartButtonEl.disabled = true;  // To prevent multiple clicks.\n",
              "      quickchartButtonEl.classList.add('colab-df-spinner');\n",
              "      try {\n",
              "        const charts = await google.colab.kernel.invokeFunction(\n",
              "            'suggestCharts', [key], {});\n",
              "      } catch (error) {\n",
              "        console.error('Error during call to suggestCharts:', error);\n",
              "      }\n",
              "      quickchartButtonEl.classList.remove('colab-df-spinner');\n",
              "      quickchartButtonEl.classList.add('colab-df-quickchart-complete');\n",
              "    }\n",
              "    (() => {\n",
              "      let quickchartButtonEl =\n",
              "        document.querySelector('#df-37cbc75d-3fa3-4ae7-94ea-315a509b4c60 button');\n",
              "      quickchartButtonEl.style.display =\n",
              "        google.colab.kernel.accessAllowed ? 'block' : 'none';\n",
              "    })();\n",
              "  </script>\n",
              "</div>\n",
              "\n",
              "    </div>\n",
              "  </div>\n"
            ],
            "text/plain": [
              "    name  angle  reynolds                                           x_coords  \\\n",
              "0  2032c  -8.75    200000  1.0 0.95 0.9 0.8 0.7 0.6 0.5 0.4 0.3 0.25 0.2 ...   \n",
              "1  2032c  -8.50    200000  1.0 0.95 0.9 0.8 0.7 0.6 0.5 0.4 0.3 0.25 0.2 ...   \n",
              "2  2032c  -8.25    200000  1.0 0.95 0.9 0.8 0.7 0.6 0.5 0.4 0.3 0.25 0.2 ...   \n",
              "3  2032c  -8.00    200000  1.0 0.95 0.9 0.8 0.7 0.6 0.5 0.4 0.3 0.25 0.2 ...   \n",
              "4  2032c  -7.75    200000  1.0 0.95 0.9 0.8 0.7 0.6 0.5 0.4 0.3 0.25 0.2 ...   \n",
              "\n",
              "                                            y_coords       cd      cl      cm  \n",
              "0  0.0016 0.0124 0.0229 0.0428 0.061 0.0771 0.090...  0.09761 -0.1581 -0.0262  \n",
              "1  0.0016 0.0124 0.0229 0.0428 0.061 0.0771 0.090...  0.09468 -0.1536 -0.0262  \n",
              "2  0.0016 0.0124 0.0229 0.0428 0.061 0.0771 0.090...  0.10671 -0.2407 -0.0219  \n",
              "3  0.0016 0.0124 0.0229 0.0428 0.061 0.0771 0.090...  0.10247 -0.2303 -0.0213  \n",
              "4  0.0016 0.0124 0.0229 0.0428 0.061 0.0771 0.090...  0.09947 -0.2229 -0.0215  "
            ]
          },
          "execution_count": 23,
          "metadata": {},
          "output_type": "execute_result"
        }
      ],
      "source": [
        "# Read CSV to Dataframe\n",
        "df_csv = pd.read_csv(DATA_PATH / 'DeepLearWing.csv')\n",
        "df_csv.head()"
      ]
    },
    {
      "cell_type": "markdown",
      "metadata": {},
      "source": [
        "### **Target distribution**"
      ]
    },
    {
      "cell_type": "code",
      "execution_count": 165,
      "metadata": {
        "colab": {
          "base_uri": "https://localhost:8080/",
          "height": 407
        },
        "id": "t49gCtTkkFOB",
        "outputId": "18f21021-bd0e-4afb-ec4a-37c217a17ad0"
      },
      "outputs": [
        {
          "data": {
            "image/png": "[encoded data removed]",
            "text/plain": [
              "<Figure size 1200x400 with 3 Axes>"
            ]
          },
          "metadata": {},
          "output_type": "display_data"
        }
      ],
      "source": [
        "fig = plt.figure(figsize=(12, 4))\n",
        "\n",
        "fig.add_subplot(1, 3, 1)\n",
        "sns.histplot(df_csv['cd'], bins=50)\n",
        "\n",
        "fig.add_subplot(1, 3, 2)\n",
        "sns.histplot(df_csv['cl'], bins=50)\n",
        "\n",
        "fig.add_subplot(1, 3, 3)\n",
        "sns.histplot(df_csv['cm'], bins=50)\n",
        "\n",
        "plt.tight_layout()"
      ]
    },
    {
      "cell_type": "markdown",
      "metadata": {},
      "source": [
        "### **Sample 10 000 airfoils**"
      ]
    },
    {
      "cell_type": "code",
      "execution_count": null,
      "metadata": {},
      "outputs": [],
      "source": [
        "# Sample 10 000 simulations results\n",
        "n_samples = 10_000\n",
        "df = df_csv.sample(n = n_samples, random_state = 42).copy()"
      ]
    },
    {
      "cell_type": "markdown",
      "metadata": {},
      "source": [
        "### **Normalize values**"
      ]
    },
    {
      "cell_type": "code",
      "execution_count": 133,
      "metadata": {
        "id": "jO9sxSMMvctl"
      },
      "outputs": [],
      "source": [
        "# Implement MinMaxScaler\n",
        "mms_params = MinMaxScaler()\n",
        "mms_target = MinMaxScaler()\n",
        "\n",
        "df.loc[:, ['angle', 'reynolds']] = mms_params.fit_transform(df[['angle', 'reynolds']])\n",
        "\n",
        "targets = ['cd', 'cl', 'cm']\n",
        "df.loc[:, targets] = mms_target.fit_transform(df[targets])\n",
        "df['target'] = df.apply(lambda row: [row[t] for t in targets], axis = 1)\n",
        "\n",
        "df.loc[:, ['x_coords', 'y_coords']] = df[['x_coords', 'y_coords']].applymap(string_to_floats)\n",
        "\n",
        "df = df.drop(columns = targets)"
      ]
    },
    {
      "cell_type": "code",
      "execution_count": 134,
      "metadata": {
        "id": "q2_1FqyNdMYw"
      },
      "outputs": [],
      "source": [
        "with open(ML_PATH / 'scaler_params.pkl', 'wb') as f:\n",
        "    pickle.dump(mms_params, f)\n",
        "\n",
        "with open(ML_PATH / 'scaler_target.pkl', 'wb') as f:\n",
        "    pickle.dump(mms_target, f)"
      ]
    },
    {
      "cell_type": "code",
      "execution_count": 25,
      "metadata": {
        "colab": {
          "base_uri": "https://localhost:8080/",
          "height": 206
        },
        "id": "F4ihHpWMUjpt",
        "outputId": "e72d4e66-b655-4b03-87b4-983cfb9df7ff"
      },
      "outputs": [
        {
          "data": {
            "application/vnd.google.colaboratory.intrinsic+json": {
              "summary": "{\n  \"name\": \"df\",\n  \"rows\": 10000,\n  \"fields\": [\n    {\n      \"column\": \"name\",\n      \"properties\": {\n        \"dtype\": \"category\",\n        \"num_unique_values\": 1623,\n        \"samples\": [\n          \"hh02\",\n          \"goe500\",\n          \"goe478\"\n        ],\n        \"semantic_type\": \"\",\n        \"description\": \"\"\n      }\n    },\n    {\n      \"column\": \"angle\",\n      \"properties\": {\n        \"dtype\": \"number\",\n        \"std\": 0.20727797477299165,\n        \"min\": 0.0,\n        \"max\": 1.0,\n        \"num_unique_values\": 159,\n        \"samples\": [\n          0.2578616352201258,\n          0.0062893081761006275,\n          0.9622641509433962\n        ],\n        \"semantic_type\": \"\",\n        \"description\": \"\"\n      }\n    },\n    {\n      \"column\": \"reynolds\",\n      \"properties\": {\n        \"dtype\": \"number\",\n        \"std\": 0.3804521162704044,\n        \"min\": 0.0,\n        \"max\": 1.0,\n        \"num_unique_values\": 5,\n        \"samples\": [\n          0.05263157894736842,\n          1.0,\n          0.0\n        ],\n        \"semantic_type\": \"\",\n        \"description\": \"\"\n      }\n    },\n    {\n      \"column\": \"x_coords\",\n      \"properties\": {\n        \"dtype\": \"object\",\n        \"semantic_type\": \"\",\n        \"description\": \"\"\n      }\n    },\n    {\n      \"column\": \"y_coords\",\n      \"properties\": {\n        \"dtype\": \"object\",\n        \"semantic_type\": \"\",\n        \"description\": \"\"\n      }\n    },\n    {\n      \"column\": \"target\",\n      \"properties\": {\n        \"dtype\": \"object\",\n        \"semantic_type\": \"\",\n        \"description\": \"\"\n      }\n    }\n  ]\n}",
              "type": "dataframe",
              "variable_name": "df"
            },
            "text/html": [
              "\n",
              "  <div id=\"df-a45d8bda-2e44-436a-a8d6-3a43c08d1d94\" class=\"colab-df-container\">\n",
              "    <div>\n",
              "<style scoped>\n",
              "    .dataframe tbody tr th:only-of-type {\n",
              "        vertical-align: middle;\n",
              "    }\n",
              "\n",
              "    .dataframe tbody tr th {\n",
              "        vertical-align: top;\n",
              "    }\n",
              "\n",
              "    .dataframe thead th {\n",
              "        text-align: right;\n",
              "    }\n",
              "</style>\n",
              "<table border=\"1\" class=\"dataframe\">\n",
              "  <thead>\n",
              "    <tr style=\"text-align: right;\">\n",
              "      <th></th>\n",
              "      <th>name</th>\n",
              "      <th>angle</th>\n",
              "      <th>reynolds</th>\n",
              "      <th>x_coords</th>\n",
              "      <th>y_coords</th>\n",
              "      <th>target</th>\n",
              "    </tr>\n",
              "  </thead>\n",
              "  <tbody>\n",
              "    <tr>\n",
              "      <th>51063</th>\n",
              "      <td>fx84w127</td>\n",
              "      <td>0.823899</td>\n",
              "      <td>0.157895</td>\n",
              "      <td>[1.0, 0.99893, 0.99572, 0.99039, 0.98296, 0.97...</td>\n",
              "      <td>[0.0, 0.00011, 0.0005, 0.0012, 0.0023, 0.00385...</td>\n",
              "      <td>[0.16410609714088875, 0.760406247595599, 0.437...</td>\n",
              "    </tr>\n",
              "    <tr>\n",
              "      <th>802509</th>\n",
              "      <td>s8052</td>\n",
              "      <td>0.308176</td>\n",
              "      <td>0.052632</td>\n",
              "      <td>[1.0, 0.99803, 0.99231, 0.98301, 0.97022, 0.95...</td>\n",
              "      <td>[0.0, 0.00018, 0.00079, 0.00181, 0.0033, 0.005...</td>\n",
              "      <td>[0.16927316569066483, 0.28383473109179047, 0.4...</td>\n",
              "    </tr>\n",
              "    <tr>\n",
              "      <th>419227</th>\n",
              "      <td>goe505</td>\n",
              "      <td>0.301887</td>\n",
              "      <td>0.000000</td>\n",
              "      <td>[1.0, 0.94959, 0.89918, 0.7985, 0.69791, 0.597...</td>\n",
              "      <td>[0.0, 0.01784, 0.03568, 0.06537, 0.09105, 0.10...</td>\n",
              "      <td>[0.4231140199793318, 0.34741350568079815, 0.46...</td>\n",
              "    </tr>\n",
              "    <tr>\n",
              "      <th>132195</th>\n",
              "      <td>npl9660</td>\n",
              "      <td>0.735849</td>\n",
              "      <td>0.157895</td>\n",
              "      <td>[1.0, 0.997614, 0.990418, 0.9785, 0.961985, 0....</td>\n",
              "      <td>[0.0013, 0.001763, 0.002031, 0.002194, 0.00332...</td>\n",
              "      <td>[0.07240785394419566, 0.7069067220640661, 0.49...</td>\n",
              "    </tr>\n",
              "    <tr>\n",
              "      <th>542560</th>\n",
              "      <td>fx78k161</td>\n",
              "      <td>0.213836</td>\n",
              "      <td>0.473684</td>\n",
              "      <td>[1.0, 0.99893, 0.99572, 0.99039, 0.98296, 0.97...</td>\n",
              "      <td>[0.0, 0.00103, 0.00172, 0.00262, 0.00365, 0.00...</td>\n",
              "      <td>[0.09951774026868758, 0.2525967530968685, 0.35...</td>\n",
              "    </tr>\n",
              "  </tbody>\n",
              "</table>\n",
              "</div>\n",
              "    <div class=\"colab-df-buttons\">\n",
              "\n",
              "  <div class=\"colab-df-container\">\n",
              "    <button class=\"colab-df-convert\" onclick=\"convertToInteractive('df-a45d8bda-2e44-436a-a8d6-3a43c08d1d94')\"\n",
              "            title=\"Convert this dataframe to an interactive table.\"\n",
              "            style=\"display:none;\">\n",
              "\n",
              "  <svg xmlns=\"http://www.w3.org/2000/svg\" height=\"24px\" viewBox=\"0 -960 960 960\">\n",
              "    <path d=\"M120-120v-720h720v720H120Zm60-500h600v-160H180v160Zm220 220h160v-160H400v160Zm0 220h160v-160H400v160ZM180-400h160v-160H180v160Zm440 0h160v-160H620v160ZM180-180h160v-160H180v160Zm440 0h160v-160H620v160Z\"/>\n",
              "  </svg>\n",
              "    </button>\n",
              "\n",
              "  <style>\n",
              "    .colab-df-container {\n",
              "      display:flex;\n",
              "      gap: 12px;\n",
              "    }\n",
              "\n",
              "    .colab-df-convert {\n",
              "      background-color: #E8F0FE;\n",
              "      border: none;\n",
              "      border-radius: 50%;\n",
              "      cursor: pointer;\n",
              "      display: none;\n",
              "      fill: #1967D2;\n",
              "      height: 32px;\n",
              "      padding: 0 0 0 0;\n",
              "      width: 32px;\n",
              "    }\n",
              "\n",
              "    .colab-df-convert:hover {\n",
              "      background-color: #E2EBFA;\n",
              "      box-shadow: 0px 1px 2px rgba(60, 64, 67, 0.3), 0px 1px 3px 1px rgba(60, 64, 67, 0.15);\n",
              "      fill: #174EA6;\n",
              "    }\n",
              "\n",
              "    .colab-df-buttons div {\n",
              "      margin-bottom: 4px;\n",
              "    }\n",
              "\n",
              "    [theme=dark] .colab-df-convert {\n",
              "      background-color: #3B4455;\n",
              "      fill: #D2E3FC;\n",
              "    }\n",
              "\n",
              "    [theme=dark] .colab-df-convert:hover {\n",
              "      background-color: #434B5C;\n",
              "      box-shadow: 0px 1px 3px 1px rgba(0, 0, 0, 0.15);\n",
              "      filter: drop-shadow(0px 1px 2px rgba(0, 0, 0, 0.3));\n",
              "      fill: #FFFFFF;\n",
              "    }\n",
              "  </style>\n",
              "\n",
              "    <script>\n",
              "      const buttonEl =\n",
              "        document.querySelector('#df-a45d8bda-2e44-436a-a8d6-3a43c08d1d94 button.colab-df-convert');\n",
              "      buttonEl.style.display =\n",
              "        google.colab.kernel.accessAllowed ? 'block' : 'none';\n",
              "\n",
              "      async function convertToInteractive(key) {\n",
              "        const element = document.querySelector('#df-a45d8bda-2e44-436a-a8d6-3a43c08d1d94');\n",
              "        const dataTable =\n",
              "          await google.colab.kernel.invokeFunction('convertToInteractive',\n",
              "                                                    [key], {});\n",
              "        if (!dataTable) return;\n",
              "\n",
              "        const docLinkHtml = 'Like what you see? Visit the ' +\n",
              "          '<a target=\"_blank\" href=https://colab.research.google.com/notebooks/data_table.ipynb>data table notebook</a>'\n",
              "          + ' to learn more about interactive tables.';\n",
              "        element.innerHTML = '';\n",
              "        dataTable['output_type'] = 'display_data';\n",
              "        await google.colab.output.renderOutput(dataTable, element);\n",
              "        const docLink = document.createElement('div');\n",
              "        docLink.innerHTML = docLinkHtml;\n",
              "        element.appendChild(docLink);\n",
              "      }\n",
              "    </script>\n",
              "  </div>\n",
              "\n",
              "\n",
              "<div id=\"df-627a1ebf-9f80-4533-8fa8-059f148ccf88\">\n",
              "  <button class=\"colab-df-quickchart\" onclick=\"quickchart('df-627a1ebf-9f80-4533-8fa8-059f148ccf88')\"\n",
              "            title=\"Suggest charts\"\n",
              "            style=\"display:none;\">\n",
              "\n",
              "<svg xmlns=\"http://www.w3.org/2000/svg\" height=\"24px\"viewBox=\"0 0 24 24\"\n",
              "     width=\"24px\">\n",
              "    <g>\n",
              "        <path d=\"M19 3H5c-1.1 0-2 .9-2 2v14c0 1.1.9 2 2 2h14c1.1 0 2-.9 2-2V5c0-1.1-.9-2-2-2zM9 17H7v-7h2v7zm4 0h-2V7h2v10zm4 0h-2v-4h2v4z\"/>\n",
              "    </g>\n",
              "</svg>\n",
              "  </button>\n",
              "\n",
              "<style>\n",
              "  .colab-df-quickchart {\n",
              "      --bg-color: #E8F0FE;\n",
              "      --fill-color: #1967D2;\n",
              "      --hover-bg-color: #E2EBFA;\n",
              "      --hover-fill-color: #174EA6;\n",
              "      --disabled-fill-color: #AAA;\n",
              "      --disabled-bg-color: #DDD;\n",
              "  }\n",
              "\n",
              "  [theme=dark] .colab-df-quickchart {\n",
              "      --bg-color: #3B4455;\n",
              "      --fill-color: #D2E3FC;\n",
              "      --hover-bg-color: #434B5C;\n",
              "      --hover-fill-color: #FFFFFF;\n",
              "      --disabled-bg-color: #3B4455;\n",
              "      --disabled-fill-color: #666;\n",
              "  }\n",
              "\n",
              "  .colab-df-quickchart {\n",
              "    background-color: var(--bg-color);\n",
              "    border: none;\n",
              "    border-radius: 50%;\n",
              "    cursor: pointer;\n",
              "    display: none;\n",
              "    fill: var(--fill-color);\n",
              "    height: 32px;\n",
              "    padding: 0;\n",
              "    width: 32px;\n",
              "  }\n",
              "\n",
              "  .colab-df-quickchart:hover {\n",
              "    background-color: var(--hover-bg-color);\n",
              "    box-shadow: 0 1px 2px rgba(60, 64, 67, 0.3), 0 1px 3px 1px rgba(60, 64, 67, 0.15);\n",
              "    fill: var(--button-hover-fill-color);\n",
              "  }\n",
              "\n",
              "  .colab-df-quickchart-complete:disabled,\n",
              "  .colab-df-quickchart-complete:disabled:hover {\n",
              "    background-color: var(--disabled-bg-color);\n",
              "    fill: var(--disabled-fill-color);\n",
              "    box-shadow: none;\n",
              "  }\n",
              "\n",
              "  .colab-df-spinner {\n",
              "    border: 2px solid var(--fill-color);\n",
              "    border-color: transparent;\n",
              "    border-bottom-color: var(--fill-color);\n",
              "    animation:\n",
              "      spin 1s steps(1) infinite;\n",
              "  }\n",
              "\n",
              "  @keyframes spin {\n",
              "    0% {\n",
              "      border-color: transparent;\n",
              "      border-bottom-color: var(--fill-color);\n",
              "      border-left-color: var(--fill-color);\n",
              "    }\n",
              "    20% {\n",
              "      border-color: transparent;\n",
              "      border-left-color: var(--fill-color);\n",
              "      border-top-color: var(--fill-color);\n",
              "    }\n",
              "    30% {\n",
              "      border-color: transparent;\n",
              "      border-left-color: var(--fill-color);\n",
              "      border-top-color: var(--fill-color);\n",
              "      border-right-color: var(--fill-color);\n",
              "    }\n",
              "    40% {\n",
              "      border-color: transparent;\n",
              "      border-right-color: var(--fill-color);\n",
              "      border-top-color: var(--fill-color);\n",
              "    }\n",
              "    60% {\n",
              "      border-color: transparent;\n",
              "      border-right-color: var(--fill-color);\n",
              "    }\n",
              "    80% {\n",
              "      border-color: transparent;\n",
              "      border-right-color: var(--fill-color);\n",
              "      border-bottom-color: var(--fill-color);\n",
              "    }\n",
              "    90% {\n",
              "      border-color: transparent;\n",
              "      border-bottom-color: var(--fill-color);\n",
              "    }\n",
              "  }\n",
              "</style>\n",
              "\n",
              "  <script>\n",
              "    async function quickchart(key) {\n",
              "      const quickchartButtonEl =\n",
              "        document.querySelector('#' + key + ' button');\n",
              "      quickchartButtonEl.disabled = true;  // To prevent multiple clicks.\n",
              "      quickchartButtonEl.classList.add('colab-df-spinner');\n",
              "      try {\n",
              "        const charts = await google.colab.kernel.invokeFunction(\n",
              "            'suggestCharts', [key], {});\n",
              "      } catch (error) {\n",
              "        console.error('Error during call to suggestCharts:', error);\n",
              "      }\n",
              "      quickchartButtonEl.classList.remove('colab-df-spinner');\n",
              "      quickchartButtonEl.classList.add('colab-df-quickchart-complete');\n",
              "    }\n",
              "    (() => {\n",
              "      let quickchartButtonEl =\n",
              "        document.querySelector('#df-627a1ebf-9f80-4533-8fa8-059f148ccf88 button');\n",
              "      quickchartButtonEl.style.display =\n",
              "        google.colab.kernel.accessAllowed ? 'block' : 'none';\n",
              "    })();\n",
              "  </script>\n",
              "</div>\n",
              "\n",
              "    </div>\n",
              "  </div>\n"
            ],
            "text/plain": [
              "            name     angle  reynolds  \\\n",
              "51063   fx84w127  0.823899  0.157895   \n",
              "802509     s8052  0.308176  0.052632   \n",
              "419227    goe505  0.301887  0.000000   \n",
              "132195   npl9660  0.735849  0.157895   \n",
              "542560  fx78k161  0.213836  0.473684   \n",
              "\n",
              "                                                 x_coords  \\\n",
              "51063   [1.0, 0.99893, 0.99572, 0.99039, 0.98296, 0.97...   \n",
              "802509  [1.0, 0.99803, 0.99231, 0.98301, 0.97022, 0.95...   \n",
              "419227  [1.0, 0.94959, 0.89918, 0.7985, 0.69791, 0.597...   \n",
              "132195  [1.0, 0.997614, 0.990418, 0.9785, 0.961985, 0....   \n",
              "542560  [1.0, 0.99893, 0.99572, 0.99039, 0.98296, 0.97...   \n",
              "\n",
              "                                                 y_coords  \\\n",
              "51063   [0.0, 0.00011, 0.0005, 0.0012, 0.0023, 0.00385...   \n",
              "802509  [0.0, 0.00018, 0.00079, 0.00181, 0.0033, 0.005...   \n",
              "419227  [0.0, 0.01784, 0.03568, 0.06537, 0.09105, 0.10...   \n",
              "132195  [0.0013, 0.001763, 0.002031, 0.002194, 0.00332...   \n",
              "542560  [0.0, 0.00103, 0.00172, 0.00262, 0.00365, 0.00...   \n",
              "\n",
              "                                                   target  \n",
              "51063   [0.16410609714088875, 0.760406247595599, 0.437...  \n",
              "802509  [0.16927316569066483, 0.28383473109179047, 0.4...  \n",
              "419227  [0.4231140199793318, 0.34741350568079815, 0.46...  \n",
              "132195  [0.07240785394419566, 0.7069067220640661, 0.49...  \n",
              "542560  [0.09951774026868758, 0.2525967530968685, 0.35...  "
            ]
          },
          "execution_count": 25,
          "metadata": {},
          "output_type": "execute_result"
        }
      ],
      "source": [
        "df.head()"
      ]
    },
    {
      "cell_type": "markdown",
      "metadata": {},
      "source": [
        "## **Image preprocessing**"
      ]
    },
    {
      "cell_type": "code",
      "execution_count": 26,
      "metadata": {
        "id": "EN3-rZVsLb2o"
      },
      "outputs": [],
      "source": [
        "import concurrent\n",
        "from cv2 import GaussianBlur"
      ]
    },
    {
      "cell_type": "code",
      "execution_count": 27,
      "metadata": {
        "id": "H1_BXMocLYou"
      },
      "outputs": [],
      "source": [
        "w = 300\n",
        "h = 100\n",
        "blur = 5"
      ]
    },
    {
      "cell_type": "code",
      "execution_count": 28,
      "metadata": {
        "id": "cZ2OBBzqYaKV"
      },
      "outputs": [],
      "source": [
        "with concurrent.futures.ThreadPoolExecutor() as executor:\n",
        "    futures_shape = [executor.submit(airfoil_to_image, row['x_coords'], row['y_coords'], w, h) for _, row in df.iterrows()]\n",
        "    results_shape = [future.result() for future in futures_shape]"
      ]
    },
    {
      "cell_type": "code",
      "execution_count": 103,
      "metadata": {
        "id": "v1ePuLHn4jmy"
      },
      "outputs": [],
      "source": [
        "df['shape'] = [GaussianBlur(x, (blur, blur), 0) for x in results_shape]"
      ]
    },
    {
      "cell_type": "markdown",
      "metadata": {},
      "source": [
        "### **Airfoil sample images**"
      ]
    },
    {
      "cell_type": "code",
      "execution_count": 108,
      "metadata": {
        "colab": {
          "base_uri": "https://localhost:8080/",
          "height": 371
        },
        "id": "dNdiZO4OUd44",
        "outputId": "f7cae4eb-ff42-4dcc-fc33-664bd96d385b"
      },
      "outputs": [
        {
          "data": {
            "image/png": "[encoded data removed]",
            "text/plain": [
              "<Figure size 640x480 with 9 Axes>"
            ]
          },
          "metadata": {},
          "output_type": "display_data"
        }
      ],
      "source": [
        "# Plot a set of different airfoils\n",
        "fig = plt.figure()\n",
        "for i, airfoil in enumerate(results_shape[0:81:9]):\n",
        "    fig.add_subplot(3, 3, i + 1)\n",
        "    plt.imshow(airfoil[::-1], cmap = 'gray')\n",
        "    plt.axis('off')\n",
        "plt.tight_layout()"
      ]
    },
    {
      "cell_type": "code",
      "execution_count": 104,
      "metadata": {
        "colab": {
          "base_uri": "https://localhost:8080/",
          "height": 259
        },
        "id": "VRmr4DS1UWC9",
        "outputId": "f121d604-3f43-456c-ae0b-818382860f29"
      },
      "outputs": [
        {
          "data": {
            "image/png": "[encoded data removed]",
            "text/plain": [
              "<Figure size 640x480 with 1 Axes>"
            ]
          },
          "metadata": {},
          "output_type": "display_data"
        }
      ],
      "source": [
        "# Plot airfoil with blurred edges\n",
        "plt.imshow(df['shape'].iloc[0][::-1], cmap = 'hot')\n",
        "plt.tight_layout()"
      ]
    },
    {
      "cell_type": "code",
      "execution_count": 45,
      "metadata": {
        "colab": {
          "base_uri": "https://localhost:8080/",
          "height": 259
        },
        "id": "Imv1P0fXlBOy",
        "outputId": "6917b152-2a31-4e3e-9797-adcb7cc1de3a"
      },
      "outputs": [
        {
          "data": {
            "image/png": "[encoded data removed]",
            "text/plain": [
              "<Figure size 640x480 with 1 Axes>"
            ]
          },
          "metadata": {},
          "output_type": "display_data"
        }
      ],
      "source": [
        "# Plot average airfoil\n",
        "avg_airfoil = np.mean(results_shape, axis = 0)\n",
        "plt.imshow(avg_airfoil[::-1], cmap='hot')\n",
        "plt.tight_layout()"
      ]
    },
    {
      "cell_type": "markdown",
      "metadata": {},
      "source": [
        "## **Train test split**"
      ]
    },
    {
      "cell_type": "markdown",
      "metadata": {},
      "source": [
        "### **Split parameters**"
      ]
    },
    {
      "cell_type": "code",
      "execution_count": 33,
      "metadata": {
        "id": "ie4vQnVCw_I8"
      },
      "outputs": [],
      "source": [
        "# Combine angle and Reynolds number in a single column\n",
        "df['params'] = [x for x in np.column_stack((df['angle'], df['reynolds']))]\n",
        "\n",
        "# Train test split\n",
        "features = ['params', 'shape']\n",
        "\n",
        "X_train, X_test, y_train, y_test = train_test_split(\n",
        "    df[features],\n",
        "    df['target'],\n",
        "    test_size = 0.2,\n",
        "    random_state = 42,\n",
        "    shuffle = True\n",
        ")"
      ]
    },
    {
      "cell_type": "code",
      "execution_count": 34,
      "metadata": {
        "id": "XLMiwDN1sa11"
      },
      "outputs": [],
      "source": [
        "# Convert images to numpy arrays\n",
        "images_train = np.expand_dims(np.array([x for x in X_train['shape']], dtype='float32'), axis = -1)\n",
        "images_test = np.expand_dims(np.array([x for x in X_test['shape']], dtype='float32'), axis = -1)\n",
        "\n",
        "# Convert params to numpy arrays\n",
        "params_train = np.array([x for x in X_train['params']], dtype='float32')\n",
        "params_test = np.array([x for x in X_test['params']], dtype='float32')\n",
        "\n",
        "# Convert target to numpy arrays\n",
        "y_train = np.array([x for x in y_train])\n",
        "y_test = np.array([x for x in y_test])"
      ]
    },
    {
      "cell_type": "code",
      "execution_count": 35,
      "metadata": {
        "colab": {
          "base_uri": "https://localhost:8080/"
        },
        "id": "QenWDULT01vD",
        "outputId": "da32e022-566e-45c6-d04b-e8bf8ca72ac5"
      },
      "outputs": [
        {
          "data": {
            "text/plain": [
              "((8000, 100, 300, 1),\n",
              " (2000, 100, 300, 1),\n",
              " (8000, 2),\n",
              " (2000, 2),\n",
              " (8000, 3),\n",
              " (2000, 3))"
            ]
          },
          "execution_count": 35,
          "metadata": {},
          "output_type": "execute_result"
        }
      ],
      "source": [
        "# Check shapes\n",
        "images_train.shape, images_test.shape, params_train.shape, params_test.shape, y_train.shape, y_test.shape"
      ]
    },
    {
      "cell_type": "code",
      "execution_count": 36,
      "metadata": {
        "id": "IJ-Z8XPNN2rJ"
      },
      "outputs": [],
      "source": [
        "# Save images, parameters and targets\n",
        "with open(ML_PATH / 'images_train_shape.pkl', 'wb') as f:\n",
        "    pickle.dump(images_train, f)\n",
        "\n",
        "with open(ML_PATH / 'images_test_shape.pkl', 'wb') as f:\n",
        "    pickle.dump(images_test, f)\n",
        "\n",
        "with open(ML_PATH / 'params_train.pkl', 'wb') as f:\n",
        "    pickle.dump(params_train, f)\n",
        "\n",
        "with open(ML_PATH / 'params_test.pkl', 'wb') as f:\n",
        "    pickle.dump(params_test, f)\n",
        "\n",
        "with open(ML_PATH / 'y_train.pkl', 'wb') as f:\n",
        "    pickle.dump(y_train, f)\n",
        "\n",
        "with open(ML_PATH / 'y_test.pkl', 'wb') as f:\n",
        "    pickle.dump(y_test, f)"
      ]
    },
    {
      "cell_type": "markdown",
      "metadata": {},
      "source": [
        "### **Normalized target values in train set**"
      ]
    },
    {
      "cell_type": "code",
      "execution_count": 38,
      "metadata": {
        "colab": {
          "base_uri": "https://localhost:8080/",
          "height": 487
        },
        "id": "HM7Sf-nntM-s",
        "outputId": "2e41f4a9-308d-4581-f9f2-99b73280b63e"
      },
      "outputs": [
        {
          "data": {
            "image/png": "[encoded data removed]",
            "text/plain": [
              "<Figure size 640x480 with 1 Axes>"
            ]
          },
          "metadata": {},
          "output_type": "display_data"
        }
      ],
      "source": [
        "# plot normalized target values\n",
        "sns.histplot(y_train[:, 2], label = 'cm', bins=100, alpha=0.5)\n",
        "sns.histplot(y_train[:, 0], label = 'cd', bins=100, alpha=0.5)\n",
        "sns.histplot(y_train[:, 1], label = 'cl', bins=100, alpha=0.5)\n",
        "plt.legend()\n",
        "plt.title('Distribution of normalized target values')\n",
        "plt.tight_layout()"
      ]
    },
    {
      "cell_type": "markdown",
      "metadata": {
        "id": "hMters4hLvKn"
      },
      "source": [
        "## **Model Training**"
      ]
    },
    {
      "cell_type": "code",
      "execution_count": 48,
      "metadata": {
        "colab": {
          "base_uri": "https://localhost:8080/"
        },
        "id": "aBJ8WOE2fwU_",
        "outputId": "c2ceb6d1-8b5e-432d-ea64-85d477b52d48"
      },
      "outputs": [
        {
          "name": "stdout",
          "output_type": "stream",
          "text": [
            "\u001b[?25l     \u001b[90m━━━━━━━━━━━━━━━━━━━━━━━━━━━━━━━━━━━━━━━━\u001b[0m \u001b[32m0.0/129.1 kB\u001b[0m \u001b[31m?\u001b[0m eta \u001b[36m-:--:--\u001b[0m\r\u001b[2K     \u001b[91m━━━━━━━━━━━━━━━━━━━━━━━━━━━━━━━━━━━━━━\u001b[0m\u001b[90m╺\u001b[0m\u001b[90m━\u001b[0m \u001b[32m122.9/129.1 kB\u001b[0m \u001b[31m3.6 MB/s\u001b[0m eta \u001b[36m0:00:01\u001b[0m\r\u001b[2K     \u001b[90m━━━━━━━━━━━━━━━━━━━━━━━━━━━━━━━━━━━━━━━━\u001b[0m \u001b[32m129.1/129.1 kB\u001b[0m \u001b[31m3.3 MB/s\u001b[0m eta \u001b[36m0:00:00\u001b[0m\n",
            "\u001b[?25h"
          ]
        }
      ],
      "source": [
        "# Install Keras Tuner\n",
        "pip install -q keras-tuner"
      ]
    },
    {
      "cell_type": "code",
      "execution_count": 9,
      "metadata": {
        "id": "PGqUE6R5k3BL"
      },
      "outputs": [],
      "source": [
        "import keras_tuner as kt\n",
        "\n",
        "from tqdm import tqdm\n",
        "\n",
        "from tensorflow.keras import Model\n",
        "from tensorflow.keras.models import load_model\n",
        "from tensorflow.keras.optimizers import Adam\n",
        "from tensorflow.keras.layers import (\n",
        "    Input,\n",
        "    Conv2D,\n",
        "    MaxPooling2D,\n",
        "    Dense,\n",
        "    Flatten,\n",
        "    Dropout,\n",
        "    BatchNormalization,\n",
        "    Concatenate,\n",
        ")"
      ]
    },
    {
      "cell_type": "code",
      "execution_count": null,
      "metadata": {
        "id": "AIB8NTsXf7do"
      },
      "outputs": [],
      "source": [
        "# Define the model architecture with all possible hyperparameters values\n",
        "def build_model(hp, channels):\n",
        "\n",
        "    normalization_conv = hp.Choice(\"Normalization_conv\", [\"yes\", \"no\"])\n",
        "    normalization_dense = hp.Choice(\"Normalization_dense\", [\"yes\", \"no\"])\n",
        "\n",
        "    dropout_conv = hp.Choice(\"dropout_conv\", [\"yes\", \"no\"])\n",
        "    dropout_dense = hp.Choice(\"dropout_dense\", [\"yes\", \"no\"])\n",
        "\n",
        "    rate_dropout_conv = hp.Float(\n",
        "        \"rate_dropout_conv\", 0.1, 0.3, step = 0.1, default = 0.3\n",
        "    )\n",
        "    rate_dropout_dense = hp.Float(\n",
        "        \"rate_dropout_dense\", 0.1, 0.3, step = 0.1, default = 0.3\n",
        "    )\n",
        "\n",
        "    # CNN branch\n",
        "    cnn_input = Input(shape=(h, w, channels))\n",
        "    x = cnn_input\n",
        "\n",
        "    for i in range(hp.Int(\"conv_layers\", 2, 4)):\n",
        "        x = Conv2D(\n",
        "            filters=hp.Int(\n",
        "                \"filters_\" + str(i),\n",
        "                32,\n",
        "                128,\n",
        "                sampling = 'log',\n",
        "                step = 2,\n",
        "            ),\n",
        "            kernel_size=hp.Int(\"kernel_size_\" + str(i), 2, 4, step = 1),\n",
        "            activation=\"relu\",\n",
        "            padding=\"same\"\n",
        "        )(x)\n",
        "\n",
        "        x = MaxPooling2D()(x)\n",
        "\n",
        "        if dropout_conv == \"yes\":\n",
        "            x = Dropout(rate = rate_dropout_conv)(x)\n",
        "\n",
        "        if normalization_conv == \"yes\":\n",
        "            x = BatchNormalization()(x)\n",
        "\n",
        "    cnn_output = Flatten()(x)\n",
        "\n",
        "    # ANN branch\n",
        "    ann_input = Input(shape=(2,))\n",
        "    y = ann_input\n",
        "\n",
        "    for i in range(hp.Int(\"dense_layers\", 2, 4)):\n",
        "        ann_output = Dense(\n",
        "            units = hp.Int(\n",
        "                \"ann_neurons_\" + str(i),\n",
        "                32,\n",
        "                128,\n",
        "                sampling = 'log',\n",
        "                step = 2,\n",
        "            ),\n",
        "            activation = \"relu\",\n",
        "        )(y)\n",
        "\n",
        "    # Combine the outputs\n",
        "    combined_inputs = Concatenate()([cnn_output, ann_output])\n",
        "\n",
        "    for i in range(hp.Int(\"combined_dense_layers\", 2, 4)):\n",
        "        combined_output = Dense(\n",
        "            units = hp.Int(\n",
        "                \"combined_neurons_\" + str(i),\n",
        "                32,\n",
        "                128,\n",
        "                sampling = 'log',\n",
        "                step = 2,\n",
        "            ),\n",
        "            activation = \"relu\",\n",
        "        )(combined_inputs)\n",
        "\n",
        "        if dropout_dense == \"yes\":\n",
        "            x = Dropout(rate=rate_dropout_dense)(x)\n",
        "\n",
        "        if normalization_dense == \"yes\":\n",
        "            x = BatchNormalization()(x)\n",
        "\n",
        "    combined_output = Dense(units=3)(combined_output)\n",
        "\n",
        "    # Create the model\n",
        "    combined_model = Model(\n",
        "        inputs = [cnn_input, ann_input],\n",
        "        outputs = combined_output,\n",
        "        name = \"Combined_model\"\n",
        "    )\n",
        "\n",
        "\n",
        "    # Compile the model\n",
        "    combined_model.compile(\n",
        "        loss=\"mse\",\n",
        "        optimizer=Adam(learning_rate=0.0005),\n",
        "        metrics=['mae']\n",
        "    )\n",
        "\n",
        "    return combined_model"
      ]
    },
    {
      "cell_type": "code",
      "execution_count": null,
      "metadata": {
        "colab": {
          "base_uri": "https://localhost:8080/"
        },
        "id": "xUoLJKTAjS6R",
        "outputId": "bc6afcc9-6a72-4c5f-cd18-dd73cb1f1b28"
      },
      "outputs": [
        {
          "name": "stdout",
          "output_type": "stream",
          "text": [
            "Trial 60 Complete [00h 02m 12s]\n",
            "val_loss: 0.01835777796804905\n",
            "\n",
            "Best val_loss So Far: 0.003242496633902192\n",
            "Total elapsed time: 00h 57m 55s\n",
            "Model: \"Combined_model\"\n",
            "__________________________________________________________________________________________________\n",
            " Layer (type)                Output Shape                 Param #   Connected to                  \n",
            "==================================================================================================\n",
            " input_1 (InputLayer)        [(None, 100, 300, 1)]        0         []                            \n",
            "                                                                                                  \n",
            " conv2d (Conv2D)             (None, 100, 300, 128)        640       ['input_1[0][0]']             \n",
            "                                                                                                  \n",
            " max_pooling2d (MaxPooling2  (None, 50, 150, 128)         0         ['conv2d[0][0]']              \n",
            " D)                                                                                               \n",
            "                                                                                                  \n",
            " conv2d_1 (Conv2D)           (None, 50, 150, 128)         147584    ['max_pooling2d[0][0]']       \n",
            "                                                                                                  \n",
            " max_pooling2d_1 (MaxPoolin  (None, 25, 75, 128)          0         ['conv2d_1[0][0]']            \n",
            " g2D)                                                                                             \n",
            "                                                                                                  \n",
            " conv2d_2 (Conv2D)           (None, 25, 75, 32)           36896     ['max_pooling2d_1[0][0]']     \n",
            "                                                                                                  \n",
            " max_pooling2d_2 (MaxPoolin  (None, 12, 37, 32)           0         ['conv2d_2[0][0]']            \n",
            " g2D)                                                                                             \n",
            "                                                                                                  \n",
            " conv2d_3 (Conv2D)           (None, 12, 37, 32)           4128      ['max_pooling2d_2[0][0]']     \n",
            "                                                                                                  \n",
            " max_pooling2d_3 (MaxPoolin  (None, 6, 18, 32)            0         ['conv2d_3[0][0]']            \n",
            " g2D)                                                                                             \n",
            "                                                                                                  \n",
            " input_2 (InputLayer)        [(None, 2)]                  0         []                            \n",
            "                                                                                                  \n",
            " flatten (Flatten)           (None, 3456)                 0         ['max_pooling2d_3[0][0]']     \n",
            "                                                                                                  \n",
            " dense_2 (Dense)             (None, 32)                   96        ['input_2[0][0]']             \n",
            "                                                                                                  \n",
            " concatenate (Concatenate)   (None, 3488)                 0         ['flatten[0][0]',             \n",
            "                                                                     'dense_2[0][0]']             \n",
            "                                                                                                  \n",
            " dense_4 (Dense)             (None, 128)                  446592    ['concatenate[0][0]']         \n",
            "                                                                                                  \n",
            " dense_5 (Dense)             (None, 3)                    387       ['dense_4[0][0]']             \n",
            "                                                                                                  \n",
            "==================================================================================================\n",
            "Total params: 636323 (2.43 MB)\n",
            "Trainable params: 636323 (2.43 MB)\n",
            "Non-trainable params: 0 (0.00 Byte)\n",
            "__________________________________________________________________________________________________\n"
          ]
        }
      ],
      "source": [
        "# Implement a Hyperband tuner to find the best model\n",
        "tuner = kt.Hyperband(\n",
        "    hypermodel = lambda hp: build_model(hp, channels=1),\n",
        "    objective = \"val_loss\",\n",
        "    max_epochs = 10,\n",
        "    hyperband_iterations = 2,\n",
        "    directory = PROJECT_PATH,\n",
        "    project_name = \"tuner\",\n",
        "    overwrite = True\n",
        ")\n",
        "\n",
        "# Search for the best model\n",
        "tuner.search(\n",
        "    [images_train, params_train],\n",
        "    y_train,\n",
        "    epochs = 10,\n",
        "    batch_size = 32,\n",
        "    shuffle = True,\n",
        "    validation_split = 0.2,\n",
        ")\n",
        "\n",
        "# Save the best model\n",
        "best_model = tuner.get_best_models()[0]\n",
        "best_model.summary()\n",
        "best_model.save(ML_PATH / \"best_model_shape.keras\")"
      ]
    },
    {
      "cell_type": "code",
      "execution_count": 52,
      "metadata": {
        "id": "8g1XRUWJK-x0"
      },
      "outputs": [],
      "source": [
        "# Load and compile the best model\n",
        "best_model = load_model(ML_PATH / \"best_model_shape.keras\", compile=False)\n",
        "best_model.compile(\n",
        "    loss=\"mse\",\n",
        "    optimizer=Adam(learning_rate=0.0005),\n",
        "    metrics=['mae']\n",
        ")"
      ]
    },
    {
      "cell_type": "code",
      "execution_count": 53,
      "metadata": {
        "colab": {
          "base_uri": "https://localhost:8080/"
        },
        "id": "DhR1HXVLK9e2",
        "outputId": "1fc87782-7c95-4350-9ea4-6c6dc46ee522"
      },
      "outputs": [
        {
          "name": "stdout",
          "output_type": "stream",
          "text": [
            "Weights not found.\n"
          ]
        }
      ],
      "source": [
        "# Load weights if they exist\n",
        "if os.path.exists(ML_PATH / \"weights_model_shape.h5\"):\n",
        "    best_model.load_weights(ML_PATH / \"weights_model_shape.h5\")\n",
        "    print(\"Weights loaded.\")\n",
        "else:\n",
        "    print(\"Weights not found.\")"
      ]
    },
    {
      "cell_type": "code",
      "execution_count": 54,
      "metadata": {
        "colab": {
          "base_uri": "https://localhost:8080/"
        },
        "id": "jQdW0S4CmmKb",
        "outputId": "b28555c8-ed0a-47e0-b238-71289a290b3d"
      },
      "outputs": [
        {
          "name": "stdout",
          "output_type": "stream",
          "text": [
            "Epoch 1/100\n",
            "200/200 [==============================] - 23s 75ms/step - loss: 0.0027 - mae: 0.0375 - val_loss: 0.0030 - val_mae: 0.0376\n",
            "Epoch 2/100\n",
            "200/200 [==============================] - 14s 72ms/step - loss: 0.0025 - mae: 0.0360 - val_loss: 0.0031 - val_mae: 0.0377\n",
            "Epoch 3/100\n",
            "200/200 [==============================] - 14s 72ms/step - loss: 0.0024 - mae: 0.0354 - val_loss: 0.0031 - val_mae: 0.0377\n",
            "Epoch 4/100\n",
            "200/200 [==============================] - 15s 73ms/step - loss: 0.0023 - mae: 0.0344 - val_loss: 0.0030 - val_mae: 0.0360\n",
            "Epoch 5/100\n",
            "200/200 [==============================] - 15s 73ms/step - loss: 0.0021 - mae: 0.0331 - val_loss: 0.0027 - val_mae: 0.0348\n",
            "Epoch 6/100\n",
            "200/200 [==============================] - 15s 73ms/step - loss: 0.0020 - mae: 0.0321 - val_loss: 0.0027 - val_mae: 0.0340\n",
            "Epoch 7/100\n",
            "200/200 [==============================] - 14s 71ms/step - loss: 0.0019 - mae: 0.0309 - val_loss: 0.0027 - val_mae: 0.0339\n",
            "Epoch 8/100\n",
            "200/200 [==============================] - 15s 73ms/step - loss: 0.0018 - mae: 0.0304 - val_loss: 0.0027 - val_mae: 0.0346\n",
            "Epoch 9/100\n",
            "200/200 [==============================] - 14s 71ms/step - loss: 0.0018 - mae: 0.0304 - val_loss: 0.0027 - val_mae: 0.0330\n",
            "Epoch 10/100\n",
            "200/200 [==============================] - 14s 71ms/step - loss: 0.0017 - mae: 0.0295 - val_loss: 0.0027 - val_mae: 0.0332\n",
            "Epoch 11/100\n",
            "200/200 [==============================] - 14s 71ms/step - loss: 0.0016 - mae: 0.0287 - val_loss: 0.0027 - val_mae: 0.0345\n"
          ]
        }
      ],
      "source": [
        "# Retrain the best model found by the tuner until the early stopping criterion is met\n",
        "history = best_model.fit(\n",
        "    [images_train, params_train],\n",
        "    y_train,\n",
        "    epochs = 100,\n",
        "    batch_size = 32,\n",
        "    callbacks=checkpoint(ML_PATH / f\"weights_model_shape.h5\", patience=3),\n",
        "    validation_split = 0.2,\n",
        "    shuffle = True,\n",
        "    verbose = 1,\n",
        ")"
      ]
    },
    {
      "cell_type": "code",
      "execution_count": 58,
      "metadata": {
        "colab": {
          "base_uri": "https://localhost:8080/"
        },
        "id": "xolHc2qB3xWK",
        "outputId": "87e4d9ad-513d-4479-fc0a-1744592c1957"
      },
      "outputs": [
        {
          "name": "stdout",
          "output_type": "stream",
          "text": [
            "Test MSE: 0.0024250755086541176\n",
            "Test MAE: 0.03429581969976425\n"
          ]
        }
      ],
      "source": [
        "# Evaluate the model on the test set\n",
        "evaluation = best_model.evaluate([images_test, params_test], y_test, verbose=0)\n",
        "print(\"Test MSE:\", evaluation[0])\n",
        "print(\"Test MAE:\", evaluation[1])"
      ]
    },
    {
      "cell_type": "markdown",
      "metadata": {
        "id": "8FjDOUVHaBZu"
      },
      "source": [
        "### **Curvature Heatmap**"
      ]
    },
    {
      "cell_type": "code",
      "execution_count": 109,
      "metadata": {
        "colab": {
          "base_uri": "https://localhost:8080/"
        },
        "id": "YVXczyzl8OBl",
        "outputId": "5c4874af-23e0-4d95-e6de-8c913c1457fb"
      },
      "outputs": [
        {
          "name": "stderr",
          "output_type": "stream",
          "text": [
            "100%|██████████| 10000/10000 [01:58<00:00, 84.53it/s]\n"
          ]
        }
      ],
      "source": [
        "# Compute curvature of airfoils\n",
        "curvatures = [compute_curvature(img) for img in tqdm(df['shape'])]"
      ]
    },
    {
      "cell_type": "code",
      "execution_count": 86,
      "metadata": {
        "id": "q4ATNihZSEH5"
      },
      "outputs": [],
      "source": [
        "df['curvature'] = curvatures"
      ]
    },
    {
      "cell_type": "code",
      "execution_count": 62,
      "metadata": {
        "id": "c7W_NaVz8dM1"
      },
      "outputs": [],
      "source": [
        "# Combine shape and curvature in 2 channels for each image\n",
        "# Process images by batches to avoid memory issues\n",
        "def image_generator(df, batch_size=32):\n",
        "    num_samples = len(df)\n",
        "    for start in range(0, num_samples, batch_size):\n",
        "        end = min(start + batch_size, num_samples)\n",
        "        batch_df = df.iloc[start:end]\n",
        "\n",
        "        combined_images = []\n",
        "        indices = []\n",
        "\n",
        "        for idx, row in batch_df.iterrows():\n",
        "            channel1 = np.array(row['shape'], dtype=np.float32)\n",
        "            channel2 = np.array(row['curvature'], dtype=np.float32)\n",
        "            combined_image = np.stack([channel1, channel2], axis=-1)\n",
        "            combined_images.append(combined_image)\n",
        "            indices.append(idx)\n",
        "\n",
        "        yield pd.DataFrame({'combined_image': combined_images}, index=indices)"
      ]
    },
    {
      "cell_type": "code",
      "execution_count": 63,
      "metadata": {
        "id": "nUIWmCOg8eUG"
      },
      "outputs": [],
      "source": [
        "images_2_channels = pd.DataFrame()\n",
        "for batch in image_generator(df):\n",
        "    images_2_channels = pd.concat([images_2_channels, batch])"
      ]
    },
    {
      "cell_type": "code",
      "execution_count": 64,
      "metadata": {
        "id": "I0khN2HU8lrp"
      },
      "outputs": [],
      "source": [
        "df = pd.concat([df, images_2_channels], axis=1)"
      ]
    },
    {
      "cell_type": "code",
      "execution_count": 121,
      "metadata": {
        "colab": {
          "base_uri": "https://localhost:8080/",
          "height": 806
        },
        "id": "prctMuSK8qwX",
        "outputId": "edfe54b6-3d98-42f7-b096-fbbd7698b68e"
      },
      "outputs": [
        {
          "data": {
            "image/png": "[encoded data removed]",
            "text/plain": [
              "<Figure size 800x800 with 3 Axes>"
            ]
          },
          "metadata": {},
          "output_type": "display_data"
        }
      ],
      "source": [
        "# Show the processing steps of an airfoil\n",
        "n = 0\n",
        "fig = plt.figure(figsize=(8, 8))\n",
        "\n",
        "fig.add_subplot(3, 1, 1)\n",
        "plt.imshow(results_shape[n][::-1], cmap = 'gray')\n",
        "\n",
        "fig.add_subplot(3, 1, 2)\n",
        "plt.imshow(df['shape'].iloc[n][::-1], cmap = 'hot')\n",
        "\n",
        "fig.add_subplot(3, 1, 3)\n",
        "plt.imshow(curvatures[n][::-1], cmap = 'hot_r')\n",
        "\n",
        "plt.tight_layout()"
      ]
    },
    {
      "cell_type": "code",
      "execution_count": 123,
      "metadata": {
        "id": "6emyF6s981Fs"
      },
      "outputs": [],
      "source": [
        "# Train test split\n",
        "features = ['combined_image', 'params']\n",
        "\n",
        "X_train, X_test, y_train, y_test = train_test_split(\n",
        "    df[features],\n",
        "    df['target'],\n",
        "    test_size = 0.2,\n",
        "    random_state = 42,\n",
        "    shuffle = True\n",
        ")"
      ]
    },
    {
      "cell_type": "code",
      "execution_count": 124,
      "metadata": {
        "id": "L1j7KBJj86EI"
      },
      "outputs": [],
      "source": [
        "# Convert images to numpy arrays\n",
        "images_train = np.array([x for x in X_train['combined_image']], dtype='float32')\n",
        "images_test = np.array([x for x in X_test['combined_image']], dtype='float32')\n",
        "\n",
        "# Convert parameters to numpy arrays\n",
        "params_train = np.array([x for x in X_train['params']], dtype='float32')\n",
        "params_test = np.array([x for x in X_test['params']], dtype='float32')\n",
        "\n",
        "# Convert target values to numpy arrays\n",
        "y_train = np.array([x for x in y_train])\n",
        "y_test = np.array([x for x in y_test])"
      ]
    },
    {
      "cell_type": "code",
      "execution_count": 125,
      "metadata": {
        "colab": {
          "base_uri": "https://localhost:8080/"
        },
        "id": "oBqNsxcz9UHp",
        "outputId": "f23c178b-ba53-4e3c-990a-3fd9802e3136"
      },
      "outputs": [
        {
          "data": {
            "text/plain": [
              "((8000, 100, 300, 2),\n",
              " (2000, 100, 300, 2),\n",
              " (8000, 2),\n",
              " (2000, 2),\n",
              " (8000, 3),\n",
              " (2000, 3))"
            ]
          },
          "execution_count": 125,
          "metadata": {},
          "output_type": "execute_result"
        }
      ],
      "source": [
        "# Check shapes\n",
        "images_train.shape, images_test.shape, params_train.shape, params_test.shape, y_train.shape, y_test.shape"
      ]
    },
    {
      "cell_type": "code",
      "execution_count": 126,
      "metadata": {
        "id": "-YYGku04YyqP"
      },
      "outputs": [],
      "source": [
        "# Save the images with curvature heatmap\n",
        "with open(ML_PATH / 'images_train_curvature.pkl', 'wb') as f:\n",
        "    pickle.dump(images_train, f)\n",
        "\n",
        "with open(ML_PATH / 'images_test_curvature.pkl', 'wb') as f:\n",
        "    pickle.dump(images_test, f)"
      ]
    },
    {
      "cell_type": "code",
      "execution_count": null,
      "metadata": {
        "colab": {
          "base_uri": "https://localhost:8080/"
        },
        "id": "JkqVMUma9aId",
        "outputId": "e492e47d-4fa8-4423-f728-045e585c2e1c"
      },
      "outputs": [
        {
          "name": "stdout",
          "output_type": "stream",
          "text": [
            "Trial 60 Complete [00h 02m 02s]\n",
            "val_loss: 0.0035377047024667263\n",
            "\n",
            "Best val_loss So Far: 0.003119562054052949\n",
            "Total elapsed time: 01h 00m 01s\n",
            "Model: \"Combined_model\"\n",
            "__________________________________________________________________________________________________\n",
            " Layer (type)                Output Shape                 Param #   Connected to                  \n",
            "==================================================================================================\n",
            " input_1 (InputLayer)        [(None, 100, 300, 2)]        0         []                            \n",
            "                                                                                                  \n",
            " conv2d (Conv2D)             (None, 100, 300, 32)         1056      ['input_1[0][0]']             \n",
            "                                                                                                  \n",
            " max_pooling2d (MaxPooling2  (None, 50, 150, 32)          0         ['conv2d[0][0]']              \n",
            " D)                                                                                               \n",
            "                                                                                                  \n",
            " conv2d_1 (Conv2D)           (None, 50, 150, 32)          16416     ['max_pooling2d[0][0]']       \n",
            "                                                                                                  \n",
            " max_pooling2d_1 (MaxPoolin  (None, 25, 75, 32)           0         ['conv2d_1[0][0]']            \n",
            " g2D)                                                                                             \n",
            "                                                                                                  \n",
            " conv2d_2 (Conv2D)           (None, 25, 75, 64)           32832     ['max_pooling2d_1[0][0]']     \n",
            "                                                                                                  \n",
            " max_pooling2d_2 (MaxPoolin  (None, 12, 37, 64)           0         ['conv2d_2[0][0]']            \n",
            " g2D)                                                                                             \n",
            "                                                                                                  \n",
            " input_2 (InputLayer)        [(None, 2)]                  0         []                            \n",
            "                                                                                                  \n",
            " flatten (Flatten)           (None, 28416)                0         ['max_pooling2d_2[0][0]']     \n",
            "                                                                                                  \n",
            " dense_2 (Dense)             (None, 64)                   192       ['input_2[0][0]']             \n",
            "                                                                                                  \n",
            " concatenate (Concatenate)   (None, 28480)                0         ['flatten[0][0]',             \n",
            "                                                                     'dense_2[0][0]']             \n",
            "                                                                                                  \n",
            " dense_6 (Dense)             (None, 128)                  3645568   ['concatenate[0][0]']         \n",
            "                                                                                                  \n",
            " dense_7 (Dense)             (None, 3)                    387       ['dense_6[0][0]']             \n",
            "                                                                                                  \n",
            "==================================================================================================\n",
            "Total params: 3696451 (14.10 MB)\n",
            "Trainable params: 3696451 (14.10 MB)\n",
            "Non-trainable params: 0 (0.00 Byte)\n",
            "__________________________________________________________________________________________________\n"
          ]
        }
      ],
      "source": [
        "# Implement a Hyperband tuner to find the best model\n",
        "tuner = kt.Hyperband(\n",
        "    hypermodel = lambda hp: build_model(hp, channels=2),\n",
        "    objective = \"val_loss\",\n",
        "    max_epochs = 10,\n",
        "    hyperband_iterations = 2,\n",
        "    directory = PROJECT_PATH,\n",
        "    project_name = \"tuner\",\n",
        "    overwrite = True\n",
        ")\n",
        "\n",
        "# Search for the best model\n",
        "tuner.search(\n",
        "    [images_train, params_train],\n",
        "    y_train,\n",
        "    epochs = 10,\n",
        "    batch_size = 32,\n",
        "    shuffle = True,\n",
        "    validation_split = 0.2,\n",
        ")\n",
        "\n",
        "# Save the best model\n",
        "best_model = tuner.get_best_models()[0]\n",
        "best_model.summary()\n",
        "best_model.save(ML_PATH / \"best_model_curvature.keras\")"
      ]
    },
    {
      "cell_type": "code",
      "execution_count": 127,
      "metadata": {
        "id": "q30yuzulKORB"
      },
      "outputs": [],
      "source": [
        "# Load and compile the best model\n",
        "best_model = load_model(ML_PATH / \"best_model_curvature.keras\", compile=False)\n",
        "best_model.compile(\n",
        "    loss=\"mse\",\n",
        "    optimizer=Adam(learning_rate=0.0005),\n",
        "    metrics=['mae']\n",
        ")"
      ]
    },
    {
      "cell_type": "code",
      "execution_count": 128,
      "metadata": {
        "colab": {
          "base_uri": "https://localhost:8080/"
        },
        "id": "hXgv19cNKref",
        "outputId": "b2375aa4-abf6-4581-fd86-71618efbe255"
      },
      "outputs": [
        {
          "name": "stdout",
          "output_type": "stream",
          "text": [
            "Weights not found.\n"
          ]
        }
      ],
      "source": [
        "# Load weights if they exist\n",
        "if os.path.exists(ML_PATH / \"weights_model_curvature.h5\"):\n",
        "    best_model.load_weights(ML_PATH / \"weights_model_curvature.h5\")\n",
        "    print(\"Weights loaded.\")\n",
        "else:\n",
        "    print(\"Weights not found.\")"
      ]
    },
    {
      "cell_type": "code",
      "execution_count": 129,
      "metadata": {
        "colab": {
          "base_uri": "https://localhost:8080/"
        },
        "id": "rPIE0R5D-LKS",
        "outputId": "4d6786a9-ac37-4eff-da20-1cb9e170ba98"
      },
      "outputs": [
        {
          "name": "stdout",
          "output_type": "stream",
          "text": [
            "Epoch 1/100\n",
            "200/200 [==============================] - 11s 31ms/step - loss: 0.0025 - mae: 0.0358 - val_loss: 0.0032 - val_mae: 0.0378\n",
            "Epoch 2/100\n",
            "200/200 [==============================] - 6s 29ms/step - loss: 0.0021 - mae: 0.0334 - val_loss: 0.0030 - val_mae: 0.0368\n",
            "Epoch 3/100\n",
            "200/200 [==============================] - 6s 29ms/step - loss: 0.0020 - mae: 0.0327 - val_loss: 0.0030 - val_mae: 0.0368\n",
            "Epoch 4/100\n",
            "200/200 [==============================] - 6s 29ms/step - loss: 0.0018 - mae: 0.0309 - val_loss: 0.0029 - val_mae: 0.0371\n",
            "Epoch 5/100\n",
            "200/200 [==============================] - 6s 29ms/step - loss: 0.0017 - mae: 0.0296 - val_loss: 0.0028 - val_mae: 0.0352\n",
            "Epoch 6/100\n",
            "200/200 [==============================] - 6s 29ms/step - loss: 0.0017 - mae: 0.0293 - val_loss: 0.0028 - val_mae: 0.0351\n",
            "Epoch 7/100\n",
            "200/200 [==============================] - 6s 28ms/step - loss: 0.0015 - mae: 0.0283 - val_loss: 0.0029 - val_mae: 0.0373\n",
            "Epoch 8/100\n",
            "200/200 [==============================] - 6s 32ms/step - loss: 0.0015 - mae: 0.0278 - val_loss: 0.0026 - val_mae: 0.0344\n",
            "Epoch 9/100\n",
            "200/200 [==============================] - 6s 28ms/step - loss: 0.0014 - mae: 0.0268 - val_loss: 0.0028 - val_mae: 0.0356\n",
            "Epoch 10/100\n",
            "200/200 [==============================] - 6s 29ms/step - loss: 0.0013 - mae: 0.0263 - val_loss: 0.0026 - val_mae: 0.0332\n",
            "Epoch 11/100\n",
            "200/200 [==============================] - 6s 28ms/step - loss: 0.0012 - mae: 0.0255 - val_loss: 0.0027 - val_mae: 0.0339\n",
            "Epoch 12/100\n",
            "200/200 [==============================] - 6s 32ms/step - loss: 0.0012 - mae: 0.0251 - val_loss: 0.0026 - val_mae: 0.0329\n",
            "Epoch 13/100\n",
            "200/200 [==============================] - 6s 28ms/step - loss: 0.0011 - mae: 0.0236 - val_loss: 0.0026 - val_mae: 0.0338\n",
            "Epoch 14/100\n",
            "200/200 [==============================] - 6s 28ms/step - loss: 0.0010 - mae: 0.0233 - val_loss: 0.0027 - val_mae: 0.0347\n",
            "Epoch 15/100\n",
            "200/200 [==============================] - 6s 31ms/step - loss: 0.0010 - mae: 0.0229 - val_loss: 0.0024 - val_mae: 0.0316\n",
            "Epoch 16/100\n",
            "200/200 [==============================] - 6s 28ms/step - loss: 9.4404e-04 - mae: 0.0220 - val_loss: 0.0025 - val_mae: 0.0328\n",
            "Epoch 17/100\n",
            "200/200 [==============================] - 6s 28ms/step - loss: 9.3435e-04 - mae: 0.0219 - val_loss: 0.0024 - val_mae: 0.0321\n",
            "Epoch 18/100\n",
            "200/200 [==============================] - 6s 28ms/step - loss: 8.5491e-04 - mae: 0.0210 - val_loss: 0.0025 - val_mae: 0.0323\n"
          ]
        }
      ],
      "source": [
        "# Retrain the best model found by the tuner until the early stopping criterion is met\n",
        "history = best_model.fit(\n",
        "    [images_train, params_train],\n",
        "    y_train,\n",
        "    epochs = 100,\n",
        "    batch_size = 32,\n",
        "    callbacks=checkpoint(ML_PATH / f\"weights_model_curvature.h5\", patience = 3),\n",
        "    validation_split = 0.2,\n",
        "    shuffle = True,\n",
        "    verbose = 1,\n",
        ")"
      ]
    },
    {
      "cell_type": "code",
      "execution_count": 130,
      "metadata": {
        "colab": {
          "base_uri": "https://localhost:8080/"
        },
        "id": "A3bI5oRX-_TZ",
        "outputId": "eaccafe5-63ae-42a9-e4c1-bc13c8d7eabc"
      },
      "outputs": [
        {
          "name": "stdout",
          "output_type": "stream",
          "text": [
            "Test MSE: 0.0021493854001164436\n",
            "Test MAE: 0.030980011448264122\n"
          ]
        }
      ],
      "source": [
        "# Evaluate the model on the test set\n",
        "evaluation = best_model.evaluate([images_test, params_test], y_test, verbose=0)\n",
        "print(\"Test MSE:\", evaluation[0])\n",
        "print(\"Test MAE:\", evaluation[1])"
      ]
    },
    {
      "cell_type": "code",
      "execution_count": null,
      "metadata": {
        "id": "e_fnjlM5eYpP"
      },
      "outputs": [],
      "source": [
        "# Predictions for each test sample\n",
        "predictions = [\n",
        "    np.array(\n",
        "        best_model.predict(\n",
        "            [\n",
        "                np.expand_dims(images_test[i], axis=0),\n",
        "                np.expand_dims(params_test[i], axis=0)\n",
        "            ],\n",
        "            verbose=0\n",
        "        )\n",
        "    ) for i in range(len(y_test))\n",
        "]"
      ]
    },
    {
      "cell_type": "code",
      "execution_count": 144,
      "metadata": {
        "id": "fpxWPq8NhuXM"
      },
      "outputs": [],
      "source": [
        "# Erorrs for each test sample\n",
        "errors = [mms_target.inverse_transform(predictions[i].reshape(1, -1)) - mms_target.inverse_transform(y_test[i].reshape(1, -1)) for i in range(len(y_test))]"
      ]
    },
    {
      "cell_type": "code",
      "execution_count": 151,
      "metadata": {
        "id": "oxskJ-ldiUKy"
      },
      "outputs": [],
      "source": [
        "# Mean absolute error for each target\n",
        "cd_mean_error = np.mean([np.abs(error[:, 0]) for error in errors])\n",
        "cl_mean_error = np.mean([np.abs(error[:, 1]) for error in errors])\n",
        "cm_mean_error = np.mean([np.abs(error[:, 2]) for error in errors])"
      ]
    },
    {
      "cell_type": "code",
      "execution_count": 150,
      "metadata": {
        "colab": {
          "base_uri": "https://localhost:8080/"
        },
        "id": "g8wGUU8cipuy",
        "outputId": "d848d012-aae4-40a1-ada8-96d73b76c2ce"
      },
      "outputs": [
        {
          "data": {
            "text/plain": [
              "(0.010615770965228281, 0.10806839827744816, 0.015531298634967794)"
            ]
          },
          "execution_count": 150,
          "metadata": {},
          "output_type": "execute_result"
        }
      ],
      "source": [
        "cd_mean_error, cl_mean_error, cm_mean_error"
      ]
    }
  ],
  "metadata": {
    "accelerator": "GPU",
    "colab": {
      "gpuType": "T4",
      "include_colab_link": true,
      "machine_shape": "hm",
      "provenance": []
    },
    "kernelspec": {
      "display_name": "Python 3",
      "name": "python3"
    },
    "language_info": {
      "name": "python"
    }
  },
  "nbformat": 4,
  "nbformat_minor": 0
}
