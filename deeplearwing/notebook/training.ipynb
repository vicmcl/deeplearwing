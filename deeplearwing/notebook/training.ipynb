{
  "cells": [
    {
      "cell_type": "markdown",
      "metadata": {
        "id": "view-in-github",
        "colab_type": "text"
      },
      "source": [
        "<a href=\"https://colab.research.google.com/github/vicmcl/deeplearwing/blob/main/deeplearwing/notebook/training.ipynb\" target=\"_parent\"><img src=\"https://colab.research.google.com/assets/colab-badge.svg\" alt=\"Open In Colab\"/></a>"
      ]
    },
    {
      "cell_type": "code",
      "source": [
        "%reload_ext autoreload\n",
        "%autoreload 2"
      ],
      "metadata": {
        "id": "dcFczH-gK1wv"
      },
      "execution_count": 1,
      "outputs": []
    },
    {
      "cell_type": "code",
      "execution_count": 2,
      "metadata": {
        "id": "msfdXxljIwxS"
      },
      "outputs": [],
      "source": [
        "from pathlib import Path\n",
        "import os\n",
        "import glob"
      ]
    },
    {
      "cell_type": "code",
      "source": [
        "from google.colab import drive\n",
        "\n",
        "drive.flush_and_unmount()\n",
        "drive.mount('/content/drive')\n",
        "DRIVE_PATH = Path(\"/content/drive/MyDrive/\")\n",
        "ML_PATH = DRIVE_PATH / \"Projects\" / \"deeplearwing\""
      ],
      "metadata": {
        "colab": {
          "base_uri": "https://localhost:8080/"
        },
        "id": "DbmiQhx2N26L",
        "outputId": "58b4f562-f82f-4804-a9d1-a7dde91b249b"
      },
      "execution_count": 3,
      "outputs": [
        {
          "output_type": "stream",
          "name": "stdout",
          "text": [
            "Mounted at /content/drive\n"
          ]
        }
      ]
    },
    {
      "cell_type": "code",
      "execution_count": 4,
      "metadata": {
        "colab": {
          "base_uri": "https://localhost:8080/"
        },
        "id": "rVUA0P-XgUfv",
        "outputId": "31563f55-7659-4ca5-bc32-37683893837a"
      },
      "outputs": [
        {
          "output_type": "stream",
          "name": "stdout",
          "text": [
            "fatal: destination path 'deeplearwing' already exists and is not an empty directory.\n"
          ]
        }
      ],
      "source": [
        "!git clone https://github.com/vicmcl/deeplearwing.git"
      ]
    },
    {
      "cell_type": "code",
      "source": [
        "DATASET = \"victorienmichel/deeplearwing\"\n",
        "CONTENT_PATH = Path('/content')\n",
        "PROJECT_PATH = CONTENT_PATH / 'deeplearwing'\n",
        "DATA_PATH = PROJECT_PATH / 'data'\n",
        "ZIP_FILE = DATASET.split('/')[-1].lower() + '.zip'"
      ],
      "metadata": {
        "id": "FM_Fyn1sun2A"
      },
      "execution_count": 5,
      "outputs": []
    },
    {
      "cell_type": "code",
      "source": [
        "!cd {PROJECT_PATH} && git pull origin main\n",
        "!cp -r {PROJECT_PATH / 'deeplearwing' / 'src'} {CONTENT_PATH}"
      ],
      "metadata": {
        "colab": {
          "base_uri": "https://localhost:8080/"
        },
        "id": "UmBX09ODuesq",
        "outputId": "b789d24f-207a-4016-fdb7-99e83018d4df"
      },
      "execution_count": 6,
      "outputs": [
        {
          "output_type": "stream",
          "name": "stdout",
          "text": [
            "From https://github.com/vicmcl/deeplearwing\n",
            " * branch            main       -> FETCH_HEAD\n",
            "Already up to date.\n"
          ]
        }
      ]
    },
    {
      "cell_type": "code",
      "execution_count": 7,
      "metadata": {
        "id": "87FAKyT9b0v8"
      },
      "outputs": [],
      "source": [
        "if not os.path.exists(DATA_PATH):\n",
        "    print(f'Creating {DATA_PATH}')\n",
        "    os.makedirs(DATA_PATH)\n",
        "\n",
        "if not glob.glob(str(DATA_PATH / '*.csv')):\n",
        "\n",
        "    if not os.path.exists(PROJECT_PATH / ZIP_FILE):\n",
        "        !kaggle datasets download -d {DATASET} -p {DATA_PATH}\n",
        "\n",
        "    !unzip {DATA_PATH / ZIP_FILE} -d {DATA_PATH}\n",
        "    !rm {DATA_PATH / ZIP_FILE}"
      ]
    },
    {
      "cell_type": "code",
      "source": [
        "!pip install -q aerosandbox"
      ],
      "metadata": {
        "id": "Gp9RzrWStZqu"
      },
      "execution_count": 8,
      "outputs": []
    },
    {
      "cell_type": "code",
      "execution_count": 9,
      "metadata": {
        "id": "3uiaFF5atYhW"
      },
      "outputs": [],
      "source": [
        "import pandas as pd\n",
        "import matplotlib.pyplot as plt\n",
        "import numpy as np\n",
        "\n",
        "from sklearn.model_selection import train_test_split\n",
        "from sklearn.preprocessing import StandardScaler, MinMaxScaler\n",
        "\n",
        "from src.features import string_to_floats\n",
        "from src.plot import airfoil_to_image\n",
        "from src.curvature_heatmap import compute_curvature\n",
        "from src.checkpoint import checkpoint"
      ]
    },
    {
      "cell_type": "code",
      "execution_count": 10,
      "metadata": {
        "colab": {
          "base_uri": "https://localhost:8080/",
          "height": 206
        },
        "id": "0hDkdyIScBw-",
        "outputId": "1eff3d9c-b7c3-4a79-aa68-810fd7fed401"
      },
      "outputs": [
        {
          "output_type": "execute_result",
          "data": {
            "text/plain": [
              "    name  angle  reynolds                                           x_coords  \\\n",
              "0  2032c  -8.75    200000  1.0 0.95 0.9 0.8 0.7 0.6 0.5 0.4 0.3 0.25 0.2 ...   \n",
              "1  2032c  -8.50    200000  1.0 0.95 0.9 0.8 0.7 0.6 0.5 0.4 0.3 0.25 0.2 ...   \n",
              "2  2032c  -8.25    200000  1.0 0.95 0.9 0.8 0.7 0.6 0.5 0.4 0.3 0.25 0.2 ...   \n",
              "3  2032c  -8.00    200000  1.0 0.95 0.9 0.8 0.7 0.6 0.5 0.4 0.3 0.25 0.2 ...   \n",
              "4  2032c  -7.75    200000  1.0 0.95 0.9 0.8 0.7 0.6 0.5 0.4 0.3 0.25 0.2 ...   \n",
              "\n",
              "                                            y_coords       cd      cl      cm  \n",
              "0  0.0016 0.0124 0.0229 0.0428 0.061 0.0771 0.090...  0.09761 -0.1581 -0.0262  \n",
              "1  0.0016 0.0124 0.0229 0.0428 0.061 0.0771 0.090...  0.09468 -0.1536 -0.0262  \n",
              "2  0.0016 0.0124 0.0229 0.0428 0.061 0.0771 0.090...  0.10671 -0.2407 -0.0219  \n",
              "3  0.0016 0.0124 0.0229 0.0428 0.061 0.0771 0.090...  0.10247 -0.2303 -0.0213  \n",
              "4  0.0016 0.0124 0.0229 0.0428 0.061 0.0771 0.090...  0.09947 -0.2229 -0.0215  "
            ],
            "text/html": [
              "\n",
              "  <div id=\"df-3732fd9c-22c7-4d48-aa3d-1a4432776883\" class=\"colab-df-container\">\n",
              "    <div>\n",
              "<style scoped>\n",
              "    .dataframe tbody tr th:only-of-type {\n",
              "        vertical-align: middle;\n",
              "    }\n",
              "\n",
              "    .dataframe tbody tr th {\n",
              "        vertical-align: top;\n",
              "    }\n",
              "\n",
              "    .dataframe thead th {\n",
              "        text-align: right;\n",
              "    }\n",
              "</style>\n",
              "<table border=\"1\" class=\"dataframe\">\n",
              "  <thead>\n",
              "    <tr style=\"text-align: right;\">\n",
              "      <th></th>\n",
              "      <th>name</th>\n",
              "      <th>angle</th>\n",
              "      <th>reynolds</th>\n",
              "      <th>x_coords</th>\n",
              "      <th>y_coords</th>\n",
              "      <th>cd</th>\n",
              "      <th>cl</th>\n",
              "      <th>cm</th>\n",
              "    </tr>\n",
              "  </thead>\n",
              "  <tbody>\n",
              "    <tr>\n",
              "      <th>0</th>\n",
              "      <td>2032c</td>\n",
              "      <td>-8.75</td>\n",
              "      <td>200000</td>\n",
              "      <td>1.0 0.95 0.9 0.8 0.7 0.6 0.5 0.4 0.3 0.25 0.2 ...</td>\n",
              "      <td>0.0016 0.0124 0.0229 0.0428 0.061 0.0771 0.090...</td>\n",
              "      <td>0.09761</td>\n",
              "      <td>-0.1581</td>\n",
              "      <td>-0.0262</td>\n",
              "    </tr>\n",
              "    <tr>\n",
              "      <th>1</th>\n",
              "      <td>2032c</td>\n",
              "      <td>-8.50</td>\n",
              "      <td>200000</td>\n",
              "      <td>1.0 0.95 0.9 0.8 0.7 0.6 0.5 0.4 0.3 0.25 0.2 ...</td>\n",
              "      <td>0.0016 0.0124 0.0229 0.0428 0.061 0.0771 0.090...</td>\n",
              "      <td>0.09468</td>\n",
              "      <td>-0.1536</td>\n",
              "      <td>-0.0262</td>\n",
              "    </tr>\n",
              "    <tr>\n",
              "      <th>2</th>\n",
              "      <td>2032c</td>\n",
              "      <td>-8.25</td>\n",
              "      <td>200000</td>\n",
              "      <td>1.0 0.95 0.9 0.8 0.7 0.6 0.5 0.4 0.3 0.25 0.2 ...</td>\n",
              "      <td>0.0016 0.0124 0.0229 0.0428 0.061 0.0771 0.090...</td>\n",
              "      <td>0.10671</td>\n",
              "      <td>-0.2407</td>\n",
              "      <td>-0.0219</td>\n",
              "    </tr>\n",
              "    <tr>\n",
              "      <th>3</th>\n",
              "      <td>2032c</td>\n",
              "      <td>-8.00</td>\n",
              "      <td>200000</td>\n",
              "      <td>1.0 0.95 0.9 0.8 0.7 0.6 0.5 0.4 0.3 0.25 0.2 ...</td>\n",
              "      <td>0.0016 0.0124 0.0229 0.0428 0.061 0.0771 0.090...</td>\n",
              "      <td>0.10247</td>\n",
              "      <td>-0.2303</td>\n",
              "      <td>-0.0213</td>\n",
              "    </tr>\n",
              "    <tr>\n",
              "      <th>4</th>\n",
              "      <td>2032c</td>\n",
              "      <td>-7.75</td>\n",
              "      <td>200000</td>\n",
              "      <td>1.0 0.95 0.9 0.8 0.7 0.6 0.5 0.4 0.3 0.25 0.2 ...</td>\n",
              "      <td>0.0016 0.0124 0.0229 0.0428 0.061 0.0771 0.090...</td>\n",
              "      <td>0.09947</td>\n",
              "      <td>-0.2229</td>\n",
              "      <td>-0.0215</td>\n",
              "    </tr>\n",
              "  </tbody>\n",
              "</table>\n",
              "</div>\n",
              "    <div class=\"colab-df-buttons\">\n",
              "\n",
              "  <div class=\"colab-df-container\">\n",
              "    <button class=\"colab-df-convert\" onclick=\"convertToInteractive('df-3732fd9c-22c7-4d48-aa3d-1a4432776883')\"\n",
              "            title=\"Convert this dataframe to an interactive table.\"\n",
              "            style=\"display:none;\">\n",
              "\n",
              "  <svg xmlns=\"http://www.w3.org/2000/svg\" height=\"24px\" viewBox=\"0 -960 960 960\">\n",
              "    <path d=\"M120-120v-720h720v720H120Zm60-500h600v-160H180v160Zm220 220h160v-160H400v160Zm0 220h160v-160H400v160ZM180-400h160v-160H180v160Zm440 0h160v-160H620v160ZM180-180h160v-160H180v160Zm440 0h160v-160H620v160Z\"/>\n",
              "  </svg>\n",
              "    </button>\n",
              "\n",
              "  <style>\n",
              "    .colab-df-container {\n",
              "      display:flex;\n",
              "      gap: 12px;\n",
              "    }\n",
              "\n",
              "    .colab-df-convert {\n",
              "      background-color: #E8F0FE;\n",
              "      border: none;\n",
              "      border-radius: 50%;\n",
              "      cursor: pointer;\n",
              "      display: none;\n",
              "      fill: #1967D2;\n",
              "      height: 32px;\n",
              "      padding: 0 0 0 0;\n",
              "      width: 32px;\n",
              "    }\n",
              "\n",
              "    .colab-df-convert:hover {\n",
              "      background-color: #E2EBFA;\n",
              "      box-shadow: 0px 1px 2px rgba(60, 64, 67, 0.3), 0px 1px 3px 1px rgba(60, 64, 67, 0.15);\n",
              "      fill: #174EA6;\n",
              "    }\n",
              "\n",
              "    .colab-df-buttons div {\n",
              "      margin-bottom: 4px;\n",
              "    }\n",
              "\n",
              "    [theme=dark] .colab-df-convert {\n",
              "      background-color: #3B4455;\n",
              "      fill: #D2E3FC;\n",
              "    }\n",
              "\n",
              "    [theme=dark] .colab-df-convert:hover {\n",
              "      background-color: #434B5C;\n",
              "      box-shadow: 0px 1px 3px 1px rgba(0, 0, 0, 0.15);\n",
              "      filter: drop-shadow(0px 1px 2px rgba(0, 0, 0, 0.3));\n",
              "      fill: #FFFFFF;\n",
              "    }\n",
              "  </style>\n",
              "\n",
              "    <script>\n",
              "      const buttonEl =\n",
              "        document.querySelector('#df-3732fd9c-22c7-4d48-aa3d-1a4432776883 button.colab-df-convert');\n",
              "      buttonEl.style.display =\n",
              "        google.colab.kernel.accessAllowed ? 'block' : 'none';\n",
              "\n",
              "      async function convertToInteractive(key) {\n",
              "        const element = document.querySelector('#df-3732fd9c-22c7-4d48-aa3d-1a4432776883');\n",
              "        const dataTable =\n",
              "          await google.colab.kernel.invokeFunction('convertToInteractive',\n",
              "                                                    [key], {});\n",
              "        if (!dataTable) return;\n",
              "\n",
              "        const docLinkHtml = 'Like what you see? Visit the ' +\n",
              "          '<a target=\"_blank\" href=https://colab.research.google.com/notebooks/data_table.ipynb>data table notebook</a>'\n",
              "          + ' to learn more about interactive tables.';\n",
              "        element.innerHTML = '';\n",
              "        dataTable['output_type'] = 'display_data';\n",
              "        await google.colab.output.renderOutput(dataTable, element);\n",
              "        const docLink = document.createElement('div');\n",
              "        docLink.innerHTML = docLinkHtml;\n",
              "        element.appendChild(docLink);\n",
              "      }\n",
              "    </script>\n",
              "  </div>\n",
              "\n",
              "\n",
              "<div id=\"df-086ecb69-37cc-46ad-b39f-9be951e0912c\">\n",
              "  <button class=\"colab-df-quickchart\" onclick=\"quickchart('df-086ecb69-37cc-46ad-b39f-9be951e0912c')\"\n",
              "            title=\"Suggest charts\"\n",
              "            style=\"display:none;\">\n",
              "\n",
              "<svg xmlns=\"http://www.w3.org/2000/svg\" height=\"24px\"viewBox=\"0 0 24 24\"\n",
              "     width=\"24px\">\n",
              "    <g>\n",
              "        <path d=\"M19 3H5c-1.1 0-2 .9-2 2v14c0 1.1.9 2 2 2h14c1.1 0 2-.9 2-2V5c0-1.1-.9-2-2-2zM9 17H7v-7h2v7zm4 0h-2V7h2v10zm4 0h-2v-4h2v4z\"/>\n",
              "    </g>\n",
              "</svg>\n",
              "  </button>\n",
              "\n",
              "<style>\n",
              "  .colab-df-quickchart {\n",
              "      --bg-color: #E8F0FE;\n",
              "      --fill-color: #1967D2;\n",
              "      --hover-bg-color: #E2EBFA;\n",
              "      --hover-fill-color: #174EA6;\n",
              "      --disabled-fill-color: #AAA;\n",
              "      --disabled-bg-color: #DDD;\n",
              "  }\n",
              "\n",
              "  [theme=dark] .colab-df-quickchart {\n",
              "      --bg-color: #3B4455;\n",
              "      --fill-color: #D2E3FC;\n",
              "      --hover-bg-color: #434B5C;\n",
              "      --hover-fill-color: #FFFFFF;\n",
              "      --disabled-bg-color: #3B4455;\n",
              "      --disabled-fill-color: #666;\n",
              "  }\n",
              "\n",
              "  .colab-df-quickchart {\n",
              "    background-color: var(--bg-color);\n",
              "    border: none;\n",
              "    border-radius: 50%;\n",
              "    cursor: pointer;\n",
              "    display: none;\n",
              "    fill: var(--fill-color);\n",
              "    height: 32px;\n",
              "    padding: 0;\n",
              "    width: 32px;\n",
              "  }\n",
              "\n",
              "  .colab-df-quickchart:hover {\n",
              "    background-color: var(--hover-bg-color);\n",
              "    box-shadow: 0 1px 2px rgba(60, 64, 67, 0.3), 0 1px 3px 1px rgba(60, 64, 67, 0.15);\n",
              "    fill: var(--button-hover-fill-color);\n",
              "  }\n",
              "\n",
              "  .colab-df-quickchart-complete:disabled,\n",
              "  .colab-df-quickchart-complete:disabled:hover {\n",
              "    background-color: var(--disabled-bg-color);\n",
              "    fill: var(--disabled-fill-color);\n",
              "    box-shadow: none;\n",
              "  }\n",
              "\n",
              "  .colab-df-spinner {\n",
              "    border: 2px solid var(--fill-color);\n",
              "    border-color: transparent;\n",
              "    border-bottom-color: var(--fill-color);\n",
              "    animation:\n",
              "      spin 1s steps(1) infinite;\n",
              "  }\n",
              "\n",
              "  @keyframes spin {\n",
              "    0% {\n",
              "      border-color: transparent;\n",
              "      border-bottom-color: var(--fill-color);\n",
              "      border-left-color: var(--fill-color);\n",
              "    }\n",
              "    20% {\n",
              "      border-color: transparent;\n",
              "      border-left-color: var(--fill-color);\n",
              "      border-top-color: var(--fill-color);\n",
              "    }\n",
              "    30% {\n",
              "      border-color: transparent;\n",
              "      border-left-color: var(--fill-color);\n",
              "      border-top-color: var(--fill-color);\n",
              "      border-right-color: var(--fill-color);\n",
              "    }\n",
              "    40% {\n",
              "      border-color: transparent;\n",
              "      border-right-color: var(--fill-color);\n",
              "      border-top-color: var(--fill-color);\n",
              "    }\n",
              "    60% {\n",
              "      border-color: transparent;\n",
              "      border-right-color: var(--fill-color);\n",
              "    }\n",
              "    80% {\n",
              "      border-color: transparent;\n",
              "      border-right-color: var(--fill-color);\n",
              "      border-bottom-color: var(--fill-color);\n",
              "    }\n",
              "    90% {\n",
              "      border-color: transparent;\n",
              "      border-bottom-color: var(--fill-color);\n",
              "    }\n",
              "  }\n",
              "</style>\n",
              "\n",
              "  <script>\n",
              "    async function quickchart(key) {\n",
              "      const quickchartButtonEl =\n",
              "        document.querySelector('#' + key + ' button');\n",
              "      quickchartButtonEl.disabled = true;  // To prevent multiple clicks.\n",
              "      quickchartButtonEl.classList.add('colab-df-spinner');\n",
              "      try {\n",
              "        const charts = await google.colab.kernel.invokeFunction(\n",
              "            'suggestCharts', [key], {});\n",
              "      } catch (error) {\n",
              "        console.error('Error during call to suggestCharts:', error);\n",
              "      }\n",
              "      quickchartButtonEl.classList.remove('colab-df-spinner');\n",
              "      quickchartButtonEl.classList.add('colab-df-quickchart-complete');\n",
              "    }\n",
              "    (() => {\n",
              "      let quickchartButtonEl =\n",
              "        document.querySelector('#df-086ecb69-37cc-46ad-b39f-9be951e0912c button');\n",
              "      quickchartButtonEl.style.display =\n",
              "        google.colab.kernel.accessAllowed ? 'block' : 'none';\n",
              "    })();\n",
              "  </script>\n",
              "</div>\n",
              "\n",
              "    </div>\n",
              "  </div>\n"
            ],
            "application/vnd.google.colaboratory.intrinsic+json": {
              "type": "dataframe",
              "variable_name": "df_csv"
            }
          },
          "metadata": {},
          "execution_count": 10
        }
      ],
      "source": [
        "df_csv = pd.read_csv(DATA_PATH / 'DeepLearWing.csv')\n",
        "df_csv.head()"
      ]
    },
    {
      "cell_type": "code",
      "source": [
        "n_samples = 10_000\n",
        "df = df_csv.sample(n = n_samples, random_state = 42).copy()\n",
        "\n",
        "mms_params = MinMaxScaler()\n",
        "mms_target = MinMaxScaler()\n",
        "\n",
        "df.loc[:, ['angle', 'reynolds']] = mms_params.fit_transform(df[['angle', 'reynolds']])\n",
        "\n",
        "targets = ['cd', 'cl', 'cm']\n",
        "df.loc[:, targets] = mms_target.fit_transform(df[targets])\n",
        "df['target'] = df.apply(lambda row: [row[t] for t in targets], axis = 1)\n",
        "\n",
        "df.loc[:, ['x_coords', 'y_coords']] = df[['x_coords', 'y_coords']].applymap(string_to_floats)\n",
        "\n",
        "df = df.drop(columns = targets)"
      ],
      "metadata": {
        "id": "jO9sxSMMvctl"
      },
      "execution_count": 60,
      "outputs": []
    },
    {
      "cell_type": "code",
      "source": [
        "df.head()"
      ],
      "metadata": {
        "colab": {
          "base_uri": "https://localhost:8080/",
          "height": 206
        },
        "id": "F4ihHpWMUjpt",
        "outputId": "c16d15c5-ce53-49bc-ab93-6a96655bf5c5"
      },
      "execution_count": 12,
      "outputs": [
        {
          "output_type": "execute_result",
          "data": {
            "text/plain": [
              "            name     angle  reynolds  \\\n",
              "51063   fx84w127  0.823899  0.157895   \n",
              "802509     s8052  0.308176  0.052632   \n",
              "419227    goe505  0.301887  0.000000   \n",
              "132195   npl9660  0.735849  0.157895   \n",
              "542560  fx78k161  0.213836  0.473684   \n",
              "\n",
              "                                                 x_coords  \\\n",
              "51063   [1.0, 0.99893, 0.99572, 0.99039, 0.98296, 0.97...   \n",
              "802509  [1.0, 0.99803, 0.99231, 0.98301, 0.97022, 0.95...   \n",
              "419227  [1.0, 0.94959, 0.89918, 0.7985, 0.69791, 0.597...   \n",
              "132195  [1.0, 0.997614, 0.990418, 0.9785, 0.961985, 0....   \n",
              "542560  [1.0, 0.99893, 0.99572, 0.99039, 0.98296, 0.97...   \n",
              "\n",
              "                                                 y_coords  \\\n",
              "51063   [0.0, 0.00011, 0.0005, 0.0012, 0.0023, 0.00385...   \n",
              "802509  [0.0, 0.00018, 0.00079, 0.00181, 0.0033, 0.005...   \n",
              "419227  [0.0, 0.01784, 0.03568, 0.06537, 0.09105, 0.10...   \n",
              "132195  [0.0013, 0.001763, 0.002031, 0.002194, 0.00332...   \n",
              "542560  [0.0, 0.00103, 0.00172, 0.00262, 0.00365, 0.00...   \n",
              "\n",
              "                                                   target  \n",
              "51063   [0.16410609714088875, 0.760406247595599, 0.437...  \n",
              "802509  [0.16927316569066483, 0.28383473109179047, 0.4...  \n",
              "419227  [0.4231140199793318, 0.34741350568079815, 0.46...  \n",
              "132195  [0.07240785394419566, 0.7069067220640661, 0.49...  \n",
              "542560  [0.09951774026868758, 0.2525967530968685, 0.35...  "
            ],
            "text/html": [
              "\n",
              "  <div id=\"df-99d2bdf3-5922-4e45-aea1-070ace8a462c\" class=\"colab-df-container\">\n",
              "    <div>\n",
              "<style scoped>\n",
              "    .dataframe tbody tr th:only-of-type {\n",
              "        vertical-align: middle;\n",
              "    }\n",
              "\n",
              "    .dataframe tbody tr th {\n",
              "        vertical-align: top;\n",
              "    }\n",
              "\n",
              "    .dataframe thead th {\n",
              "        text-align: right;\n",
              "    }\n",
              "</style>\n",
              "<table border=\"1\" class=\"dataframe\">\n",
              "  <thead>\n",
              "    <tr style=\"text-align: right;\">\n",
              "      <th></th>\n",
              "      <th>name</th>\n",
              "      <th>angle</th>\n",
              "      <th>reynolds</th>\n",
              "      <th>x_coords</th>\n",
              "      <th>y_coords</th>\n",
              "      <th>target</th>\n",
              "    </tr>\n",
              "  </thead>\n",
              "  <tbody>\n",
              "    <tr>\n",
              "      <th>51063</th>\n",
              "      <td>fx84w127</td>\n",
              "      <td>0.823899</td>\n",
              "      <td>0.157895</td>\n",
              "      <td>[1.0, 0.99893, 0.99572, 0.99039, 0.98296, 0.97...</td>\n",
              "      <td>[0.0, 0.00011, 0.0005, 0.0012, 0.0023, 0.00385...</td>\n",
              "      <td>[0.16410609714088875, 0.760406247595599, 0.437...</td>\n",
              "    </tr>\n",
              "    <tr>\n",
              "      <th>802509</th>\n",
              "      <td>s8052</td>\n",
              "      <td>0.308176</td>\n",
              "      <td>0.052632</td>\n",
              "      <td>[1.0, 0.99803, 0.99231, 0.98301, 0.97022, 0.95...</td>\n",
              "      <td>[0.0, 0.00018, 0.00079, 0.00181, 0.0033, 0.005...</td>\n",
              "      <td>[0.16927316569066483, 0.28383473109179047, 0.4...</td>\n",
              "    </tr>\n",
              "    <tr>\n",
              "      <th>419227</th>\n",
              "      <td>goe505</td>\n",
              "      <td>0.301887</td>\n",
              "      <td>0.000000</td>\n",
              "      <td>[1.0, 0.94959, 0.89918, 0.7985, 0.69791, 0.597...</td>\n",
              "      <td>[0.0, 0.01784, 0.03568, 0.06537, 0.09105, 0.10...</td>\n",
              "      <td>[0.4231140199793318, 0.34741350568079815, 0.46...</td>\n",
              "    </tr>\n",
              "    <tr>\n",
              "      <th>132195</th>\n",
              "      <td>npl9660</td>\n",
              "      <td>0.735849</td>\n",
              "      <td>0.157895</td>\n",
              "      <td>[1.0, 0.997614, 0.990418, 0.9785, 0.961985, 0....</td>\n",
              "      <td>[0.0013, 0.001763, 0.002031, 0.002194, 0.00332...</td>\n",
              "      <td>[0.07240785394419566, 0.7069067220640661, 0.49...</td>\n",
              "    </tr>\n",
              "    <tr>\n",
              "      <th>542560</th>\n",
              "      <td>fx78k161</td>\n",
              "      <td>0.213836</td>\n",
              "      <td>0.473684</td>\n",
              "      <td>[1.0, 0.99893, 0.99572, 0.99039, 0.98296, 0.97...</td>\n",
              "      <td>[0.0, 0.00103, 0.00172, 0.00262, 0.00365, 0.00...</td>\n",
              "      <td>[0.09951774026868758, 0.2525967530968685, 0.35...</td>\n",
              "    </tr>\n",
              "  </tbody>\n",
              "</table>\n",
              "</div>\n",
              "    <div class=\"colab-df-buttons\">\n",
              "\n",
              "  <div class=\"colab-df-container\">\n",
              "    <button class=\"colab-df-convert\" onclick=\"convertToInteractive('df-99d2bdf3-5922-4e45-aea1-070ace8a462c')\"\n",
              "            title=\"Convert this dataframe to an interactive table.\"\n",
              "            style=\"display:none;\">\n",
              "\n",
              "  <svg xmlns=\"http://www.w3.org/2000/svg\" height=\"24px\" viewBox=\"0 -960 960 960\">\n",
              "    <path d=\"M120-120v-720h720v720H120Zm60-500h600v-160H180v160Zm220 220h160v-160H400v160Zm0 220h160v-160H400v160ZM180-400h160v-160H180v160Zm440 0h160v-160H620v160ZM180-180h160v-160H180v160Zm440 0h160v-160H620v160Z\"/>\n",
              "  </svg>\n",
              "    </button>\n",
              "\n",
              "  <style>\n",
              "    .colab-df-container {\n",
              "      display:flex;\n",
              "      gap: 12px;\n",
              "    }\n",
              "\n",
              "    .colab-df-convert {\n",
              "      background-color: #E8F0FE;\n",
              "      border: none;\n",
              "      border-radius: 50%;\n",
              "      cursor: pointer;\n",
              "      display: none;\n",
              "      fill: #1967D2;\n",
              "      height: 32px;\n",
              "      padding: 0 0 0 0;\n",
              "      width: 32px;\n",
              "    }\n",
              "\n",
              "    .colab-df-convert:hover {\n",
              "      background-color: #E2EBFA;\n",
              "      box-shadow: 0px 1px 2px rgba(60, 64, 67, 0.3), 0px 1px 3px 1px rgba(60, 64, 67, 0.15);\n",
              "      fill: #174EA6;\n",
              "    }\n",
              "\n",
              "    .colab-df-buttons div {\n",
              "      margin-bottom: 4px;\n",
              "    }\n",
              "\n",
              "    [theme=dark] .colab-df-convert {\n",
              "      background-color: #3B4455;\n",
              "      fill: #D2E3FC;\n",
              "    }\n",
              "\n",
              "    [theme=dark] .colab-df-convert:hover {\n",
              "      background-color: #434B5C;\n",
              "      box-shadow: 0px 1px 3px 1px rgba(0, 0, 0, 0.15);\n",
              "      filter: drop-shadow(0px 1px 2px rgba(0, 0, 0, 0.3));\n",
              "      fill: #FFFFFF;\n",
              "    }\n",
              "  </style>\n",
              "\n",
              "    <script>\n",
              "      const buttonEl =\n",
              "        document.querySelector('#df-99d2bdf3-5922-4e45-aea1-070ace8a462c button.colab-df-convert');\n",
              "      buttonEl.style.display =\n",
              "        google.colab.kernel.accessAllowed ? 'block' : 'none';\n",
              "\n",
              "      async function convertToInteractive(key) {\n",
              "        const element = document.querySelector('#df-99d2bdf3-5922-4e45-aea1-070ace8a462c');\n",
              "        const dataTable =\n",
              "          await google.colab.kernel.invokeFunction('convertToInteractive',\n",
              "                                                    [key], {});\n",
              "        if (!dataTable) return;\n",
              "\n",
              "        const docLinkHtml = 'Like what you see? Visit the ' +\n",
              "          '<a target=\"_blank\" href=https://colab.research.google.com/notebooks/data_table.ipynb>data table notebook</a>'\n",
              "          + ' to learn more about interactive tables.';\n",
              "        element.innerHTML = '';\n",
              "        dataTable['output_type'] = 'display_data';\n",
              "        await google.colab.output.renderOutput(dataTable, element);\n",
              "        const docLink = document.createElement('div');\n",
              "        docLink.innerHTML = docLinkHtml;\n",
              "        element.appendChild(docLink);\n",
              "      }\n",
              "    </script>\n",
              "  </div>\n",
              "\n",
              "\n",
              "<div id=\"df-dd6c30e1-031c-4d1b-bb1c-f34fe7cb2b98\">\n",
              "  <button class=\"colab-df-quickchart\" onclick=\"quickchart('df-dd6c30e1-031c-4d1b-bb1c-f34fe7cb2b98')\"\n",
              "            title=\"Suggest charts\"\n",
              "            style=\"display:none;\">\n",
              "\n",
              "<svg xmlns=\"http://www.w3.org/2000/svg\" height=\"24px\"viewBox=\"0 0 24 24\"\n",
              "     width=\"24px\">\n",
              "    <g>\n",
              "        <path d=\"M19 3H5c-1.1 0-2 .9-2 2v14c0 1.1.9 2 2 2h14c1.1 0 2-.9 2-2V5c0-1.1-.9-2-2-2zM9 17H7v-7h2v7zm4 0h-2V7h2v10zm4 0h-2v-4h2v4z\"/>\n",
              "    </g>\n",
              "</svg>\n",
              "  </button>\n",
              "\n",
              "<style>\n",
              "  .colab-df-quickchart {\n",
              "      --bg-color: #E8F0FE;\n",
              "      --fill-color: #1967D2;\n",
              "      --hover-bg-color: #E2EBFA;\n",
              "      --hover-fill-color: #174EA6;\n",
              "      --disabled-fill-color: #AAA;\n",
              "      --disabled-bg-color: #DDD;\n",
              "  }\n",
              "\n",
              "  [theme=dark] .colab-df-quickchart {\n",
              "      --bg-color: #3B4455;\n",
              "      --fill-color: #D2E3FC;\n",
              "      --hover-bg-color: #434B5C;\n",
              "      --hover-fill-color: #FFFFFF;\n",
              "      --disabled-bg-color: #3B4455;\n",
              "      --disabled-fill-color: #666;\n",
              "  }\n",
              "\n",
              "  .colab-df-quickchart {\n",
              "    background-color: var(--bg-color);\n",
              "    border: none;\n",
              "    border-radius: 50%;\n",
              "    cursor: pointer;\n",
              "    display: none;\n",
              "    fill: var(--fill-color);\n",
              "    height: 32px;\n",
              "    padding: 0;\n",
              "    width: 32px;\n",
              "  }\n",
              "\n",
              "  .colab-df-quickchart:hover {\n",
              "    background-color: var(--hover-bg-color);\n",
              "    box-shadow: 0 1px 2px rgba(60, 64, 67, 0.3), 0 1px 3px 1px rgba(60, 64, 67, 0.15);\n",
              "    fill: var(--button-hover-fill-color);\n",
              "  }\n",
              "\n",
              "  .colab-df-quickchart-complete:disabled,\n",
              "  .colab-df-quickchart-complete:disabled:hover {\n",
              "    background-color: var(--disabled-bg-color);\n",
              "    fill: var(--disabled-fill-color);\n",
              "    box-shadow: none;\n",
              "  }\n",
              "\n",
              "  .colab-df-spinner {\n",
              "    border: 2px solid var(--fill-color);\n",
              "    border-color: transparent;\n",
              "    border-bottom-color: var(--fill-color);\n",
              "    animation:\n",
              "      spin 1s steps(1) infinite;\n",
              "  }\n",
              "\n",
              "  @keyframes spin {\n",
              "    0% {\n",
              "      border-color: transparent;\n",
              "      border-bottom-color: var(--fill-color);\n",
              "      border-left-color: var(--fill-color);\n",
              "    }\n",
              "    20% {\n",
              "      border-color: transparent;\n",
              "      border-left-color: var(--fill-color);\n",
              "      border-top-color: var(--fill-color);\n",
              "    }\n",
              "    30% {\n",
              "      border-color: transparent;\n",
              "      border-left-color: var(--fill-color);\n",
              "      border-top-color: var(--fill-color);\n",
              "      border-right-color: var(--fill-color);\n",
              "    }\n",
              "    40% {\n",
              "      border-color: transparent;\n",
              "      border-right-color: var(--fill-color);\n",
              "      border-top-color: var(--fill-color);\n",
              "    }\n",
              "    60% {\n",
              "      border-color: transparent;\n",
              "      border-right-color: var(--fill-color);\n",
              "    }\n",
              "    80% {\n",
              "      border-color: transparent;\n",
              "      border-right-color: var(--fill-color);\n",
              "      border-bottom-color: var(--fill-color);\n",
              "    }\n",
              "    90% {\n",
              "      border-color: transparent;\n",
              "      border-bottom-color: var(--fill-color);\n",
              "    }\n",
              "  }\n",
              "</style>\n",
              "\n",
              "  <script>\n",
              "    async function quickchart(key) {\n",
              "      const quickchartButtonEl =\n",
              "        document.querySelector('#' + key + ' button');\n",
              "      quickchartButtonEl.disabled = true;  // To prevent multiple clicks.\n",
              "      quickchartButtonEl.classList.add('colab-df-spinner');\n",
              "      try {\n",
              "        const charts = await google.colab.kernel.invokeFunction(\n",
              "            'suggestCharts', [key], {});\n",
              "      } catch (error) {\n",
              "        console.error('Error during call to suggestCharts:', error);\n",
              "      }\n",
              "      quickchartButtonEl.classList.remove('colab-df-spinner');\n",
              "      quickchartButtonEl.classList.add('colab-df-quickchart-complete');\n",
              "    }\n",
              "    (() => {\n",
              "      let quickchartButtonEl =\n",
              "        document.querySelector('#df-dd6c30e1-031c-4d1b-bb1c-f34fe7cb2b98 button');\n",
              "      quickchartButtonEl.style.display =\n",
              "        google.colab.kernel.accessAllowed ? 'block' : 'none';\n",
              "    })();\n",
              "  </script>\n",
              "</div>\n",
              "\n",
              "    </div>\n",
              "  </div>\n"
            ],
            "application/vnd.google.colaboratory.intrinsic+json": {
              "type": "dataframe",
              "variable_name": "df",
              "summary": "{\n  \"name\": \"df\",\n  \"rows\": 10000,\n  \"fields\": [\n    {\n      \"column\": \"name\",\n      \"properties\": {\n        \"dtype\": \"category\",\n        \"num_unique_values\": 1623,\n        \"samples\": [\n          \"hh02\",\n          \"goe500\",\n          \"goe478\"\n        ],\n        \"semantic_type\": \"\",\n        \"description\": \"\"\n      }\n    },\n    {\n      \"column\": \"angle\",\n      \"properties\": {\n        \"dtype\": \"number\",\n        \"std\": 0.20727797477299165,\n        \"min\": 0.0,\n        \"max\": 1.0,\n        \"num_unique_values\": 159,\n        \"samples\": [\n          0.2578616352201258,\n          0.0062893081761006275,\n          0.9622641509433962\n        ],\n        \"semantic_type\": \"\",\n        \"description\": \"\"\n      }\n    },\n    {\n      \"column\": \"reynolds\",\n      \"properties\": {\n        \"dtype\": \"number\",\n        \"std\": 0.3804521162704044,\n        \"min\": 0.0,\n        \"max\": 1.0,\n        \"num_unique_values\": 5,\n        \"samples\": [\n          0.05263157894736842,\n          1.0,\n          0.0\n        ],\n        \"semantic_type\": \"\",\n        \"description\": \"\"\n      }\n    },\n    {\n      \"column\": \"x_coords\",\n      \"properties\": {\n        \"dtype\": \"object\",\n        \"semantic_type\": \"\",\n        \"description\": \"\"\n      }\n    },\n    {\n      \"column\": \"y_coords\",\n      \"properties\": {\n        \"dtype\": \"object\",\n        \"semantic_type\": \"\",\n        \"description\": \"\"\n      }\n    },\n    {\n      \"column\": \"target\",\n      \"properties\": {\n        \"dtype\": \"object\",\n        \"semantic_type\": \"\",\n        \"description\": \"\"\n      }\n    }\n  ]\n}"
            }
          },
          "metadata": {},
          "execution_count": 12
        }
      ]
    },
    {
      "cell_type": "code",
      "source": [
        "import concurrent.futures\n",
        "\n",
        "w = 300\n",
        "h = 100\n",
        "\n",
        "with concurrent.futures.ThreadPoolExecutor() as executor:\n",
        "    futures_shape = [executor.submit(airfoil_to_image, row['x_coords'], row['y_coords'], w, h) for _, row in df.iterrows()]\n",
        "    results_shape = [future.result() for future in futures_shape]"
      ],
      "metadata": {
        "id": "cZ2OBBzqYaKV"
      },
      "execution_count": 61,
      "outputs": []
    },
    {
      "cell_type": "code",
      "source": [
        "from cv2 import GaussianBlur\n",
        "\n",
        "df['shape'] = [GaussianBlur(x, (5, 5), 0) for x in results_shape]"
      ],
      "metadata": {
        "id": "v1ePuLHn4jmy"
      },
      "execution_count": 91,
      "outputs": []
    },
    {
      "cell_type": "code",
      "source": [
        "plt.imshow(df['shape'].iloc[0], cmap = 'hot')\n",
        "plt.tight_layout()\n",
        "plt.show()"
      ],
      "metadata": {
        "colab": {
          "base_uri": "https://localhost:8080/",
          "height": 259
        },
        "id": "VRmr4DS1UWC9",
        "outputId": "25f04de8-6e62-498d-dbe7-aab63cc13504"
      },
      "execution_count": 87,
      "outputs": [
        {
          "output_type": "display_data",
          "data": {
            "text/plain": [
              "<Figure size 640x480 with 1 Axes>"
            ],
            "image/png": "[encoded data removed]"
          },
          "metadata": {}
        }
      ]
    },
    {
      "cell_type": "code",
      "source": [
        "avg_airfoil = np.mean(results_shape, axis = 0)\n",
        "plt.imshow(avg_airfoil, cmap='hot')\n",
        "plt.tight_layout()"
      ],
      "metadata": {
        "colab": {
          "base_uri": "https://localhost:8080/",
          "height": 259
        },
        "id": "Imv1P0fXlBOy",
        "outputId": "f8d2eacd-17dd-4d55-e8be-f9d7c503f989"
      },
      "execution_count": 89,
      "outputs": [
        {
          "output_type": "display_data",
          "data": {
            "text/plain": [
              "<Figure size 640x480 with 1 Axes>"
            ],
            "image/png": "[encoded data removed]"
          },
          "metadata": {}
        }
      ]
    },
    {
      "cell_type": "code",
      "source": [
        "df['params'] = [x for x in np.column_stack((df['angle'], df['reynolds']))]"
      ],
      "metadata": {
        "id": "MAohPo1A5BUk"
      },
      "execution_count": 63,
      "outputs": []
    },
    {
      "cell_type": "code",
      "source": [
        "features = ['params', 'shape']\n",
        "\n",
        "X_train, X_test, y_train, y_test = train_test_split(\n",
        "    df[features],\n",
        "    df['target'],\n",
        "    test_size = 0.2,\n",
        "    random_state = 42,\n",
        "    shuffle = True\n",
        ")"
      ],
      "metadata": {
        "id": "ie4vQnVCw_I8"
      },
      "execution_count": 64,
      "outputs": []
    },
    {
      "cell_type": "code",
      "source": [
        "images_train = np.expand_dims(np.array([x for x in X_train['shape']], dtype='float32'), axis = -1)\n",
        "images_test = np.expand_dims(np.array([x for x in X_test['shape']], dtype='float32'), axis = -1)\n",
        "\n",
        "params_train = np.array([x for x in X_train['params']], dtype='float32')\n",
        "params_test = np.array([x for x in X_test['params']], dtype='float32')\n",
        "\n",
        "y_train = np.array([x for x in y_train])\n",
        "y_test = np.array([x for x in y_test])"
      ],
      "metadata": {
        "id": "XLMiwDN1sa11"
      },
      "execution_count": 98,
      "outputs": []
    },
    {
      "cell_type": "code",
      "source": [
        "images_train.shape, images_test.shape, params_train.shape, params_test.shape, y_train.shape, y_test.shape"
      ],
      "metadata": {
        "colab": {
          "base_uri": "https://localhost:8080/"
        },
        "id": "QenWDULT01vD",
        "outputId": "3fc1921e-f3e5-4459-f869-f0fc3081e7dd"
      },
      "execution_count": 99,
      "outputs": [
        {
          "output_type": "execute_result",
          "data": {
            "text/plain": [
              "((8000, 100, 300, 1),\n",
              " (2000, 100, 300, 1),\n",
              " (8000, 2),\n",
              " (2000, 2),\n",
              " (8000, 3),\n",
              " (2000, 3))"
            ]
          },
          "metadata": {},
          "execution_count": 99
        }
      ]
    },
    {
      "cell_type": "code",
      "source": [
        "import seaborn as sns\n",
        "\n",
        "sns.histplot(y_train[:, 2], label = 'cm', bins=100, alpha=0.5)\n",
        "sns.histplot(y_train[:, 0], label = 'cd', bins=100, alpha=0.5)\n",
        "sns.histplot(y_train[:, 1], label = 'cl', bins=100, alpha=0.5)\n",
        "plt.legend()\n",
        "plt.tight_layout()"
      ],
      "metadata": {
        "colab": {
          "base_uri": "https://localhost:8080/",
          "height": 487
        },
        "id": "HM7Sf-nntM-s",
        "outputId": "5186b503-4785-4ba8-a916-24624fdd1f20"
      },
      "execution_count": 29,
      "outputs": [
        {
          "output_type": "display_data",
          "data": {
            "text/plain": [
              "<Figure size 640x480 with 1 Axes>"
            ],
            "image/png": "[encoded data removed]"
          },
          "metadata": {}
        }
      ]
    },
    {
      "cell_type": "code",
      "source": [
        "from tensorflow.random import set_seed\n",
        "\n",
        "from tensorflow.keras import backend, Model\n",
        "from tensorflow.keras.callbacks import EarlyStopping, ModelCheckpoint\n",
        "from tensorflow.keras.models import Sequential, load_model\n",
        "from tensorflow.keras.optimizers import Adam\n",
        "from tensorflow.keras.layers import (\n",
        "    Input,\n",
        "    Conv2D,\n",
        "    MaxPooling2D,\n",
        "    ReLU,\n",
        "    Dense,\n",
        "    Flatten,\n",
        "    Dropout,\n",
        "    BatchNormalization,\n",
        "    Concatenate,\n",
        ")"
      ],
      "metadata": {
        "id": "PGqUE6R5k3BL"
      },
      "execution_count": 93,
      "outputs": []
    },
    {
      "cell_type": "code",
      "source": [
        "pip install -q keras-tuner"
      ],
      "metadata": {
        "colab": {
          "base_uri": "https://localhost:8080/"
        },
        "id": "aBJ8WOE2fwU_",
        "outputId": "71a0bc24-fa78-41b5-b8af-945c629cd484"
      },
      "execution_count": 94,
      "outputs": [
        {
          "output_type": "stream",
          "name": "stdout",
          "text": [
            "\u001b[?25l     \u001b[90m━━━━━━━━━━━━━━━━━━━━━━━━━━━━━━━━━━━━━━━━\u001b[0m \u001b[32m0.0/129.1 kB\u001b[0m \u001b[31m?\u001b[0m eta \u001b[36m-:--:--\u001b[0m\r\u001b[2K     \u001b[91m━━━━━━━━━━━━━━━━━━━━━━━━━━━━━━━━━━━━━━\u001b[0m\u001b[90m╺\u001b[0m\u001b[90m━\u001b[0m \u001b[32m122.9/129.1 kB\u001b[0m \u001b[31m3.9 MB/s\u001b[0m eta \u001b[36m0:00:01\u001b[0m\r\u001b[2K     \u001b[90m━━━━━━━━━━━━━━━━━━━━━━━━━━━━━━━━━━━━━━━━\u001b[0m \u001b[32m129.1/129.1 kB\u001b[0m \u001b[31m3.4 MB/s\u001b[0m eta \u001b[36m0:00:00\u001b[0m\n",
            "\u001b[?25h"
          ]
        }
      ]
    },
    {
      "cell_type": "code",
      "source": [
        "def build_model(hp, channels):\n",
        "\n",
        "    normalization_conv = hp.Choice(\"Normalization_conv\", [\"yes\", \"no\"])\n",
        "    normalization_dense = hp.Choice(\"Normalization_dense\", [\"yes\", \"no\"])\n",
        "\n",
        "    dropout_conv = hp.Choice(\"dropout_conv\", [\"yes\", \"no\"])\n",
        "    dropout_dense = hp.Choice(\"dropout_dense\", [\"yes\", \"no\"])\n",
        "\n",
        "    rate_dropout_conv = hp.Float(\n",
        "        \"rate_dropout_conv\", 0.1, 0.3, step = 0.1, default = 0.3\n",
        "    )\n",
        "    rate_dropout_dense = hp.Float(\n",
        "        \"rate_dropout_dense\", 0.1, 0.3, step = 0.1, default = 0.3\n",
        "    )\n",
        "\n",
        "    # CNN branch\n",
        "    cnn_input = Input(shape=(h, w, channels))\n",
        "    x = cnn_input\n",
        "\n",
        "    for i in range(hp.Int(\"conv_layers\", 2, 4)):\n",
        "        x = Conv2D(\n",
        "            filters=hp.Int(\n",
        "                \"filters_\" + str(i),\n",
        "                32,\n",
        "                128,\n",
        "                sampling = 'log',\n",
        "                step = 2,\n",
        "            ),\n",
        "            kernel_size=hp.Int(\"kernel_size_\" + str(i), 2, 4, step = 1),\n",
        "            activation=\"relu\",\n",
        "            padding=\"same\"\n",
        "        )(x)\n",
        "\n",
        "        x = MaxPooling2D()(x)\n",
        "\n",
        "        if dropout_conv == \"yes\":\n",
        "            x = Dropout(rate = rate_dropout_conv)(x)\n",
        "\n",
        "        if normalization_conv == \"yes\":\n",
        "            x = BatchNormalization()(x)\n",
        "\n",
        "    cnn_output = Flatten()(x)\n",
        "\n",
        "    # ANN branch\n",
        "    ann_input = Input(shape=(2,))\n",
        "    y = ann_input\n",
        "\n",
        "    for i in range(hp.Int(\"dense_layers\", 2, 4)):\n",
        "        ann_output = Dense(\n",
        "            units = hp.Int(\n",
        "                \"ann_neurons_\" + str(i),\n",
        "                32,\n",
        "                128,\n",
        "                sampling = 'log',\n",
        "                step = 2,\n",
        "            ),\n",
        "            activation = \"relu\",\n",
        "        )(y)\n",
        "\n",
        "    # Combine the outputs\n",
        "    combined_inputs = Concatenate()([cnn_output, ann_output])\n",
        "\n",
        "    for i in range(hp.Int(\"combined_dense_layers\", 2, 4)):\n",
        "        combined_output = Dense(\n",
        "            units = hp.Int(\n",
        "                \"combined_neurons_\" + str(i),\n",
        "                32,\n",
        "                128,\n",
        "                sampling = 'log',\n",
        "                step = 2,\n",
        "            ),\n",
        "            activation = \"relu\",\n",
        "        )(combined_inputs)\n",
        "\n",
        "        if dropout_dense == \"yes\":\n",
        "            x = Dropout(rate=rate_dropout_dense)(x)\n",
        "\n",
        "        if normalization_dense == \"yes\":\n",
        "            x = BatchNormalization()(x)\n",
        "\n",
        "    combined_output = Dense(units=3)(combined_output)\n",
        "\n",
        "    # Create the model\n",
        "    combined_model = Model(\n",
        "        inputs = [cnn_input, ann_input],\n",
        "        outputs = combined_output,\n",
        "        name = \"Combined_model\"\n",
        "    )\n",
        "\n",
        "\n",
        "    # Compile the model\n",
        "    combined_model.compile(\n",
        "        loss=\"mse\",\n",
        "        optimizer=Adam(learning_rate=0.0005),\n",
        "        metrics=['mae']\n",
        "    )\n",
        "\n",
        "    return combined_model"
      ],
      "metadata": {
        "id": "AIB8NTsXf7do"
      },
      "execution_count": 95,
      "outputs": []
    },
    {
      "cell_type": "code",
      "source": [
        "import keras_tuner as kt\n",
        "\n",
        "tuner = kt.Hyperband(\n",
        "    hypermodel = lambda hp: build_model(hp, channels=1),\n",
        "    objective = \"val_loss\",\n",
        "    max_epochs = 10,\n",
        "    hyperband_iterations = 2,\n",
        "    directory = PROJECT_PATH,\n",
        "    project_name = \"tuner\",\n",
        "    overwrite = True\n",
        ")\n",
        "\n",
        "tuner.search(\n",
        "    [images_train, params_train],\n",
        "    y_train,\n",
        "    epochs = 10,\n",
        "    batch_size = 32,\n",
        "    shuffle = True,\n",
        "    validation_split = 0.2,\n",
        ")\n",
        "\n",
        "best_model = tuner.get_best_models()[0]\n",
        "best_model.summary()\n",
        "best_model.save(ML_PATH / \"best_model_shape.keras\")"
      ],
      "metadata": {
        "colab": {
          "base_uri": "https://localhost:8080/"
        },
        "id": "xUoLJKTAjS6R",
        "outputId": "bc6afcc9-6a72-4c5f-cd18-dd73cb1f1b28"
      },
      "execution_count": 100,
      "outputs": [
        {
          "output_type": "stream",
          "name": "stdout",
          "text": [
            "Trial 60 Complete [00h 02m 12s]\n",
            "val_loss: 0.01835777796804905\n",
            "\n",
            "Best val_loss So Far: 0.003242496633902192\n",
            "Total elapsed time: 00h 57m 55s\n",
            "Model: \"Combined_model\"\n",
            "__________________________________________________________________________________________________\n",
            " Layer (type)                Output Shape                 Param #   Connected to                  \n",
            "==================================================================================================\n",
            " input_1 (InputLayer)        [(None, 100, 300, 1)]        0         []                            \n",
            "                                                                                                  \n",
            " conv2d (Conv2D)             (None, 100, 300, 128)        640       ['input_1[0][0]']             \n",
            "                                                                                                  \n",
            " max_pooling2d (MaxPooling2  (None, 50, 150, 128)         0         ['conv2d[0][0]']              \n",
            " D)                                                                                               \n",
            "                                                                                                  \n",
            " conv2d_1 (Conv2D)           (None, 50, 150, 128)         147584    ['max_pooling2d[0][0]']       \n",
            "                                                                                                  \n",
            " max_pooling2d_1 (MaxPoolin  (None, 25, 75, 128)          0         ['conv2d_1[0][0]']            \n",
            " g2D)                                                                                             \n",
            "                                                                                                  \n",
            " conv2d_2 (Conv2D)           (None, 25, 75, 32)           36896     ['max_pooling2d_1[0][0]']     \n",
            "                                                                                                  \n",
            " max_pooling2d_2 (MaxPoolin  (None, 12, 37, 32)           0         ['conv2d_2[0][0]']            \n",
            " g2D)                                                                                             \n",
            "                                                                                                  \n",
            " conv2d_3 (Conv2D)           (None, 12, 37, 32)           4128      ['max_pooling2d_2[0][0]']     \n",
            "                                                                                                  \n",
            " max_pooling2d_3 (MaxPoolin  (None, 6, 18, 32)            0         ['conv2d_3[0][0]']            \n",
            " g2D)                                                                                             \n",
            "                                                                                                  \n",
            " input_2 (InputLayer)        [(None, 2)]                  0         []                            \n",
            "                                                                                                  \n",
            " flatten (Flatten)           (None, 3456)                 0         ['max_pooling2d_3[0][0]']     \n",
            "                                                                                                  \n",
            " dense_2 (Dense)             (None, 32)                   96        ['input_2[0][0]']             \n",
            "                                                                                                  \n",
            " concatenate (Concatenate)   (None, 3488)                 0         ['flatten[0][0]',             \n",
            "                                                                     'dense_2[0][0]']             \n",
            "                                                                                                  \n",
            " dense_4 (Dense)             (None, 128)                  446592    ['concatenate[0][0]']         \n",
            "                                                                                                  \n",
            " dense_5 (Dense)             (None, 3)                    387       ['dense_4[0][0]']             \n",
            "                                                                                                  \n",
            "==================================================================================================\n",
            "Total params: 636323 (2.43 MB)\n",
            "Trainable params: 636323 (2.43 MB)\n",
            "Non-trainable params: 0 (0.00 Byte)\n",
            "__________________________________________________________________________________________________\n"
          ]
        }
      ]
    },
    {
      "cell_type": "code",
      "source": [
        "best_model = load_model(ML_PATH / \"best_model_shape.keras\")\n",
        "best_model.compile(\n",
        "    loss=\"mse\",\n",
        "    optimizer=Adam(learning_rate=0.0005),\n",
        "    metrics=['mae']\n",
        ")\n",
        "\n",
        "history = best_model.fit(\n",
        "    [images_train, params_train],\n",
        "    y_train,\n",
        "    epochs = 100,\n",
        "    batch_size = 32,\n",
        "    callbacks=checkpoint(ML_PATH / f\"weights_tuned_model.h5\", patience = 3),\n",
        "    validation_split = 0.2,\n",
        "    shuffle = True,\n",
        "    verbose = 1,\n",
        ")"
      ],
      "metadata": {
        "colab": {
          "base_uri": "https://localhost:8080/"
        },
        "id": "jQdW0S4CmmKb",
        "outputId": "c2f49d6e-600b-44fa-f79c-2d698fdfedb6"
      },
      "execution_count": 101,
      "outputs": [
        {
          "output_type": "stream",
          "name": "stderr",
          "text": [
            "WARNING:absl:Skipping variable loading for optimizer 'Adam', because it has 29 variables whereas the saved optimizer has 1 variables. \n",
            "WARNING:tensorflow:Detecting that an object or model or tf.train.Checkpoint is being deleted with unrestored values. See the following logs for the specific values in question. To silence these warnings, use `status.expect_partial()`. See https://www.tensorflow.org/api_docs/python/tf/train/Checkpoint#restorefor details about the status object returned by the restore function.\n",
            "WARNING:tensorflow:Value in checkpoint could not be found in the restored object: (root).optimizer._variables.1\n",
            "WARNING:tensorflow:Value in checkpoint could not be found in the restored object: (root).optimizer._variables.2\n",
            "WARNING:tensorflow:Value in checkpoint could not be found in the restored object: (root).optimizer._variables.3\n",
            "WARNING:tensorflow:Value in checkpoint could not be found in the restored object: (root).optimizer._variables.4\n",
            "WARNING:tensorflow:Value in checkpoint could not be found in the restored object: (root).optimizer._variables.5\n",
            "WARNING:tensorflow:Value in checkpoint could not be found in the restored object: (root).optimizer._variables.6\n",
            "WARNING:tensorflow:Value in checkpoint could not be found in the restored object: (root).optimizer._variables.7\n",
            "WARNING:tensorflow:Value in checkpoint could not be found in the restored object: (root).optimizer._variables.8\n",
            "WARNING:tensorflow:Value in checkpoint could not be found in the restored object: (root).optimizer._variables.9\n",
            "WARNING:tensorflow:Value in checkpoint could not be found in the restored object: (root).optimizer._variables.10\n",
            "WARNING:tensorflow:Value in checkpoint could not be found in the restored object: (root).optimizer._variables.11\n",
            "WARNING:tensorflow:Value in checkpoint could not be found in the restored object: (root).optimizer._variables.12\n",
            "WARNING:tensorflow:Value in checkpoint could not be found in the restored object: (root).optimizer._variables.13\n",
            "WARNING:tensorflow:Value in checkpoint could not be found in the restored object: (root).optimizer._variables.14\n",
            "WARNING:tensorflow:Value in checkpoint could not be found in the restored object: (root).optimizer._variables.15\n",
            "WARNING:tensorflow:Value in checkpoint could not be found in the restored object: (root).optimizer._variables.16\n",
            "WARNING:tensorflow:Value in checkpoint could not be found in the restored object: (root).optimizer._variables.17\n",
            "WARNING:tensorflow:Value in checkpoint could not be found in the restored object: (root).optimizer._variables.18\n",
            "WARNING:tensorflow:Value in checkpoint could not be found in the restored object: (root).optimizer._variables.19\n",
            "WARNING:tensorflow:Value in checkpoint could not be found in the restored object: (root).optimizer._variables.20\n",
            "WARNING:tensorflow:Value in checkpoint could not be found in the restored object: (root).optimizer._variables.21\n",
            "WARNING:tensorflow:Value in checkpoint could not be found in the restored object: (root).optimizer._variables.22\n",
            "WARNING:tensorflow:Value in checkpoint could not be found in the restored object: (root).optimizer._variables.23\n",
            "WARNING:tensorflow:Value in checkpoint could not be found in the restored object: (root).optimizer._variables.24\n",
            "WARNING:tensorflow:Value in checkpoint could not be found in the restored object: (root).optimizer._variables.25\n",
            "WARNING:tensorflow:Value in checkpoint could not be found in the restored object: (root).optimizer._variables.26\n",
            "WARNING:tensorflow:Value in checkpoint could not be found in the restored object: (root).optimizer._variables.27\n",
            "WARNING:tensorflow:Value in checkpoint could not be found in the restored object: (root).optimizer._variables.28\n",
            "WARNING:tensorflow:Detecting that an object or model or tf.train.Checkpoint is being deleted with unrestored values. See the following logs for the specific values in question. To silence these warnings, use `status.expect_partial()`. See https://www.tensorflow.org/api_docs/python/tf/train/Checkpoint#restorefor details about the status object returned by the restore function.\n",
            "WARNING:tensorflow:Value in checkpoint could not be found in the restored object: (root).optimizer._variables.1\n",
            "WARNING:tensorflow:Value in checkpoint could not be found in the restored object: (root).optimizer._variables.2\n",
            "WARNING:tensorflow:Value in checkpoint could not be found in the restored object: (root).optimizer._variables.3\n",
            "WARNING:tensorflow:Value in checkpoint could not be found in the restored object: (root).optimizer._variables.4\n",
            "WARNING:tensorflow:Value in checkpoint could not be found in the restored object: (root).optimizer._variables.5\n",
            "WARNING:tensorflow:Value in checkpoint could not be found in the restored object: (root).optimizer._variables.6\n",
            "WARNING:tensorflow:Value in checkpoint could not be found in the restored object: (root).optimizer._variables.7\n",
            "WARNING:tensorflow:Value in checkpoint could not be found in the restored object: (root).optimizer._variables.8\n",
            "WARNING:tensorflow:Value in checkpoint could not be found in the restored object: (root).optimizer._variables.9\n",
            "WARNING:tensorflow:Value in checkpoint could not be found in the restored object: (root).optimizer._variables.10\n",
            "WARNING:tensorflow:Value in checkpoint could not be found in the restored object: (root).optimizer._variables.11\n",
            "WARNING:tensorflow:Value in checkpoint could not be found in the restored object: (root).optimizer._variables.12\n",
            "WARNING:tensorflow:Value in checkpoint could not be found in the restored object: (root).optimizer._variables.13\n",
            "WARNING:tensorflow:Value in checkpoint could not be found in the restored object: (root).optimizer._variables.14\n",
            "WARNING:tensorflow:Value in checkpoint could not be found in the restored object: (root).optimizer._variables.15\n",
            "WARNING:tensorflow:Value in checkpoint could not be found in the restored object: (root).optimizer._variables.16\n",
            "WARNING:tensorflow:Value in checkpoint could not be found in the restored object: (root).optimizer._variables.17\n",
            "WARNING:tensorflow:Value in checkpoint could not be found in the restored object: (root).optimizer._variables.18\n",
            "WARNING:tensorflow:Value in checkpoint could not be found in the restored object: (root).optimizer._variables.19\n",
            "WARNING:tensorflow:Value in checkpoint could not be found in the restored object: (root).optimizer._variables.20\n",
            "WARNING:tensorflow:Value in checkpoint could not be found in the restored object: (root).optimizer._variables.21\n",
            "WARNING:tensorflow:Value in checkpoint could not be found in the restored object: (root).optimizer._variables.22\n",
            "WARNING:tensorflow:Value in checkpoint could not be found in the restored object: (root).optimizer._variables.23\n",
            "WARNING:tensorflow:Value in checkpoint could not be found in the restored object: (root).optimizer._variables.24\n",
            "WARNING:tensorflow:Value in checkpoint could not be found in the restored object: (root).optimizer._variables.25\n",
            "WARNING:tensorflow:Value in checkpoint could not be found in the restored object: (root).optimizer._variables.26\n",
            "WARNING:tensorflow:Value in checkpoint could not be found in the restored object: (root).optimizer._variables.27\n",
            "WARNING:tensorflow:Value in checkpoint could not be found in the restored object: (root).optimizer._variables.28\n"
          ]
        },
        {
          "output_type": "stream",
          "name": "stdout",
          "text": [
            "Epoch 1/100\n",
            "200/200 [==============================] - ETA: 0s - loss: 0.0027 - mae: 0.0372"
          ]
        },
        {
          "output_type": "stream",
          "name": "stderr",
          "text": [
            "/usr/local/lib/python3.10/dist-packages/keras/src/engine/training.py:3103: UserWarning: You are saving your model as an HDF5 file via `model.save()`. This file format is considered legacy. We recommend using instead the native Keras format, e.g. `model.save('my_model.keras')`.\n",
            "  saving_api.save_model(\n"
          ]
        },
        {
          "output_type": "stream",
          "name": "stdout",
          "text": [
            "\b\b\b\b\b\b\b\b\b\b\b\b\b\b\b\b\b\b\b\b\b\b\b\b\b\b\b\b\b\b\b\b\b\b\b\b\b\b\b\b\b\b\b\b\b\b\b\b\b\b\b\b\b\b\b\b\b\b\b\b\b\b\b\b\b\b\b\b\b\b\b\b\b\b\b\b\b\b\b\r200/200 [==============================] - 19s 85ms/step - loss: 0.0027 - mae: 0.0372 - val_loss: 0.0031 - val_mae: 0.0382\n",
            "Epoch 2/100\n",
            "200/200 [==============================] - 15s 73ms/step - loss: 0.0025 - mae: 0.0358 - val_loss: 0.0029 - val_mae: 0.0372\n",
            "Epoch 3/100\n",
            "200/200 [==============================] - 14s 71ms/step - loss: 0.0023 - mae: 0.0347 - val_loss: 0.0030 - val_mae: 0.0386\n",
            "Epoch 4/100\n",
            "200/200 [==============================] - 14s 71ms/step - loss: 0.0022 - mae: 0.0338 - val_loss: 0.0030 - val_mae: 0.0367\n",
            "Epoch 5/100\n",
            "200/200 [==============================] - 14s 71ms/step - loss: 0.0021 - mae: 0.0330 - val_loss: 0.0031 - val_mae: 0.0390\n"
          ]
        }
      ]
    },
    {
      "cell_type": "code",
      "source": [
        "best_model.evaluate([images_test, params_test], y_test)"
      ],
      "metadata": {
        "id": "xolHc2qB3xWK",
        "outputId": "b8228f4d-8c06-4afe-c886-0f03c6bd7792",
        "colab": {
          "base_uri": "https://localhost:8080/"
        }
      },
      "execution_count": 102,
      "outputs": [
        {
          "output_type": "stream",
          "name": "stdout",
          "text": [
            "63/63 [==============================] - 2s 27ms/step - loss: 0.0028 - mae: 0.0385\n"
          ]
        },
        {
          "output_type": "execute_result",
          "data": {
            "text/plain": [
              "[0.0028105995152145624, 0.038519810885190964]"
            ]
          },
          "metadata": {},
          "execution_count": 102
        }
      ]
    },
    {
      "cell_type": "code",
      "source": [
        "from tqdm import tqdm\n",
        "curvatures = [compute_curvature(img) for img in tqdm(df['shape'])]"
      ],
      "metadata": {
        "colab": {
          "base_uri": "https://localhost:8080/"
        },
        "id": "YVXczyzl8OBl",
        "outputId": "f269de6a-b443-41fe-db90-df3636abdc33"
      },
      "execution_count": 66,
      "outputs": [
        {
          "output_type": "stream",
          "name": "stderr",
          "text": [
            "100%|██████████| 10000/10000 [01:53<00:00, 87.79it/s]\n"
          ]
        }
      ]
    },
    {
      "cell_type": "code",
      "source": [
        "def image_generator(df, batch_size=32, h=h, w=w):\n",
        "    num_samples = len(df)\n",
        "    for start in range(0, num_samples, batch_size):\n",
        "        end = min(start + batch_size, num_samples)\n",
        "        batch_df = df.iloc[start:end]\n",
        "\n",
        "        combined_images = []\n",
        "        indices = []\n",
        "\n",
        "        for idx, row in batch_df.iterrows():\n",
        "            channel1 = np.array(row['shape'], dtype=np.float32)\n",
        "            channel2 = np.array(row['curvature'], dtype=np.float32)\n",
        "            combined_image = np.stack([channel1, channel2], axis=-1)\n",
        "            combined_images.append(combined_image)\n",
        "            indices.append(idx)\n",
        "\n",
        "        yield pd.DataFrame({'combined_image': combined_images}, index=indices)"
      ],
      "metadata": {
        "id": "c7W_NaVz8dM1"
      },
      "execution_count": 103,
      "outputs": []
    },
    {
      "cell_type": "code",
      "source": [
        "images_2_channels = pd.DataFrame()\n",
        "for batch in image_generator(df):\n",
        "    images_2_channels = pd.concat([images_2_channels, batch])"
      ],
      "metadata": {
        "id": "nUIWmCOg8eUG"
      },
      "execution_count": 104,
      "outputs": []
    },
    {
      "cell_type": "code",
      "source": [
        "df = pd.concat([df, images_2_channels], axis=1)"
      ],
      "metadata": {
        "id": "I0khN2HU8lrp"
      },
      "execution_count": 105,
      "outputs": []
    },
    {
      "cell_type": "code",
      "source": [
        "n = 150\n",
        "fig = plt.figure(figsize = (16, 6))\n",
        "fig.add_subplot(1, 2, 1)\n",
        "plt.imshow(df['shape'].iloc[n], cmap = 'hot')\n",
        "fig.add_subplot(1, 2, 2)\n",
        "plt.imshow(curvatures[n], cmap = 'hot_r')\n",
        "plt.tight_layout()"
      ],
      "metadata": {
        "colab": {
          "base_uri": "https://localhost:8080/",
          "height": 315
        },
        "id": "prctMuSK8qwX",
        "outputId": "90113ef7-47e1-407c-a792-d06a6f4614e1"
      },
      "execution_count": 106,
      "outputs": [
        {
          "output_type": "display_data",
          "data": {
            "text/plain": [
              "<Figure size 1600x600 with 2 Axes>"
            ],
            "image/png": "[encoded data removed]"
          },
          "metadata": {}
        }
      ]
    },
    {
      "cell_type": "code",
      "source": [
        "features = ['combined_image', 'params']\n",
        "\n",
        "X_train, X_test, y_train, y_test = train_test_split(\n",
        "    df[features],\n",
        "    df['target'],\n",
        "    test_size = 0.2,\n",
        "    random_state = 42,\n",
        "    shuffle = True\n",
        ")"
      ],
      "metadata": {
        "id": "6emyF6s981Fs"
      },
      "execution_count": 107,
      "outputs": []
    },
    {
      "cell_type": "code",
      "source": [
        "images_train = np.array([x for x in X_train['combined_image']], dtype='float32')\n",
        "images_test = np.array([x for x in X_test['combined_image']], dtype='float32')\n",
        "\n",
        "params_train = np.array([x for x in X_train['params']], dtype='float32')\n",
        "params_test = np.array([x for x in X_test['params']], dtype='float32')\n",
        "\n",
        "y_train = np.array([x for x in y_train])\n",
        "y_test = np.array([x for x in y_test])"
      ],
      "metadata": {
        "id": "L1j7KBJj86EI"
      },
      "execution_count": 111,
      "outputs": []
    },
    {
      "cell_type": "code",
      "source": [
        "images_train.shape, images_test.shape, params_train.shape, params_test.shape, y_train.shape, y_test.shape"
      ],
      "metadata": {
        "id": "oBqNsxcz9UHp",
        "outputId": "d28b31da-8147-4faa-984a-1f956528fb9c",
        "colab": {
          "base_uri": "https://localhost:8080/"
        }
      },
      "execution_count": 112,
      "outputs": [
        {
          "output_type": "execute_result",
          "data": {
            "text/plain": [
              "((8000, 100, 300, 2),\n",
              " (2000, 100, 300, 2),\n",
              " (8000, 2),\n",
              " (2000, 2),\n",
              " (8000, 3),\n",
              " (2000, 3))"
            ]
          },
          "metadata": {},
          "execution_count": 112
        }
      ]
    },
    {
      "cell_type": "code",
      "source": [
        "tuner = kt.Hyperband(\n",
        "    hypermodel = lambda hp: build_model(hp, channels=2),\n",
        "    objective = \"val_loss\",\n",
        "    max_epochs = 10,\n",
        "    hyperband_iterations = 2,\n",
        "    directory = PROJECT_PATH,\n",
        "    project_name = \"tuner\",\n",
        "    overwrite = True\n",
        ")\n",
        "\n",
        "tuner.search(\n",
        "    [images_train, params_train],\n",
        "    y_train,\n",
        "    epochs = 10,\n",
        "    batch_size = 32,\n",
        "    shuffle = True,\n",
        "    validation_split = 0.2,\n",
        ")\n",
        "\n",
        "best_model = tuner.get_best_models()[0]\n",
        "best_model.summary()\n",
        "best_model.save(ML_PATH / \"best_model_curvature.keras\")"
      ],
      "metadata": {
        "id": "JkqVMUma9aId",
        "outputId": "e492e47d-4fa8-4423-f728-045e585c2e1c",
        "colab": {
          "base_uri": "https://localhost:8080/"
        }
      },
      "execution_count": 113,
      "outputs": [
        {
          "output_type": "stream",
          "name": "stdout",
          "text": [
            "Trial 60 Complete [00h 02m 02s]\n",
            "val_loss: 0.0035377047024667263\n",
            "\n",
            "Best val_loss So Far: 0.003119562054052949\n",
            "Total elapsed time: 01h 00m 01s\n",
            "Model: \"Combined_model\"\n",
            "__________________________________________________________________________________________________\n",
            " Layer (type)                Output Shape                 Param #   Connected to                  \n",
            "==================================================================================================\n",
            " input_1 (InputLayer)        [(None, 100, 300, 2)]        0         []                            \n",
            "                                                                                                  \n",
            " conv2d (Conv2D)             (None, 100, 300, 32)         1056      ['input_1[0][0]']             \n",
            "                                                                                                  \n",
            " max_pooling2d (MaxPooling2  (None, 50, 150, 32)          0         ['conv2d[0][0]']              \n",
            " D)                                                                                               \n",
            "                                                                                                  \n",
            " conv2d_1 (Conv2D)           (None, 50, 150, 32)          16416     ['max_pooling2d[0][0]']       \n",
            "                                                                                                  \n",
            " max_pooling2d_1 (MaxPoolin  (None, 25, 75, 32)           0         ['conv2d_1[0][0]']            \n",
            " g2D)                                                                                             \n",
            "                                                                                                  \n",
            " conv2d_2 (Conv2D)           (None, 25, 75, 64)           32832     ['max_pooling2d_1[0][0]']     \n",
            "                                                                                                  \n",
            " max_pooling2d_2 (MaxPoolin  (None, 12, 37, 64)           0         ['conv2d_2[0][0]']            \n",
            " g2D)                                                                                             \n",
            "                                                                                                  \n",
            " input_2 (InputLayer)        [(None, 2)]                  0         []                            \n",
            "                                                                                                  \n",
            " flatten (Flatten)           (None, 28416)                0         ['max_pooling2d_2[0][0]']     \n",
            "                                                                                                  \n",
            " dense_2 (Dense)             (None, 64)                   192       ['input_2[0][0]']             \n",
            "                                                                                                  \n",
            " concatenate (Concatenate)   (None, 28480)                0         ['flatten[0][0]',             \n",
            "                                                                     'dense_2[0][0]']             \n",
            "                                                                                                  \n",
            " dense_6 (Dense)             (None, 128)                  3645568   ['concatenate[0][0]']         \n",
            "                                                                                                  \n",
            " dense_7 (Dense)             (None, 3)                    387       ['dense_6[0][0]']             \n",
            "                                                                                                  \n",
            "==================================================================================================\n",
            "Total params: 3696451 (14.10 MB)\n",
            "Trainable params: 3696451 (14.10 MB)\n",
            "Non-trainable params: 0 (0.00 Byte)\n",
            "__________________________________________________________________________________________________\n"
          ]
        }
      ]
    },
    {
      "cell_type": "code",
      "source": [
        "best_model = load_model(ML_PATH / \"best_model_curvature.keras\")\n",
        "best_model.compile(\n",
        "    loss=\"mse\",\n",
        "    optimizer=Adam(learning_rate=0.0005),\n",
        "    metrics=['mae']\n",
        ")\n",
        "\n",
        "history = best_model.fit(\n",
        "    [images_train, params_train],\n",
        "    y_train,\n",
        "    epochs = 100,\n",
        "    batch_size = 32,\n",
        "    callbacks=checkpoint(ML_PATH / f\"weights_tuned_model.h5\", patience = 3),\n",
        "    validation_split = 0.2,\n",
        "    shuffle = True,\n",
        "    verbose = 1,\n",
        ")"
      ],
      "metadata": {
        "id": "rPIE0R5D-LKS",
        "outputId": "f8dd1712-4559-44f3-afad-0e09045cde56",
        "colab": {
          "base_uri": "https://localhost:8080/"
        }
      },
      "execution_count": 114,
      "outputs": [
        {
          "output_type": "stream",
          "name": "stderr",
          "text": [
            "WARNING:absl:Skipping variable loading for optimizer 'Adam', because it has 25 variables whereas the saved optimizer has 1 variables. \n",
            "WARNING:tensorflow:Detecting that an object or model or tf.train.Checkpoint is being deleted with unrestored values. See the following logs for the specific values in question. To silence these warnings, use `status.expect_partial()`. See https://www.tensorflow.org/api_docs/python/tf/train/Checkpoint#restorefor details about the status object returned by the restore function.\n",
            "WARNING:tensorflow:Value in checkpoint could not be found in the restored object: (root).optimizer._variables.1\n",
            "WARNING:tensorflow:Value in checkpoint could not be found in the restored object: (root).optimizer._variables.2\n",
            "WARNING:tensorflow:Value in checkpoint could not be found in the restored object: (root).optimizer._variables.3\n",
            "WARNING:tensorflow:Value in checkpoint could not be found in the restored object: (root).optimizer._variables.4\n",
            "WARNING:tensorflow:Value in checkpoint could not be found in the restored object: (root).optimizer._variables.5\n",
            "WARNING:tensorflow:Value in checkpoint could not be found in the restored object: (root).optimizer._variables.6\n",
            "WARNING:tensorflow:Value in checkpoint could not be found in the restored object: (root).optimizer._variables.7\n",
            "WARNING:tensorflow:Value in checkpoint could not be found in the restored object: (root).optimizer._variables.8\n",
            "WARNING:tensorflow:Value in checkpoint could not be found in the restored object: (root).optimizer._variables.9\n",
            "WARNING:tensorflow:Value in checkpoint could not be found in the restored object: (root).optimizer._variables.10\n",
            "WARNING:tensorflow:Value in checkpoint could not be found in the restored object: (root).optimizer._variables.11\n",
            "WARNING:tensorflow:Value in checkpoint could not be found in the restored object: (root).optimizer._variables.12\n",
            "WARNING:tensorflow:Value in checkpoint could not be found in the restored object: (root).optimizer._variables.13\n",
            "WARNING:tensorflow:Value in checkpoint could not be found in the restored object: (root).optimizer._variables.14\n",
            "WARNING:tensorflow:Value in checkpoint could not be found in the restored object: (root).optimizer._variables.15\n",
            "WARNING:tensorflow:Value in checkpoint could not be found in the restored object: (root).optimizer._variables.16\n",
            "WARNING:tensorflow:Value in checkpoint could not be found in the restored object: (root).optimizer._variables.17\n",
            "WARNING:tensorflow:Value in checkpoint could not be found in the restored object: (root).optimizer._variables.18\n",
            "WARNING:tensorflow:Value in checkpoint could not be found in the restored object: (root).optimizer._variables.19\n",
            "WARNING:tensorflow:Value in checkpoint could not be found in the restored object: (root).optimizer._variables.20\n",
            "WARNING:tensorflow:Value in checkpoint could not be found in the restored object: (root).optimizer._variables.21\n",
            "WARNING:tensorflow:Value in checkpoint could not be found in the restored object: (root).optimizer._variables.22\n",
            "WARNING:tensorflow:Value in checkpoint could not be found in the restored object: (root).optimizer._variables.23\n",
            "WARNING:tensorflow:Value in checkpoint could not be found in the restored object: (root).optimizer._variables.24\n",
            "WARNING:tensorflow:Detecting that an object or model or tf.train.Checkpoint is being deleted with unrestored values. See the following logs for the specific values in question. To silence these warnings, use `status.expect_partial()`. See https://www.tensorflow.org/api_docs/python/tf/train/Checkpoint#restorefor details about the status object returned by the restore function.\n",
            "WARNING:tensorflow:Value in checkpoint could not be found in the restored object: (root).optimizer._variables.1\n",
            "WARNING:tensorflow:Value in checkpoint could not be found in the restored object: (root).optimizer._variables.2\n",
            "WARNING:tensorflow:Value in checkpoint could not be found in the restored object: (root).optimizer._variables.3\n",
            "WARNING:tensorflow:Value in checkpoint could not be found in the restored object: (root).optimizer._variables.4\n",
            "WARNING:tensorflow:Value in checkpoint could not be found in the restored object: (root).optimizer._variables.5\n",
            "WARNING:tensorflow:Value in checkpoint could not be found in the restored object: (root).optimizer._variables.6\n",
            "WARNING:tensorflow:Value in checkpoint could not be found in the restored object: (root).optimizer._variables.7\n",
            "WARNING:tensorflow:Value in checkpoint could not be found in the restored object: (root).optimizer._variables.8\n",
            "WARNING:tensorflow:Value in checkpoint could not be found in the restored object: (root).optimizer._variables.9\n",
            "WARNING:tensorflow:Value in checkpoint could not be found in the restored object: (root).optimizer._variables.10\n",
            "WARNING:tensorflow:Value in checkpoint could not be found in the restored object: (root).optimizer._variables.11\n",
            "WARNING:tensorflow:Value in checkpoint could not be found in the restored object: (root).optimizer._variables.12\n",
            "WARNING:tensorflow:Value in checkpoint could not be found in the restored object: (root).optimizer._variables.13\n",
            "WARNING:tensorflow:Value in checkpoint could not be found in the restored object: (root).optimizer._variables.14\n",
            "WARNING:tensorflow:Value in checkpoint could not be found in the restored object: (root).optimizer._variables.15\n",
            "WARNING:tensorflow:Value in checkpoint could not be found in the restored object: (root).optimizer._variables.16\n",
            "WARNING:tensorflow:Value in checkpoint could not be found in the restored object: (root).optimizer._variables.17\n",
            "WARNING:tensorflow:Value in checkpoint could not be found in the restored object: (root).optimizer._variables.18\n",
            "WARNING:tensorflow:Value in checkpoint could not be found in the restored object: (root).optimizer._variables.19\n",
            "WARNING:tensorflow:Value in checkpoint could not be found in the restored object: (root).optimizer._variables.20\n",
            "WARNING:tensorflow:Value in checkpoint could not be found in the restored object: (root).optimizer._variables.21\n",
            "WARNING:tensorflow:Value in checkpoint could not be found in the restored object: (root).optimizer._variables.22\n",
            "WARNING:tensorflow:Value in checkpoint could not be found in the restored object: (root).optimizer._variables.23\n",
            "WARNING:tensorflow:Value in checkpoint could not be found in the restored object: (root).optimizer._variables.24\n"
          ]
        },
        {
          "output_type": "stream",
          "name": "stdout",
          "text": [
            "Epoch 1/100\n",
            "199/200 [============================>.] - ETA: 0s - loss: 0.0025 - mae: 0.0357"
          ]
        },
        {
          "output_type": "stream",
          "name": "stderr",
          "text": [
            "/usr/local/lib/python3.10/dist-packages/keras/src/engine/training.py:3103: UserWarning: You are saving your model as an HDF5 file via `model.save()`. This file format is considered legacy. We recommend using instead the native Keras format, e.g. `model.save('my_model.keras')`.\n",
            "  saving_api.save_model(\n"
          ]
        },
        {
          "output_type": "stream",
          "name": "stdout",
          "text": [
            "\b\b\b\b\b\b\b\b\b\b\b\b\b\b\b\b\b\b\b\b\b\b\b\b\b\b\b\b\b\b\b\b\b\b\b\b\b\b\b\b\b\b\b\b\b\b\b\b\b\b\b\b\b\b\b\b\b\b\b\b\b\b\b\b\b\b\b\b\b\b\b\b\b\b\b\b\b\b\b\r200/200 [==============================] - 8s 33ms/step - loss: 0.0025 - mae: 0.0357 - val_loss: 0.0031 - val_mae: 0.0370\n",
            "Epoch 2/100\n",
            "200/200 [==============================] - 6s 28ms/step - loss: 0.0022 - mae: 0.0339 - val_loss: 0.0031 - val_mae: 0.0370\n",
            "Epoch 3/100\n",
            "200/200 [==============================] - 6s 28ms/step - loss: 0.0020 - mae: 0.0324 - val_loss: 0.0032 - val_mae: 0.0386\n",
            "Epoch 4/100\n",
            "200/200 [==============================] - 6s 31ms/step - loss: 0.0020 - mae: 0.0326 - val_loss: 0.0030 - val_mae: 0.0373\n",
            "Epoch 5/100\n",
            "200/200 [==============================] - 6s 29ms/step - loss: 0.0017 - mae: 0.0298 - val_loss: 0.0028 - val_mae: 0.0349\n",
            "Epoch 6/100\n",
            "200/200 [==============================] - 6s 28ms/step - loss: 0.0016 - mae: 0.0291 - val_loss: 0.0029 - val_mae: 0.0356\n",
            "Epoch 7/100\n",
            "200/200 [==============================] - 6s 32ms/step - loss: 0.0015 - mae: 0.0281 - val_loss: 0.0028 - val_mae: 0.0350\n",
            "Epoch 8/100\n",
            "200/200 [==============================] - 6s 29ms/step - loss: 0.0015 - mae: 0.0276 - val_loss: 0.0029 - val_mae: 0.0355\n",
            "Epoch 9/100\n",
            "200/200 [==============================] - 6s 29ms/step - loss: 0.0014 - mae: 0.0276 - val_loss: 0.0032 - val_mae: 0.0391\n",
            "Epoch 10/100\n",
            "200/200 [==============================] - 6s 31ms/step - loss: 0.0013 - mae: 0.0261 - val_loss: 0.0027 - val_mae: 0.0356\n",
            "Epoch 11/100\n",
            "200/200 [==============================] - 6s 29ms/step - loss: 0.0013 - mae: 0.0259 - val_loss: 0.0026 - val_mae: 0.0331\n",
            "Epoch 12/100\n",
            "200/200 [==============================] - 6s 29ms/step - loss: 0.0012 - mae: 0.0244 - val_loss: 0.0025 - val_mae: 0.0324\n",
            "Epoch 13/100\n",
            "200/200 [==============================] - 6s 29ms/step - loss: 0.0011 - mae: 0.0244 - val_loss: 0.0025 - val_mae: 0.0322\n",
            "Epoch 14/100\n",
            "200/200 [==============================] - 6s 29ms/step - loss: 0.0011 - mae: 0.0239 - val_loss: 0.0025 - val_mae: 0.0328\n",
            "Epoch 15/100\n",
            "200/200 [==============================] - 6s 29ms/step - loss: 0.0010 - mae: 0.0231 - val_loss: 0.0025 - val_mae: 0.0325\n",
            "Epoch 16/100\n",
            "200/200 [==============================] - 6s 29ms/step - loss: 9.8639e-04 - mae: 0.0227 - val_loss: 0.0026 - val_mae: 0.0336\n"
          ]
        }
      ]
    },
    {
      "cell_type": "code",
      "source": [
        "best_model.evaluate([images_test, params_test], y_test)"
      ],
      "metadata": {
        "id": "A3bI5oRX-_TZ",
        "outputId": "4f284876-c504-40f0-d35b-faf5ee66dbb3",
        "colab": {
          "base_uri": "https://localhost:8080/"
        }
      },
      "execution_count": 115,
      "outputs": [
        {
          "output_type": "stream",
          "name": "stdout",
          "text": [
            "63/63 [==============================] - 1s 13ms/step - loss: 0.0024 - mae: 0.0328\n"
          ]
        },
        {
          "output_type": "execute_result",
          "data": {
            "text/plain": [
              "[0.002358474535867572, 0.03284493461251259]"
            ]
          },
          "metadata": {},
          "execution_count": 115
        }
      ]
    }
  ],
  "metadata": {
    "colab": {
      "provenance": [],
      "machine_shape": "hm",
      "gpuType": "T4",
      "include_colab_link": true
    },
    "kernelspec": {
      "display_name": "Python 3",
      "name": "python3"
    },
    "language_info": {
      "name": "python"
    },
    "accelerator": "GPU"
  },
  "nbformat": 4,
  "nbformat_minor": 0
}